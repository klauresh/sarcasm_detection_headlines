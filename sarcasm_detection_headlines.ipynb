{
 "cells": [
  {
   "cell_type": "markdown",
   "metadata": {
    "colab_type": "text",
    "id": "VfTGyC8lyn7_"
   },
   "source": [
    "# Import of libraries and files"
   ]
  },
  {
   "cell_type": "code",
   "execution_count": 1,
   "metadata": {
    "colab": {
     "base_uri": "https://localhost:8080/",
     "height": 476
    },
    "colab_type": "code",
    "collapsed": false,
    "id": "8ybk7r4rx5_A",
    "outputId": "12cbd84f-3099-4aa2-f0bd-469e3137f0ab"
   },
   "outputs": [
    {
     "name": "stderr",
     "output_type": "stream",
     "text": [
      "Using TensorFlow backend.\n"
     ]
    }
   ],
   "source": [
    "import pandas as pd\n",
    "import numpy as np\n",
    "import os\n",
    "import nltk\n",
    "from nltk.corpus import stopwords\n",
    "from nltk.stem.porter import PorterStemmer\n",
    "from collections import Counter\n",
    "import string\n",
    "from sklearn.model_selection import train_test_split\n",
    "from sklearn.feature_extraction.text import TfidfVectorizer\n",
    "from sklearn.metrics import accuracy_score\n",
    "from sklearn.pipeline import make_pipeline\n",
    "from sklearn.naive_bayes import MultinomialNB\n",
    "from sklearn.metrics import confusion_matrix\n",
    "import joblib\n",
    "from keras.preprocessing.text import Tokenizer\n",
    "from keras.preprocessing import sequence\n",
    "from keras.models import Sequential, load_model\n",
    "from keras.layers import Dense, Embedding, LSTM, Bidirectional\n",
    "from keras.callbacks import EarlyStopping, ModelCheckpoint\n",
    "import h5py\n",
    "import matplotlib.pyplot as plt\n",
    "%matplotlib inline\n",
    "import warnings\n",
    "warnings.filterwarnings(\"ignore\")\n",
    "import ndjson\n",
    "import json\n",
    "\n",
    "from src.process_ndjson_to_json import process_ndjson_to_json\n",
    "from src.preprocess_texts import preprocess_texts\n",
    "from src.load_build_embeddings import load_embeddings, build_matrix\n",
    "from src.build_evaluate_nn import build_nn_with_embeddings, evaluate_nn\n",
    "from src.plot_accuracy_loss import plot_accuracy, plot_loss\n",
    "from src.plot_confusion_matrix import plot_confusion_matrix"
   ]
  },
  {
   "cell_type": "code",
   "execution_count": 3,
   "metadata": {
    "colab": {},
    "colab_type": "code",
    "collapsed": true,
    "id": "XzZbIMuZza-q"
   },
   "outputs": [],
   "source": [
    "# data is in new line delimited json format so I use ndjson library to open it\n",
    "ndjson_file = 'data/raw/data.json'\n",
    "json_file = 'data/processed/data_final.json'"
   ]
  },
  {
   "cell_type": "code",
   "execution_count": 0,
   "metadata": {
    "colab": {},
    "colab_type": "code",
    "collapsed": true,
    "id": "hGTqqPAdybux"
   },
   "outputs": [],
   "source": [
    "data_json = process_ndjson_to_json(ndjson_file, json_file)"
   ]
  },
  {
   "cell_type": "code",
   "execution_count": 4,
   "metadata": {
    "colab": {},
    "colab_type": "code",
    "collapsed": false,
    "id": "J3unIfvh5ri3"
   },
   "outputs": [],
   "source": [
    "data = pd.read_json(json_file, orient=\"records\")"
   ]
  },
  {
   "cell_type": "code",
   "execution_count": 0,
   "metadata": {
    "colab": {
     "base_uri": "https://localhost:8080/",
     "height": 204
    },
    "colab_type": "code",
    "collapsed": false,
    "id": "RDDE-BvI7TzP",
    "outputId": "eb3e45b3-e0be-4f01-e4af-e19e5742a950"
   },
   "outputs": [
    {
     "data": {
      "text/html": [
       "<div>\n",
       "<style scoped>\n",
       "    .dataframe tbody tr th:only-of-type {\n",
       "        vertical-align: middle;\n",
       "    }\n",
       "\n",
       "    .dataframe tbody tr th {\n",
       "        vertical-align: top;\n",
       "    }\n",
       "\n",
       "    .dataframe thead th {\n",
       "        text-align: right;\n",
       "    }\n",
       "</style>\n",
       "<table border=\"1\" class=\"dataframe\">\n",
       "  <thead>\n",
       "    <tr style=\"text-align: right;\">\n",
       "      <th></th>\n",
       "      <th>headline</th>\n",
       "      <th>is_sarcastic</th>\n",
       "    </tr>\n",
       "  </thead>\n",
       "  <tbody>\n",
       "    <tr>\n",
       "      <th>0</th>\n",
       "      <td>former versace store clerk sues over secret 'b...</td>\n",
       "      <td>0</td>\n",
       "    </tr>\n",
       "    <tr>\n",
       "      <th>1</th>\n",
       "      <td>the 'roseanne' revival catches up to our thorn...</td>\n",
       "      <td>0</td>\n",
       "    </tr>\n",
       "    <tr>\n",
       "      <th>2</th>\n",
       "      <td>mom starting to fear son's web series closest ...</td>\n",
       "      <td>1</td>\n",
       "    </tr>\n",
       "    <tr>\n",
       "      <th>3</th>\n",
       "      <td>boehner just wants wife to listen, not come up...</td>\n",
       "      <td>1</td>\n",
       "    </tr>\n",
       "    <tr>\n",
       "      <th>4</th>\n",
       "      <td>j.k. rowling wishes snape happy birthday in th...</td>\n",
       "      <td>0</td>\n",
       "    </tr>\n",
       "  </tbody>\n",
       "</table>\n",
       "</div>"
      ],
      "text/plain": [
       "                                            headline  is_sarcastic\n",
       "0  former versace store clerk sues over secret 'b...             0\n",
       "1  the 'roseanne' revival catches up to our thorn...             0\n",
       "2  mom starting to fear son's web series closest ...             1\n",
       "3  boehner just wants wife to listen, not come up...             1\n",
       "4  j.k. rowling wishes snape happy birthday in th...             0"
      ]
     },
     "execution_count": 39,
     "metadata": {
      "tags": []
     },
     "output_type": "execute_result"
    }
   ],
   "source": [
    "data.head()"
   ]
  },
  {
   "cell_type": "code",
   "execution_count": 0,
   "metadata": {
    "colab": {
     "base_uri": "https://localhost:8080/",
     "height": 34
    },
    "colab_type": "code",
    "collapsed": false,
    "id": "D0dpdQVYABrW",
    "outputId": "e901904c-f5e7-4e48-8dcb-738caa7f3e0f"
   },
   "outputs": [
    {
     "name": "stdout",
     "output_type": "stream",
     "text": [
      "There are 26709 headlines\n"
     ]
    }
   ],
   "source": [
    "print(f'There are {data.shape[0]} headlines')"
   ]
  },
  {
   "cell_type": "code",
   "execution_count": 0,
   "metadata": {
    "colab": {
     "base_uri": "https://localhost:8080/",
     "height": 68
    },
    "colab_type": "code",
    "collapsed": false,
    "id": "I-6aA208NV_T",
    "outputId": "4c7e05be-410d-448d-f438-bad8fc83b98b"
   },
   "outputs": [
    {
     "data": {
      "text/plain": [
       "0    0.561047\n",
       "1    0.438953\n",
       "Name: is_sarcastic, dtype: float64"
      ]
     },
     "execution_count": 41,
     "metadata": {
      "tags": []
     },
     "output_type": "execute_result"
    }
   ],
   "source": [
    "# checking number of sarcastic and non-sarcastic comments\n",
    "data['is_sarcastic'].value_counts()/len(data)"
   ]
  },
  {
   "cell_type": "markdown",
   "metadata": {
    "colab_type": "text",
    "id": "VJ8mrCL3No2_"
   },
   "source": [
    "Classes are rather balanced so accuracy can be used as classification metric."
   ]
  },
  {
   "cell_type": "markdown",
   "metadata": {
    "colab_type": "text",
    "id": "ZNJ5huWPArQc"
   },
   "source": [
    "# Assigning variables"
   ]
  },
  {
   "cell_type": "code",
   "execution_count": 5,
   "metadata": {
    "colab": {},
    "colab_type": "code",
    "collapsed": false,
    "id": "GRQ9xaIBAnSi"
   },
   "outputs": [],
   "source": [
    "X = data[\"headline\"]\n",
    "y = data[\"is_sarcastic\"]\n",
    "\n",
    "X_train, X_test, y_train, y_test = train_test_split(X, y, test_size=0.15, \n",
    "                                                          random_state=42)\n",
    "X_train, X_val, y_train, y_val = train_test_split(X_train, y_train, test_size=0.15, \n",
    "                                                          random_state=52)"
   ]
  },
  {
   "cell_type": "markdown",
   "metadata": {
    "colab_type": "text",
    "id": "amk8ijVect0U"
   },
   "source": [
    "# 1st approach: Naive Bayes"
   ]
  },
  {
   "cell_type": "markdown",
   "metadata": {
    "colab_type": "text",
    "id": "LTVoI8NeO028"
   },
   "source": [
    "Naive Bayes is a simple classifier which is often used in NLP tasks like spam detection. Even though one of its assumptions (independency between words) is actually almost never fulfilled it still scores well. I will try how it copes with sarcasm detection."
   ]
  },
  {
   "cell_type": "markdown",
   "metadata": {
    "colab_type": "text",
    "id": "cHEixHXXSW3M"
   },
   "source": [
    "For vectorization I will use Tf-idf Vectorizer which attaches high weight to words rare in a document collection but frequent in a particular document, such words are discriminative for documents."
   ]
  },
  {
   "cell_type": "code",
   "execution_count": 26,
   "metadata": {
    "colab": {},
    "colab_type": "code",
    "collapsed": false,
    "id": "iqiaAsLBEpk4"
   },
   "outputs": [
    {
     "data": {
      "text/plain": [
       "Pipeline(memory=None,\n",
       "     steps=[('tfidfvectorizer', TfidfVectorizer(analyzer='word', binary=False, decode_error='strict',\n",
       "        dtype=<class 'numpy.float64'>, encoding='utf-8', input='content',\n",
       "        lowercase=True, max_df=1.0, max_features=None, min_df=1,\n",
       "        ngram_range=(1, 1), norm='l2', preprocessor=None, smooth...   vocabulary=None)), ('multinomialnb', MultinomialNB(alpha=1.0, class_prior=None, fit_prior=True))])"
      ]
     },
     "execution_count": 26,
     "metadata": {},
     "output_type": "execute_result"
    }
   ],
   "source": [
    "model = make_pipeline(TfidfVectorizer(), MultinomialNB())\n",
    "model.fit(X_train, y_train)"
   ]
  },
  {
   "cell_type": "code",
   "execution_count": 27,
   "metadata": {
    "colab": {
     "base_uri": "https://localhost:8080/",
     "height": 51
    },
    "colab_type": "code",
    "collapsed": false,
    "id": "8BxVyuwtS-5x",
    "outputId": "970bdb4e-9b68-4b79-d613-2a5ed36acb73"
   },
   "outputs": [
    {
     "name": "stdout",
     "output_type": "stream",
     "text": [
      "Accuracy on train set: 0.9156301824212272\n",
      "Accuracy on validation set: 0.8206106870229007\n"
     ]
    }
   ],
   "source": [
    "print(f'Accuracy on train set: {accuracy_score(y_train, model.predict(X_train))}')\n",
    "print(f'Accuracy on validation set: {accuracy_score(y_val, model.predict(X_val))}')"
   ]
  },
  {
   "cell_type": "markdown",
   "metadata": {
    "colab_type": "text",
    "id": "Gi8tEUiA7aZ3"
   },
   "source": [
    "The score 82% on validation set is a decent one. Let's check if more complicated approach gives better results."
   ]
  },
  {
   "cell_type": "markdown",
   "metadata": {
    "colab_type": "text",
    "id": "MZN2cl-n_442"
   },
   "source": [
    "# 2nd approach: pretrained Embeddings + LSTM"
   ]
  },
  {
   "cell_type": "markdown",
   "metadata": {
    "colab_type": "text",
    "id": "1H2cnhc0lxVz"
   },
   "source": [
    "Second approach should be more powerful as it includes word embeddings (vectorized reprezentation of words based on their context and relationship between words compared to tf_idf matrix which is based on frequencies only) and LSTM neural network, which can \"remember\" context (words that were before)."
   ]
  },
  {
   "cell_type": "markdown",
   "metadata": {
    "colab_type": "text",
    "id": "-87_DLwY5nIJ"
   },
   "source": [
    "## Text preprocessing for LSTM"
   ]
  },
  {
   "cell_type": "code",
   "execution_count": 6,
   "metadata": {
    "colab": {
     "base_uri": "https://localhost:8080/",
     "height": 51
    },
    "colab_type": "code",
    "collapsed": false,
    "id": "lPmVWJ5i5rBV",
    "outputId": "c2e74f38-9329-40ba-ba96-28cbede6eccb"
   },
   "outputs": [
    {
     "name": "stdout",
     "output_type": "stream",
     "text": [
      "Found 25218 unique tokens.\n",
      "The longest headline has 40 words.\n"
     ]
    }
   ],
   "source": [
    "# tokenizing and filtering out basic punctuation\n",
    "# I won't turn words to lowercase as I will use cased GloVe embeddings\n",
    "# so that \"Bush\" can have a different embedding from \"bush\"\n",
    "tokenizer = Tokenizer(lower=False)\n",
    "tokenizer.fit_on_texts(X_train)\n",
    "\n",
    "# dictionary mapping words (str) to their index (int)\n",
    "word_index = tokenizer.word_index\n",
    "print(f\"Found {len(word_index)} unique tokens.\")\n",
    "\n",
    "# turning texts into sequences (list of word indices)\n",
    "sequences_train = tokenizer.texts_to_sequences(X_train)\n",
    "sequences_test = tokenizer.texts_to_sequences(X_test)\n",
    "sequences_val = tokenizer.texts_to_sequences(X_val)\n",
    "\n",
    "# checking the length of the longest headline\n",
    "max_len = max([len(x) for x in sequences_train+sequences_val+sequences_test])\n",
    "print(f\"The longest headline has {max_len} words.\")\n",
    "\n",
    "# padding sequences so that they are of equal length\n",
    "X_train_nn = sequence.pad_sequences(sequences_train, max_len)\n",
    "X_test_nn = sequence.pad_sequences(sequences_test, max_len)\n",
    "X_val_nn = sequence.pad_sequences(sequences_val, max_len)"
   ]
  },
  {
   "cell_type": "markdown",
   "metadata": {
    "colab_type": "text",
    "id": "CPD8wMx9IDpw"
   },
   "source": [
    "## Loading and filtering embeddings"
   ]
  },
  {
   "cell_type": "markdown",
   "metadata": {
    "colab_type": "text",
    "id": "iD4EHAKDASmJ"
   },
   "source": [
    "Almost 27 000 headlines don't seem enough data to train powerful word-embeddings on them. I will use pre-trained GloVe embedings trained on Common Crawl corpus with 840B tokens and 2.2M vocab, cased. I will load it from a pickled file saved locally (3GB) and filter out the embeddings for the words in my vocab."
   ]
  },
  {
   "cell_type": "code",
   "execution_count": null,
   "metadata": {
    "colab": {},
    "colab_type": "code",
    "collapsed": false,
    "id": "TCXgw0jP_Olt"
   },
   "outputs": [],
   "source": [
    "emb_matrix, unknown_words = build_matrix(word_index, path_to_embeddings)"
   ]
  },
  {
   "cell_type": "code",
   "execution_count": 0,
   "metadata": {
    "colab": {},
    "colab_type": "code",
    "collapsed": true,
    "id": "U9Ac3K64-3u3"
   },
   "outputs": [],
   "source": [
    "# saving matrix with filtered embeddings \n",
    "joblib.dump(emb_matrix, \"/data/processed/emb_matrix.joblib\")"
   ]
  },
  {
   "cell_type": "code",
   "execution_count": 0,
   "metadata": {
    "colab": {
     "base_uri": "https://localhost:8080/",
     "height": 34
    },
    "colab_type": "code",
    "collapsed": false,
    "id": "y_sh88wuF7Y6",
    "outputId": "ec177e41-a777-439c-f123-1a9dbd6049c1"
   },
   "outputs": [
    {
     "name": "stdout",
     "output_type": "stream",
     "text": [
      "% of unknown words:  0.1823300816876834\n"
     ]
    }
   ],
   "source": [
    "print('% of unknown words: ', len(unknown_words)/len(word_index))"
   ]
  },
  {
   "cell_type": "markdown",
   "metadata": {
    "colab_type": "text",
    "id": "fwcM_0vIGXAF"
   },
   "source": [
    "Only less than 20% of words don't have embedding, that's a promising output."
   ]
  },
  {
   "cell_type": "code",
   "execution_count": 7,
   "metadata": {
    "colab": {},
    "colab_type": "code",
    "collapsed": false,
    "id": "a2ipNdoqCwsu"
   },
   "outputs": [
    {
     "ename": "FileNotFoundError",
     "evalue": "[Errno 2] No such file or directory: '/data/processed/emb_matrix.joblib'",
     "output_type": "error",
     "traceback": [
      "\u001b[0;31m---------------------------------------------------------------------------\u001b[0m",
      "\u001b[0;31mFileNotFoundError\u001b[0m                         Traceback (most recent call last)",
      "\u001b[0;32m<ipython-input-7-2f5fb9084d33>\u001b[0m in \u001b[0;36m<module>\u001b[0;34m()\u001b[0m\n\u001b[1;32m      1\u001b[0m \u001b[0;31m# loading matrix with filtered embeddings\u001b[0m\u001b[0;34m\u001b[0m\u001b[0;34m\u001b[0m\u001b[0;34m\u001b[0m\u001b[0m\n\u001b[0;32m----> 2\u001b[0;31m \u001b[0memb_matrix\u001b[0m \u001b[0;34m=\u001b[0m \u001b[0mjoblib\u001b[0m\u001b[0;34m.\u001b[0m\u001b[0mload\u001b[0m\u001b[0;34m(\u001b[0m\u001b[0;34m'/data/processed/emb_matrix.joblib'\u001b[0m\u001b[0;34m)\u001b[0m\u001b[0;34m\u001b[0m\u001b[0;34m\u001b[0m\u001b[0m\n\u001b[0m",
      "\u001b[0;32m/home/kodolamacz/anaconda3/lib/python3.6/site-packages/joblib/numpy_pickle.py\u001b[0m in \u001b[0;36mload\u001b[0;34m(filename, mmap_mode)\u001b[0m\n\u001b[1;32m    588\u001b[0m             \u001b[0mobj\u001b[0m \u001b[0;34m=\u001b[0m \u001b[0m_unpickle\u001b[0m\u001b[0;34m(\u001b[0m\u001b[0mfobj\u001b[0m\u001b[0;34m)\u001b[0m\u001b[0;34m\u001b[0m\u001b[0;34m\u001b[0m\u001b[0m\n\u001b[1;32m    589\u001b[0m     \u001b[0;32melse\u001b[0m\u001b[0;34m:\u001b[0m\u001b[0;34m\u001b[0m\u001b[0;34m\u001b[0m\u001b[0m\n\u001b[0;32m--> 590\u001b[0;31m         \u001b[0;32mwith\u001b[0m \u001b[0mopen\u001b[0m\u001b[0;34m(\u001b[0m\u001b[0mfilename\u001b[0m\u001b[0;34m,\u001b[0m \u001b[0;34m'rb'\u001b[0m\u001b[0;34m)\u001b[0m \u001b[0;32mas\u001b[0m \u001b[0mf\u001b[0m\u001b[0;34m:\u001b[0m\u001b[0;34m\u001b[0m\u001b[0;34m\u001b[0m\u001b[0m\n\u001b[0m\u001b[1;32m    591\u001b[0m             \u001b[0;32mwith\u001b[0m \u001b[0m_read_fileobject\u001b[0m\u001b[0;34m(\u001b[0m\u001b[0mf\u001b[0m\u001b[0;34m,\u001b[0m \u001b[0mfilename\u001b[0m\u001b[0;34m,\u001b[0m \u001b[0mmmap_mode\u001b[0m\u001b[0;34m)\u001b[0m \u001b[0;32mas\u001b[0m \u001b[0mfobj\u001b[0m\u001b[0;34m:\u001b[0m\u001b[0;34m\u001b[0m\u001b[0;34m\u001b[0m\u001b[0m\n\u001b[1;32m    592\u001b[0m                 \u001b[0;32mif\u001b[0m \u001b[0misinstance\u001b[0m\u001b[0;34m(\u001b[0m\u001b[0mfobj\u001b[0m\u001b[0;34m,\u001b[0m \u001b[0m_basestring\u001b[0m\u001b[0;34m)\u001b[0m\u001b[0;34m:\u001b[0m\u001b[0;34m\u001b[0m\u001b[0;34m\u001b[0m\u001b[0m\n",
      "\u001b[0;31mFileNotFoundError\u001b[0m: [Errno 2] No such file or directory: '/data/processed/emb_matrix.joblib'"
     ]
    }
   ],
   "source": [
    "# loading matrix with filtered embeddings\n",
    "emb_matrix = joblib.load('/data/processed/emb_matrix.joblib')"
   ]
  },
  {
   "cell_type": "markdown",
   "metadata": {
    "colab_type": "text",
    "id": "8y9ezUOjIHpY"
   },
   "source": [
    "## Training NN"
   ]
  },
  {
   "cell_type": "markdown",
   "metadata": {
    "colab_type": "text",
    "id": "MsbLNbv7INaZ"
   },
   "source": [
    "Preprocessed texts and embeddings can be fed into Neural Network. I test several different architectures basing on LSTM."
   ]
  },
  {
   "cell_type": "code",
   "execution_count": 0,
   "metadata": {
    "colab": {},
    "colab_type": "code",
    "collapsed": true,
    "id": "9bWIUxdQGkUZ"
   },
   "outputs": [],
   "source": [
    "def build_lstm_model(list_of_layers):\n",
    "  \n",
    "  model = Sequential()\n",
    "  model.add(Embedding(emb_matrix.shape[0],\n",
    "                      emb_matrix.shape[1], \n",
    "                      input_length=max_len,\n",
    "                      weights = [emb_matrix], \n",
    "                      trainable = False))\n",
    "  for layer in list_of_layers:\n",
    "    model.add(layer)\n",
    "  model.summary() \n",
    "  \n",
    "  model.compile(loss=\"binary_crossentropy\",\n",
    "               optimizer=\"adam\", \n",
    "               metrics=[\"binary_accuracy\"])\n",
    "  return model"
   ]
  },
  {
   "cell_type": "code",
   "execution_count": 0,
   "metadata": {
    "colab": {},
    "colab_type": "code",
    "collapsed": true,
    "id": "uetMWHsxLgl9"
   },
   "outputs": [],
   "source": [
    "def evaluate_lstm_model(model, X_train, X_val, y_train, y_val, filename, batch_size=32, early_stopping=False):\n",
    "\n",
    "  take_best_model = ModelCheckpoint(str(filename)+\".h5py\", save_best_only=True)\n",
    "  \n",
    "  if early_stopping == True:\n",
    "    early_stopping = EarlyStopping(patience=10, monitor=\"val_loss\")\n",
    "    history = model.fit(X_train, y_train, epochs=50, validation_split=0.2,\n",
    "              batch_size=batch_size, \n",
    "              callbacks=[early_stopping, take_best_model])\n",
    "   \n",
    "  else:\n",
    "    history = model.fit(X_train, y_train, epochs=50, validation_split=0.2,\n",
    "              batch_size=batch_size, \n",
    "              callbacks=[take_best_model])\n",
    "  \n",
    "  joblib.dump(history, filename)\n",
    "\n",
    "  model.load_weights(str(filename)+\".h5py\")\n",
    "  return model.evaluate(X_val, y_val)[1]"
   ]
  },
  {
   "cell_type": "markdown",
   "metadata": {
    "colab_type": "text",
    "id": "XIXeMaOvaedp"
   },
   "source": [
    "Following architectures might be too extensive for the given problem but first I want to check if they overfit and if they do, I will prune them."
   ]
  },
  {
   "cell_type": "code",
   "execution_count": 0,
   "metadata": {
    "colab": {},
    "colab_type": "code",
    "collapsed": true,
    "id": "LEpGOqYUULtN"
   },
   "outputs": [],
   "source": [
    "models = {        \n",
    "          \"LSTM_200_100_50\":      [LSTM(200, return_sequences=True),\n",
    "                             LSTM(100, return_sequences=True),\n",
    "                             LSTM(50),\n",
    "                                  Dense(1, activation=\"sigmoid\")],\n",
    "          \n",
    "          \"BiLSTM_100_50\":          [Bidirectional(LSTM(100, return_sequences=True)),\n",
    "                                     Bidirectional(LSTM(50)),\n",
    "                                  Dense(1, activation=\"sigmoid\")],\n",
    "          \n",
    "          \"LSTM_200_100\":    [LSTM(200, return_sequences=True),\n",
    "                                  LSTM(100),\n",
    "                                  Dense(1, activation=\"sigmoid\")]\n",
    "}"
   ]
  },
  {
   "cell_type": "markdown",
   "metadata": {
    "colab_type": "text",
    "id": "W1u9f-xcxn5V"
   },
   "source": [
    "Training models for 50 epochs:"
   ]
  },
  {
   "cell_type": "code",
   "execution_count": 0,
   "metadata": {
    "colab": {},
    "colab_type": "code",
    "collapsed": true,
    "id": "1H4D2mClNCuY"
   },
   "outputs": [],
   "source": [
    "# building and evaluating models using functions from build_evaluate_nn module\n",
    "lst = []\n",
    "for model, params in models.items():\n",
    "  acc = (evaluate_nn(build_nn(params), X_train_nn, X_val_nn, y_train, y_val, model, early_stopping=False))\n",
    "  lst.append(acc)"
   ]
  },
  {
   "cell_type": "code",
   "execution_count": 0,
   "metadata": {
    "colab": {},
    "colab_type": "code",
    "collapsed": true,
    "id": "UC5lEMgC2ZAG"
   },
   "outputs": [],
   "source": [
    "# printing accuracy of models\n",
    "model_results = pd.DataFrame(list(zip(models.keys(), lst)), columns=[\"model\", \"accuracy_val\"]).sort_values(by=\"accuracy_val\", ascending=False).reset_index(drop=True)"
   ]
  },
  {
   "cell_type": "code",
   "execution_count": 0,
   "metadata": {
    "colab": {
     "base_uri": "https://localhost:8080/",
     "height": 142
    },
    "colab_type": "code",
    "collapsed": false,
    "id": "cVe_n11j2kYw",
    "outputId": "b77f4344-7a95-4589-dc72-cafe984af7df"
   },
   "outputs": [
    {
     "data": {
      "text/html": [
       "<div>\n",
       "<style scoped>\n",
       "    .dataframe tbody tr th:only-of-type {\n",
       "        vertical-align: middle;\n",
       "    }\n",
       "\n",
       "    .dataframe tbody tr th {\n",
       "        vertical-align: top;\n",
       "    }\n",
       "\n",
       "    .dataframe thead th {\n",
       "        text-align: right;\n",
       "    }\n",
       "</style>\n",
       "<table border=\"1\" class=\"dataframe\">\n",
       "  <thead>\n",
       "    <tr style=\"text-align: right;\">\n",
       "      <th></th>\n",
       "      <th>model</th>\n",
       "      <th>accuracy_val</th>\n",
       "    </tr>\n",
       "  </thead>\n",
       "  <tbody>\n",
       "    <tr>\n",
       "      <th>0</th>\n",
       "      <td>LSTM_200_100</td>\n",
       "      <td>0.868761</td>\n",
       "    </tr>\n",
       "    <tr>\n",
       "      <th>1</th>\n",
       "      <td>BiLSTM_100_50</td>\n",
       "      <td>0.863770</td>\n",
       "    </tr>\n",
       "    <tr>\n",
       "      <th>2</th>\n",
       "      <td>LSTM_200_100_50</td>\n",
       "      <td>0.858485</td>\n",
       "    </tr>\n",
       "  </tbody>\n",
       "</table>\n",
       "</div>"
      ],
      "text/plain": [
       "             model  accuracy_val\n",
       "0     LSTM_200_100      0.868761\n",
       "1    BiLSTM_100_50      0.863770\n",
       "2  LSTM_200_100_50      0.858485"
      ]
     },
     "execution_count": 46,
     "metadata": {
      "tags": []
     },
     "output_type": "execute_result"
    }
   ],
   "source": [
    "model_results"
   ]
  },
  {
   "cell_type": "markdown",
   "metadata": {
    "colab_type": "text",
    "id": "KjkUajwNsjNI"
   },
   "source": [
    "The differences between models' accuracy on validation set are rather small with the simplest model having the highest score. This may be indicative of overfitting. Let's check by plotting accuracy and loss during training."
   ]
  },
  {
   "cell_type": "code",
   "execution_count": 0,
   "metadata": {
    "colab": {},
    "colab_type": "code",
    "collapsed": true,
    "id": "OkSypmGZNQvt"
   },
   "outputs": [],
   "source": [
    "def plot_accuracy(path, models):\n",
    "  '''Function to plot accuracy on train and validation sets.'''\n",
    "  for model in models:\n",
    "    history = joblib.load(os.path.join(path_to_results, model))\n",
    "    plt.plot(history.history['binary_accuracy'])\n",
    "    plt.plot(history.history['val_binary_accuracy'])\n",
    "    plt.title(f\"model {model} accuracy\")\n",
    "    plt.ylabel('accuracy')\n",
    "    plt.ylim(0.6, 1)\n",
    "    plt.xlabel('epoch')\n",
    "    plt.legend(['train', 'valid'], loc='upper left')\n",
    "    plt.show()"
   ]
  },
  {
   "cell_type": "code",
   "execution_count": 0,
   "metadata": {
    "colab": {},
    "colab_type": "code",
    "collapsed": true,
    "id": "LOdFQyPCqzuB"
   },
   "outputs": [],
   "source": [
    "def plot_loss(path, models):\n",
    "  '''Function to plot loss on train and validation sets.'''\n",
    "  for model in models:\n",
    "    history = joblib.load(os.path.join(path_to_results, model))\n",
    "    plt.plot(history.history['loss'])\n",
    "    plt.plot(history.history['val_loss'])\n",
    "    plt.title(f\"model {model} loss\")\n",
    "    plt.ylabel('loss')\n",
    "    #plt.ylim(0.6, 1)\n",
    "    plt.xlabel('epoch')\n",
    "    plt.legend(['train', 'valid'], loc='upper left')\n",
    "    plt.show()"
   ]
  },
  {
   "cell_type": "code",
   "execution_count": 0,
   "metadata": {
    "colab": {},
    "colab_type": "code",
    "collapsed": true,
    "id": "Wfg9E5hQ2sOQ"
   },
   "outputs": [],
   "source": [
    "# plotting accuracy of models for train and validation sets using plot_accuracy_loss module\n",
    "path_to_results = \"/content/gdrive/My Drive/zadanie_Roche/models\" # to remove!!!\n",
    "#path_to_results = \"/models\"\n",
    "plot_accuracy(path_to_results, models)"
   ]
  },
  {
   "cell_type": "code",
   "execution_count": 0,
   "metadata": {
    "colab": {
     "base_uri": "https://localhost:8080/",
     "height": 851
    },
    "colab_type": "code",
    "collapsed": false,
    "id": "JhAXOsz1BhrD",
    "outputId": "d37c7952-c791-4c92-d90f-1a839c6f481e"
   },
   "outputs": [
    {
     "data": {
      "image/png": "[encoded data removed]",
      "text/plain": [
       "<Figure size 432x288 with 1 Axes>"
      ]
     },
     "metadata": {
      "tags": []
     },
     "output_type": "display_data"
    },
    {
     "data": {
      "image/png": "[encoded data removed]",
      "text/plain": [
       "<Figure size 432x288 with 1 Axes>"
      ]
     },
     "metadata": {
      "tags": []
     },
     "output_type": "display_data"
    },
    {
     "data": {
      "image/png": "[encoded data removed]",
      "text/plain": [
       "<Figure size 432x288 with 1 Axes>"
      ]
     },
     "metadata": {
      "tags": []
     },
     "output_type": "display_data"
    }
   ],
   "source": [
    "plot_loss(path_to_results, models)"
   ]
  },
  {
   "cell_type": "markdown",
   "metadata": {
    "colab_type": "text",
    "id": "ezG5t0AityWx"
   },
   "source": [
    "Plots of accuracy and loss suggest that models are heavily overfitted. Accuracy on the train set was raising until it reached 100%, wheras the accuracy on the validation set was almost constant. There was also a huge discrepancy between loss on train set and validation set with the latter one even sharply rising for the last two models after ca. 25 epoch. The architectures are probably too big for the problem at hand and 50 epochs seems to be too long a training. So I will prune the networks and add Early Stopping callback, so that the network stops learning when the loss on validation set isn't falling anymore."
   ]
  },
  {
   "cell_type": "code",
   "execution_count": 0,
   "metadata": {
    "colab": {
     "base_uri": "https://localhost:8080/",
     "height": 88
    },
    "colab_type": "code",
    "collapsed": false,
    "id": "nNGMAYp3Lxce",
    "outputId": "b71d93b5-0ba5-48de-a7f1-0dc452a8bc78"
   },
   "outputs": [
    {
     "name": "stderr",
     "output_type": "stream",
     "text": [
      "WARNING: Logging before flag parsing goes to stderr.\n",
      "W0618 08:46:27.337060 140220677252992 deprecation_wrapper.py:119] From /usr/local/lib/python3.6/dist-packages/keras/backend/tensorflow_backend.py:74: The name tf.get_default_graph is deprecated. Please use tf.compat.v1.get_default_graph instead.\n",
      "\n"
     ]
    }
   ],
   "source": [
    "models = {        \n",
    "          \"LSTM_100n\":      [LSTM(100),\n",
    "                                  Dense(1, activation=\"sigmoid\")],\n",
    "          \n",
    "          \"BiLSTM_50n\":          [Bidirectional(LSTM(50)),\n",
    "                                  Dense(1, activation=\"sigmoid\")],\n",
    "          \n",
    "          \"LSTM_50n_30n\":    [LSTM(50, return_sequences=True),\n",
    "                                  LSTM(30),\n",
    "                                  Dense(1, activation=\"sigmoid\")],\n",
    "                                        \n",
    "          \"LSTM_MultipleDense\":     [LSTM(100),\n",
    "                                  Dense(30, activation=\"relu\"),\n",
    "                                  Dense(1, activation=\"sigmoid\")]\n",
    "}"
   ]
  },
  {
   "cell_type": "code",
   "execution_count": 0,
   "metadata": {
    "colab": {},
    "colab_type": "code",
    "collapsed": true,
    "id": "S7OZHp6UDWjT"
   },
   "outputs": [],
   "source": [
    "# building and evaluating models using functions from build_evaluate_nn module\n",
    "lst = []\n",
    "for model, params in models.items():\n",
    "  acc = (evaluate_nn(build_nn(emb_matrix, max_len, params), X_train_nn, X_val_nn, y_train, y_val, model, early_stopping=True))\n",
    "  lst.append(acc)"
   ]
  },
  {
   "cell_type": "code",
   "execution_count": 0,
   "metadata": {
    "colab": {
     "base_uri": "https://localhost:8080/",
     "height": 3080
    },
    "colab_type": "code",
    "collapsed": false,
    "id": "M3Mt1SWQxHc1",
    "outputId": "ded99f14-20c1-48ed-aa3d-1ff1437b5ea5"
   },
   "outputs": [
    {
     "name": "stderr",
     "output_type": "stream",
     "text": [
      "W0618 08:49:33.570064 140220677252992 deprecation_wrapper.py:119] From /usr/local/lib/python3.6/dist-packages/keras/backend/tensorflow_backend.py:517: The name tf.placeholder is deprecated. Please use tf.compat.v1.placeholder instead.\n",
      "\n",
      "W0618 08:49:33.584057 140220677252992 deprecation_wrapper.py:119] From /usr/local/lib/python3.6/dist-packages/keras/backend/tensorflow_backend.py:4138: The name tf.random_uniform is deprecated. Please use tf.random.uniform instead.\n",
      "\n",
      "W0618 08:49:33.596623 140220677252992 deprecation_wrapper.py:119] From /usr/local/lib/python3.6/dist-packages/keras/backend/tensorflow_backend.py:174: The name tf.get_default_session is deprecated. Please use tf.compat.v1.get_default_session instead.\n",
      "\n",
      "W0618 08:49:33.597509 140220677252992 deprecation_wrapper.py:119] From /usr/local/lib/python3.6/dist-packages/keras/backend/tensorflow_backend.py:181: The name tf.ConfigProto is deprecated. Please use tf.compat.v1.ConfigProto instead.\n",
      "\n",
      "W0618 08:49:36.639364 140220677252992 deprecation_wrapper.py:119] From /usr/local/lib/python3.6/dist-packages/keras/optimizers.py:790: The name tf.train.Optimizer is deprecated. Please use tf.compat.v1.train.Optimizer instead.\n",
      "\n",
      "W0618 08:49:36.666419 140220677252992 deprecation.py:323] From /usr/local/lib/python3.6/dist-packages/tensorflow/python/ops/nn_impl.py:180: add_dispatch_support.<locals>.wrapper (from tensorflow.python.ops.array_ops) is deprecated and will be removed in a future version.\n",
      "Instructions for updating:\n",
      "Use tf.where in 2.0, which has the same broadcast rule as np.where\n"
     ]
    },
    {
     "name": "stdout",
     "output_type": "stream",
     "text": [
      "_________________________________________________________________\n",
      "Layer (type)                 Output Shape              Param #   \n",
      "=================================================================\n",
      "embedding_1 (Embedding)      (None, 40, 300)           7565400   \n",
      "_________________________________________________________________\n",
      "lstm_1 (LSTM)                (None, 100)               160400    \n",
      "_________________________________________________________________\n",
      "dense_1 (Dense)              (None, 1)                 101       \n",
      "=================================================================\n",
      "Total params: 7,725,901\n",
      "Trainable params: 160,501\n",
      "Non-trainable params: 7,565,400\n",
      "_________________________________________________________________\n",
      "Train on 15436 samples, validate on 3860 samples\n",
      "Epoch 1/50\n",
      "15436/15436 [==============================] - 34s 2ms/step - loss: 0.4305 - binary_accuracy: 0.7964 - val_loss: 0.3609 - val_binary_accuracy: 0.8417\n",
      "Epoch 2/50\n",
      "15436/15436 [==============================] - 33s 2ms/step - loss: 0.3050 - binary_accuracy: 0.8708 - val_loss: 0.3192 - val_binary_accuracy: 0.8630\n",
      "Epoch 3/50\n",
      "15436/15436 [==============================] - 33s 2ms/step - loss: 0.2416 - binary_accuracy: 0.9000 - val_loss: 0.3034 - val_binary_accuracy: 0.8749\n",
      "Epoch 4/50\n",
      "15436/15436 [==============================] - 33s 2ms/step - loss: 0.1845 - binary_accuracy: 0.9272 - val_loss: 0.3160 - val_binary_accuracy: 0.8832\n",
      "Epoch 5/50\n",
      "15436/15436 [==============================] - 33s 2ms/step - loss: 0.1350 - binary_accuracy: 0.9482 - val_loss: 0.3303 - val_binary_accuracy: 0.8718\n",
      "Epoch 6/50\n",
      "15436/15436 [==============================] - 33s 2ms/step - loss: 0.0898 - binary_accuracy: 0.9695 - val_loss: 0.4020 - val_binary_accuracy: 0.8710\n",
      "Epoch 7/50\n",
      "15436/15436 [==============================] - 33s 2ms/step - loss: 0.0542 - binary_accuracy: 0.9821 - val_loss: 0.4338 - val_binary_accuracy: 0.8710\n",
      "Epoch 8/50\n",
      "15436/15436 [==============================] - 32s 2ms/step - loss: 0.0408 - binary_accuracy: 0.9868 - val_loss: 0.4687 - val_binary_accuracy: 0.8692\n",
      "Epoch 9/50\n",
      "15436/15436 [==============================] - 32s 2ms/step - loss: 0.0266 - binary_accuracy: 0.9924 - val_loss: 0.5384 - val_binary_accuracy: 0.8687\n",
      "Epoch 10/50\n",
      "15436/15436 [==============================] - 33s 2ms/step - loss: 0.0220 - binary_accuracy: 0.9940 - val_loss: 0.5635 - val_binary_accuracy: 0.8744\n",
      "Epoch 11/50\n",
      "15436/15436 [==============================] - 32s 2ms/step - loss: 0.0055 - binary_accuracy: 0.9994 - val_loss: 0.6526 - val_binary_accuracy: 0.8738\n",
      "Epoch 12/50\n",
      "15436/15436 [==============================] - 32s 2ms/step - loss: 0.0022 - binary_accuracy: 0.9999 - val_loss: 0.7357 - val_binary_accuracy: 0.8712\n",
      "Epoch 13/50\n",
      "15436/15436 [==============================] - 32s 2ms/step - loss: 0.0198 - binary_accuracy: 0.9939 - val_loss: 0.6022 - val_binary_accuracy: 0.8523\n",
      "3406/3406 [==============================] - 3s 744us/step\n",
      "_________________________________________________________________\n",
      "Layer (type)                 Output Shape              Param #   \n",
      "=================================================================\n",
      "embedding_2 (Embedding)      (None, 40, 300)           7565400   \n",
      "_________________________________________________________________\n",
      "bidirectional_1 (Bidirection (None, 100)               140400    \n",
      "_________________________________________________________________\n",
      "dense_2 (Dense)              (None, 1)                 101       \n",
      "=================================================================\n",
      "Total params: 7,705,901\n",
      "Trainable params: 140,501\n",
      "Non-trainable params: 7,565,400\n",
      "_________________________________________________________________\n",
      "Train on 15436 samples, validate on 3860 samples\n",
      "Epoch 1/50\n",
      "15436/15436 [==============================] - 71s 5ms/step - loss: 0.4415 - binary_accuracy: 0.7845 - val_loss: 0.3609 - val_binary_accuracy: 0.8386\n",
      "Epoch 2/50\n",
      "15436/15436 [==============================] - 68s 4ms/step - loss: 0.3097 - binary_accuracy: 0.8667 - val_loss: 0.3217 - val_binary_accuracy: 0.8588\n",
      "Epoch 3/50\n",
      "15436/15436 [==============================] - 68s 4ms/step - loss: 0.2475 - binary_accuracy: 0.8963 - val_loss: 0.3084 - val_binary_accuracy: 0.8671\n",
      "Epoch 4/50\n",
      "15436/15436 [==============================] - 68s 4ms/step - loss: 0.1964 - binary_accuracy: 0.9219 - val_loss: 0.3205 - val_binary_accuracy: 0.8679\n",
      "Epoch 5/50\n",
      "15436/15436 [==============================] - 70s 5ms/step - loss: 0.1527 - binary_accuracy: 0.9420 - val_loss: 0.3204 - val_binary_accuracy: 0.8764\n",
      "Epoch 6/50\n",
      "15436/15436 [==============================] - 69s 4ms/step - loss: 0.1083 - binary_accuracy: 0.9600 - val_loss: 0.3725 - val_binary_accuracy: 0.8611\n",
      "Epoch 7/50\n",
      "15436/15436 [==============================] - 68s 4ms/step - loss: 0.0821 - binary_accuracy: 0.9721 - val_loss: 0.4046 - val_binary_accuracy: 0.8715\n",
      "Epoch 8/50\n",
      "15436/15436 [==============================] - 74s 5ms/step - loss: 0.0533 - binary_accuracy: 0.9826 - val_loss: 0.4548 - val_binary_accuracy: 0.8674\n",
      "Epoch 9/50\n",
      "15436/15436 [==============================] - 72s 5ms/step - loss: 0.0400 - binary_accuracy: 0.9874 - val_loss: 0.4775 - val_binary_accuracy: 0.8712\n",
      "Epoch 10/50\n",
      "15436/15436 [==============================] - 68s 4ms/step - loss: 0.0296 - binary_accuracy: 0.9916 - val_loss: 0.5574 - val_binary_accuracy: 0.8658\n",
      "Epoch 11/50\n",
      "15436/15436 [==============================] - 68s 4ms/step - loss: 0.0212 - binary_accuracy: 0.9937 - val_loss: 0.5646 - val_binary_accuracy: 0.8705\n",
      "Epoch 12/50\n",
      "15436/15436 [==============================] - 70s 5ms/step - loss: 0.0251 - binary_accuracy: 0.9920 - val_loss: 0.5963 - val_binary_accuracy: 0.8655\n",
      "Epoch 13/50\n",
      "15436/15436 [==============================] - 68s 4ms/step - loss: 0.0251 - binary_accuracy: 0.9917 - val_loss: 0.5928 - val_binary_accuracy: 0.8637\n",
      "3406/3406 [==============================] - 6s 2ms/step\n",
      "_________________________________________________________________\n",
      "Layer (type)                 Output Shape              Param #   \n",
      "=================================================================\n",
      "embedding_3 (Embedding)      (None, 40, 300)           7565400   \n",
      "_________________________________________________________________\n",
      "lstm_3 (LSTM)                (None, 40, 50)            70200     \n",
      "_________________________________________________________________\n",
      "lstm_4 (LSTM)                (None, 30)                9720      \n",
      "_________________________________________________________________\n",
      "dense_3 (Dense)              (None, 1)                 31        \n",
      "=================================================================\n",
      "Total params: 7,645,351\n",
      "Trainable params: 79,951\n",
      "Non-trainable params: 7,565,400\n",
      "_________________________________________________________________\n",
      "Train on 15436 samples, validate on 3860 samples\n",
      "Epoch 1/50\n",
      "15436/15436 [==============================] - 64s 4ms/step - loss: 0.4322 - binary_accuracy: 0.7959 - val_loss: 0.3903 - val_binary_accuracy: 0.8236\n",
      "Epoch 2/50\n",
      "15436/15436 [==============================] - 62s 4ms/step - loss: 0.3168 - binary_accuracy: 0.8602 - val_loss: 0.3220 - val_binary_accuracy: 0.8632\n",
      "Epoch 3/50\n",
      "15436/15436 [==============================] - 62s 4ms/step - loss: 0.2549 - binary_accuracy: 0.8953 - val_loss: 0.3347 - val_binary_accuracy: 0.8578\n",
      "Epoch 4/50\n",
      "15436/15436 [==============================] - 62s 4ms/step - loss: 0.2039 - binary_accuracy: 0.9196 - val_loss: 0.3661 - val_binary_accuracy: 0.8482\n",
      "Epoch 5/50\n",
      "15436/15436 [==============================] - 62s 4ms/step - loss: 0.1533 - binary_accuracy: 0.9409 - val_loss: 0.3474 - val_binary_accuracy: 0.8733\n",
      "Epoch 6/50\n",
      "15436/15436 [==============================] - 62s 4ms/step - loss: 0.1096 - binary_accuracy: 0.9598 - val_loss: 0.3795 - val_binary_accuracy: 0.8764\n",
      "Epoch 7/50\n",
      "15436/15436 [==============================] - 62s 4ms/step - loss: 0.0739 - binary_accuracy: 0.9746 - val_loss: 0.4126 - val_binary_accuracy: 0.8790\n",
      "Epoch 8/50\n",
      "15436/15436 [==============================] - 62s 4ms/step - loss: 0.0513 - binary_accuracy: 0.9826 - val_loss: 0.5028 - val_binary_accuracy: 0.8666\n",
      "Epoch 9/50\n",
      "15436/15436 [==============================] - 63s 4ms/step - loss: 0.0368 - binary_accuracy: 0.9876 - val_loss: 0.5200 - val_binary_accuracy: 0.8741\n",
      "Epoch 10/50\n",
      "15436/15436 [==============================] - 62s 4ms/step - loss: 0.0319 - binary_accuracy: 0.9895 - val_loss: 0.6117 - val_binary_accuracy: 0.8578\n",
      "Epoch 11/50\n",
      "15436/15436 [==============================] - 62s 4ms/step - loss: 0.0268 - binary_accuracy: 0.9906 - val_loss: 0.6532 - val_binary_accuracy: 0.8720\n",
      "Epoch 12/50\n",
      "15436/15436 [==============================] - 61s 4ms/step - loss: 0.0193 - binary_accuracy: 0.9935 - val_loss: 0.6303 - val_binary_accuracy: 0.8723\n",
      "3406/3406 [==============================] - 5s 1ms/step\n",
      "_________________________________________________________________\n",
      "Layer (type)                 Output Shape              Param #   \n",
      "=================================================================\n",
      "embedding_4 (Embedding)      (None, 40, 300)           7565400   \n",
      "_________________________________________________________________\n",
      "lstm_5 (LSTM)                (None, 100)               160400    \n",
      "_________________________________________________________________\n",
      "dense_4 (Dense)              (None, 30)                3030      \n",
      "_________________________________________________________________\n",
      "dense_5 (Dense)              (None, 1)                 31        \n",
      "=================================================================\n",
      "Total params: 7,728,861\n",
      "Trainable params: 163,461\n",
      "Non-trainable params: 7,565,400\n",
      "_________________________________________________________________\n",
      "Train on 15436 samples, validate on 3860 samples\n",
      "Epoch 1/50\n",
      "15436/15436 [==============================] - 33s 2ms/step - loss: 0.4359 - binary_accuracy: 0.7953 - val_loss: 0.3593 - val_binary_accuracy: 0.8474\n",
      "Epoch 2/50\n",
      "15436/15436 [==============================] - 32s 2ms/step - loss: 0.3044 - binary_accuracy: 0.8721 - val_loss: 0.3121 - val_binary_accuracy: 0.8658\n",
      "Epoch 3/50\n",
      "15436/15436 [==============================] - 33s 2ms/step - loss: 0.2355 - binary_accuracy: 0.9031 - val_loss: 0.3097 - val_binary_accuracy: 0.8762\n",
      "Epoch 4/50\n",
      "15436/15436 [==============================] - 32s 2ms/step - loss: 0.1734 - binary_accuracy: 0.9319 - val_loss: 0.3389 - val_binary_accuracy: 0.8689\n",
      "Epoch 5/50\n",
      "15436/15436 [==============================] - 32s 2ms/step - loss: 0.1154 - binary_accuracy: 0.9570 - val_loss: 0.3775 - val_binary_accuracy: 0.8702\n",
      "Epoch 6/50\n",
      "15436/15436 [==============================] - 32s 2ms/step - loss: 0.0734 - binary_accuracy: 0.9734 - val_loss: 0.4475 - val_binary_accuracy: 0.8687\n",
      "Epoch 7/50\n",
      "15436/15436 [==============================] - 32s 2ms/step - loss: 0.0436 - binary_accuracy: 0.9853 - val_loss: 0.4993 - val_binary_accuracy: 0.8697\n",
      "Epoch 8/50\n",
      "15436/15436 [==============================] - 32s 2ms/step - loss: 0.0284 - binary_accuracy: 0.9904 - val_loss: 0.5598 - val_binary_accuracy: 0.8728\n",
      "Epoch 9/50\n",
      "15436/15436 [==============================] - 32s 2ms/step - loss: 0.0248 - binary_accuracy: 0.9919 - val_loss: 0.6079 - val_binary_accuracy: 0.8749\n",
      "Epoch 10/50\n",
      "15436/15436 [==============================] - 32s 2ms/step - loss: 0.0204 - binary_accuracy: 0.9933 - val_loss: 0.6575 - val_binary_accuracy: 0.8751\n",
      "Epoch 11/50\n",
      "15436/15436 [==============================] - 32s 2ms/step - loss: 0.0196 - binary_accuracy: 0.9942 - val_loss: 0.7822 - val_binary_accuracy: 0.8668\n",
      "Epoch 12/50\n",
      "15436/15436 [==============================] - 32s 2ms/step - loss: 0.0126 - binary_accuracy: 0.9962 - val_loss: 0.7256 - val_binary_accuracy: 0.8731\n",
      "Epoch 13/50\n",
      "15436/15436 [==============================] - 32s 2ms/step - loss: 0.0083 - binary_accuracy: 0.9970 - val_loss: 0.8035 - val_binary_accuracy: 0.8689\n",
      "3406/3406 [==============================] - 3s 764us/step\n"
     ]
    }
   ],
   "source": [
    "# building and evaluating models using functions from build_evaluate_nn module\n",
    "# to remove\n",
    "lst = []\n",
    "for model, params in models.items():\n",
    "  acc = (evaluate_lstm_model(build_lstm_model(params), X_train_nn, X_val_nn, y_train, y_val, model, early_stopping=True))\n",
    "  lst.append(acc)"
   ]
  },
  {
   "cell_type": "code",
   "execution_count": 0,
   "metadata": {
    "colab": {},
    "colab_type": "code",
    "collapsed": true,
    "id": "yIax77tZZTc5"
   },
   "outputs": [],
   "source": [
    "# printing accuracy of models\n",
    "model_results = pd.DataFrame(list(zip(models.keys(), lst)), columns=[\"model\", \"accuracy_val\"]).sort_values(by=\"accuracy_val\", ascending=False).reset_index(drop=True)"
   ]
  },
  {
   "cell_type": "code",
   "execution_count": 0,
   "metadata": {
    "colab": {
     "base_uri": "https://localhost:8080/",
     "height": 173
    },
    "colab_type": "code",
    "collapsed": false,
    "id": "UIuhiMCGZWDW",
    "outputId": "47d6dcdf-7cd7-4118-8c7e-b5eb0895d83d"
   },
   "outputs": [
    {
     "data": {
      "text/html": [
       "<div>\n",
       "<style scoped>\n",
       "    .dataframe tbody tr th:only-of-type {\n",
       "        vertical-align: middle;\n",
       "    }\n",
       "\n",
       "    .dataframe tbody tr th {\n",
       "        vertical-align: top;\n",
       "    }\n",
       "\n",
       "    .dataframe thead th {\n",
       "        text-align: right;\n",
       "    }\n",
       "</style>\n",
       "<table border=\"1\" class=\"dataframe\">\n",
       "  <thead>\n",
       "    <tr style=\"text-align: right;\">\n",
       "      <th></th>\n",
       "      <th>model</th>\n",
       "      <th>accuracy_val</th>\n",
       "    </tr>\n",
       "  </thead>\n",
       "  <tbody>\n",
       "    <tr>\n",
       "      <th>0</th>\n",
       "      <td>LSTM_MultipleDense</td>\n",
       "      <td>0.864063</td>\n",
       "    </tr>\n",
       "    <tr>\n",
       "      <th>1</th>\n",
       "      <td>LSTM_100n</td>\n",
       "      <td>0.863476</td>\n",
       "    </tr>\n",
       "    <tr>\n",
       "      <th>2</th>\n",
       "      <td>BiLSTM_50n</td>\n",
       "      <td>0.849090</td>\n",
       "    </tr>\n",
       "    <tr>\n",
       "      <th>3</th>\n",
       "      <td>LSTM_50n_30n</td>\n",
       "      <td>0.847622</td>\n",
       "    </tr>\n",
       "  </tbody>\n",
       "</table>\n",
       "</div>"
      ],
      "text/plain": [
       "                model  accuracy_val\n",
       "0  LSTM_MultipleDense      0.864063\n",
       "1           LSTM_100n      0.863476\n",
       "2          BiLSTM_50n      0.849090\n",
       "3        LSTM_50n_30n      0.847622"
      ]
     },
     "execution_count": 19,
     "metadata": {
      "tags": []
     },
     "output_type": "execute_result"
    }
   ],
   "source": [
    "model_results"
   ]
  },
  {
   "cell_type": "markdown",
   "metadata": {
    "colab_type": "text",
    "id": "p0aNx0u-Z0W3"
   },
   "source": [
    "It turned out that the best model is the simplest one - one LSTM layer with 100 neurons. The model scored only 0.4 percentage points lower than the best of complicated models from the previous run."
   ]
  },
  {
   "cell_type": "code",
   "execution_count": 0,
   "metadata": {
    "colab": {
     "base_uri": "https://localhost:8080/",
     "height": 1129
    },
    "colab_type": "code",
    "collapsed": false,
    "id": "6ThwFwDiDadh",
    "outputId": "6851c950-fb8f-4942-901f-6ac4ebb52983"
   },
   "outputs": [
    {
     "data": {
      "image/png": "[encoded data removed]",
      "text/plain": [
       "<Figure size 432x288 with 1 Axes>"
      ]
     },
     "metadata": {
      "tags": []
     },
     "output_type": "display_data"
    },
    {
     "data": {
      "image/png": "[encoded data removed]",
      "text/plain": [
       "<Figure size 432x288 with 1 Axes>"
      ]
     },
     "metadata": {
      "tags": []
     },
     "output_type": "display_data"
    },
    {
     "data": {
      "image/png": "[encoded data removed]",
      "text/plain": [
       "<Figure size 432x288 with 1 Axes>"
      ]
     },
     "metadata": {
      "tags": []
     },
     "output_type": "display_data"
    },
    {
     "data": {
      "image/png": "[encoded data removed]",
      "text/plain": [
       "<Figure size 432x288 with 1 Axes>"
      ]
     },
     "metadata": {
      "tags": []
     },
     "output_type": "display_data"
    }
   ],
   "source": [
    "plot_accuracy(path_to_results, models)"
   ]
  },
  {
   "cell_type": "code",
   "execution_count": 0,
   "metadata": {
    "colab": {
     "base_uri": "https://localhost:8080/",
     "height": 1129
    },
    "colab_type": "code",
    "collapsed": false,
    "id": "bMtVKPtdD2zx",
    "outputId": "c641e644-647a-4b55-b5c2-37a0bf11b31d"
   },
   "outputs": [
    {
     "data": {
      "image/png": "[encoded data removed]",
      "text/plain": [
       "<Figure size 432x288 with 1 Axes>"
      ]
     },
     "metadata": {
      "tags": []
     },
     "output_type": "display_data"
    },
    {
     "data": {
      "image/png": "[encoded data removed]",
      "text/plain": [
       "<Figure size 432x288 with 1 Axes>"
      ]
     },
     "metadata": {
      "tags": []
     },
     "output_type": "display_data"
    },
    {
     "data": {
      "image/png": "[encoded data removed]",
      "text/plain": [
       "<Figure size 432x288 with 1 Axes>"
      ]
     },
     "metadata": {
      "tags": []
     },
     "output_type": "display_data"
    },
    {
     "data": {
      "image/png": "[encoded data removed]",
      "text/plain": [
       "<Figure size 432x288 with 1 Axes>"
      ]
     },
     "metadata": {
      "tags": []
     },
     "output_type": "display_data"
    }
   ],
   "source": [
    "plot_loss(path_to_results, models)"
   ]
  },
  {
   "cell_type": "markdown",
   "metadata": {
    "colab_type": "text",
    "id": "v_ZPfTaQm8YN"
   },
   "source": [
    "Even after pruning neural nets and applying Early Stopping callback, models seems to be ovefitting as they recognize sarcasm in training set better and better without the ability to improve score on validation set (and validation loss even keeps rising - so if the accuracy of preditions is almost constant that could mean less confidence of the model in the right predictions or more error on the side of wrong predictions).\n",
    "\n",
    "I will check very simple architectures with few neurons and EarlyStopping."
   ]
  },
  {
   "cell_type": "code",
   "execution_count": 7,
   "metadata": {
    "colab": {
     "base_uri": "https://localhost:8080/",
     "height": 88
    },
    "colab_type": "code",
    "collapsed": false,
    "id": "qdHc66NBoEK4",
    "outputId": "7fbdd4e5-55ef-4219-c1fe-314cc6a788c5"
   },
   "outputs": [
    {
     "name": "stderr",
     "output_type": "stream",
     "text": [
      "WARNING: Logging before flag parsing goes to stderr.\n",
      "W0619 09:07:25.760479 139735665244032 deprecation_wrapper.py:119] From /usr/local/lib/python3.6/dist-packages/keras/backend/tensorflow_backend.py:74: The name tf.get_default_graph is deprecated. Please use tf.compat.v1.get_default_graph instead.\n",
      "\n"
     ]
    }
   ],
   "source": [
    "models = {\"LSTM_16n\":      [LSTM(16),\n",
    "                          Dense(1, activation=\"sigmoid\")],\n",
    "          \n",
    "          \"LSTM_32n\":      [LSTM(32),\n",
    "                          Dense(1, activation=\"sigmoid\")],\n",
    "          \n",
    "          \"LSTM_64n\":      [LSTM(64),\n",
    "                          Dense(1, activation=\"sigmoid\")]\n",
    "\n",
    "}"
   ]
  },
  {
   "cell_type": "code",
   "execution_count": 0,
   "metadata": {
    "colab": {
     "base_uri": "https://localhost:8080/",
     "height": 2244
    },
    "colab_type": "code",
    "collapsed": false,
    "id": "dlenllGohBvK",
    "outputId": "2e1ea720-5470-4242-c7ae-786797d88412"
   },
   "outputs": [
    {
     "name": "stdout",
     "output_type": "stream",
     "text": [
      "_________________________________________________________________\n",
      "Layer (type)                 Output Shape              Param #   \n",
      "=================================================================\n",
      "embedding_13 (Embedding)     (None, 40, 300)           7565400   \n",
      "_________________________________________________________________\n",
      "lstm_20 (LSTM)               (None, 16)                20288     \n",
      "_________________________________________________________________\n",
      "dense_16 (Dense)             (None, 1)                 17        \n",
      "=================================================================\n",
      "Total params: 7,585,705\n",
      "Trainable params: 20,305\n",
      "Non-trainable params: 7,565,400\n",
      "_________________________________________________________________\n",
      "Train on 15436 samples, validate on 3860 samples\n",
      "Epoch 1/50\n",
      "15436/15436 [==============================] - 42s 3ms/step - loss: 0.4807 - binary_accuracy: 0.7650 - val_loss: 0.3956 - val_binary_accuracy: 0.8210\n",
      "Epoch 2/50\n",
      "15436/15436 [==============================] - 33s 2ms/step - loss: 0.3384 - binary_accuracy: 0.8546 - val_loss: 0.3552 - val_binary_accuracy: 0.8459\n",
      "Epoch 3/50\n",
      "15436/15436 [==============================] - 33s 2ms/step - loss: 0.2882 - binary_accuracy: 0.8783 - val_loss: 0.3282 - val_binary_accuracy: 0.8609\n",
      "Epoch 4/50\n",
      "15436/15436 [==============================] - 33s 2ms/step - loss: 0.2506 - binary_accuracy: 0.8982 - val_loss: 0.3215 - val_binary_accuracy: 0.8637\n",
      "Epoch 5/50\n",
      "15436/15436 [==============================] - 33s 2ms/step - loss: 0.2186 - binary_accuracy: 0.9142 - val_loss: 0.3145 - val_binary_accuracy: 0.8681\n",
      "Epoch 6/50\n",
      "15436/15436 [==============================] - 33s 2ms/step - loss: 0.1946 - binary_accuracy: 0.9260 - val_loss: 0.3225 - val_binary_accuracy: 0.8697\n",
      "Epoch 7/50\n",
      "15436/15436 [==============================] - 33s 2ms/step - loss: 0.1685 - binary_accuracy: 0.9379 - val_loss: 0.3463 - val_binary_accuracy: 0.8637\n",
      "Epoch 8/50\n",
      "15436/15436 [==============================] - 32s 2ms/step - loss: 0.1502 - binary_accuracy: 0.9449 - val_loss: 0.3514 - val_binary_accuracy: 0.8663\n",
      "Epoch 9/50\n",
      "15436/15436 [==============================] - 32s 2ms/step - loss: 0.1295 - binary_accuracy: 0.9554 - val_loss: 0.4020 - val_binary_accuracy: 0.8562\n",
      "Epoch 10/50\n",
      "15436/15436 [==============================] - 32s 2ms/step - loss: 0.1128 - binary_accuracy: 0.9616 - val_loss: 0.3895 - val_binary_accuracy: 0.8611\n",
      "Epoch 11/50\n",
      "15436/15436 [==============================] - 33s 2ms/step - loss: 0.0966 - binary_accuracy: 0.9686 - val_loss: 0.4102 - val_binary_accuracy: 0.8606\n",
      "Epoch 12/50\n",
      "15436/15436 [==============================] - 32s 2ms/step - loss: 0.0870 - binary_accuracy: 0.9712 - val_loss: 0.4261 - val_binary_accuracy: 0.8622\n",
      "Epoch 13/50\n",
      "15436/15436 [==============================] - 33s 2ms/step - loss: 0.0746 - binary_accuracy: 0.9771 - val_loss: 0.4841 - val_binary_accuracy: 0.8516\n",
      "Epoch 14/50\n",
      "15436/15436 [==============================] - 33s 2ms/step - loss: 0.0685 - binary_accuracy: 0.9802 - val_loss: 0.4671 - val_binary_accuracy: 0.8630\n",
      "Epoch 15/50\n",
      "15436/15436 [==============================] - 33s 2ms/step - loss: 0.0536 - binary_accuracy: 0.9857 - val_loss: 0.4946 - val_binary_accuracy: 0.8596\n",
      "3406/3406 [==============================] - 3s 769us/step\n",
      "_________________________________________________________________\n",
      "Layer (type)                 Output Shape              Param #   \n",
      "=================================================================\n",
      "embedding_14 (Embedding)     (None, 40, 300)           7565400   \n",
      "_________________________________________________________________\n",
      "lstm_21 (LSTM)               (None, 32)                42624     \n",
      "_________________________________________________________________\n",
      "dense_17 (Dense)             (None, 1)                 33        \n",
      "=================================================================\n",
      "Total params: 7,608,057\n",
      "Trainable params: 42,657\n",
      "Non-trainable params: 7,565,400\n",
      "_________________________________________________________________\n",
      "Train on 15436 samples, validate on 3860 samples\n",
      "Epoch 1/50\n",
      "15436/15436 [==============================] - 40s 3ms/step - loss: 0.4542 - binary_accuracy: 0.7804 - val_loss: 0.3638 - val_binary_accuracy: 0.8352\n",
      "Epoch 2/50\n",
      "15436/15436 [==============================] - 33s 2ms/step - loss: 0.3154 - binary_accuracy: 0.8651 - val_loss: 0.3587 - val_binary_accuracy: 0.8420\n",
      "Epoch 3/50\n",
      "15436/15436 [==============================] - 33s 2ms/step - loss: 0.2602 - binary_accuracy: 0.8925 - val_loss: 0.3171 - val_binary_accuracy: 0.8614\n",
      "Epoch 4/50\n",
      "15436/15436 [==============================] - 33s 2ms/step - loss: 0.2144 - binary_accuracy: 0.9166 - val_loss: 0.3156 - val_binary_accuracy: 0.8655\n",
      "Epoch 5/50\n",
      "15436/15436 [==============================] - 33s 2ms/step - loss: 0.1765 - binary_accuracy: 0.9335 - val_loss: 0.3355 - val_binary_accuracy: 0.8661\n",
      "Epoch 6/50\n",
      "15436/15436 [==============================] - 33s 2ms/step - loss: 0.1531 - binary_accuracy: 0.9436 - val_loss: 0.3481 - val_binary_accuracy: 0.8598\n",
      "Epoch 7/50\n",
      "15436/15436 [==============================] - 33s 2ms/step - loss: 0.1235 - binary_accuracy: 0.9570 - val_loss: 0.4119 - val_binary_accuracy: 0.8658\n",
      "Epoch 8/50\n",
      "15436/15436 [==============================] - 33s 2ms/step - loss: 0.0984 - binary_accuracy: 0.9666 - val_loss: 0.4088 - val_binary_accuracy: 0.8658\n",
      "Epoch 9/50\n",
      "15436/15436 [==============================] - 33s 2ms/step - loss: 0.0777 - binary_accuracy: 0.9747 - val_loss: 0.4694 - val_binary_accuracy: 0.8544\n",
      "Epoch 10/50\n",
      "15436/15436 [==============================] - 33s 2ms/step - loss: 0.0622 - binary_accuracy: 0.9808 - val_loss: 0.5088 - val_binary_accuracy: 0.8578\n",
      "Epoch 11/50\n",
      "15436/15436 [==============================] - 32s 2ms/step - loss: 0.0483 - binary_accuracy: 0.9866 - val_loss: 0.5115 - val_binary_accuracy: 0.8575\n",
      "Epoch 12/50\n",
      "15436/15436 [==============================] - 33s 2ms/step - loss: 0.0359 - binary_accuracy: 0.9899 - val_loss: 0.5803 - val_binary_accuracy: 0.8531\n",
      "Epoch 13/50\n",
      "15436/15436 [==============================] - 33s 2ms/step - loss: 0.0364 - binary_accuracy: 0.9898 - val_loss: 0.5579 - val_binary_accuracy: 0.8516\n",
      "Epoch 14/50\n",
      "15436/15436 [==============================] - 33s 2ms/step - loss: 0.0313 - binary_accuracy: 0.9906 - val_loss: 0.6110 - val_binary_accuracy: 0.8549\n",
      "3406/3406 [==============================] - 3s 776us/step\n",
      "_________________________________________________________________\n",
      "Layer (type)                 Output Shape              Param #   \n",
      "=================================================================\n",
      "embedding_15 (Embedding)     (None, 40, 300)           7565400   \n",
      "_________________________________________________________________\n",
      "lstm_22 (LSTM)               (None, 64)                93440     \n",
      "_________________________________________________________________\n",
      "dense_18 (Dense)             (None, 1)                 65        \n",
      "=================================================================\n",
      "Total params: 7,658,905\n",
      "Trainable params: 93,505\n",
      "Non-trainable params: 7,565,400\n",
      "_________________________________________________________________\n",
      "Train on 15436 samples, validate on 3860 samples\n",
      "Epoch 1/50\n",
      "15436/15436 [==============================] - 40s 3ms/step - loss: 0.4292 - binary_accuracy: 0.7988 - val_loss: 0.3513 - val_binary_accuracy: 0.8446\n",
      "Epoch 2/50\n",
      "15436/15436 [==============================] - 33s 2ms/step - loss: 0.3052 - binary_accuracy: 0.8719 - val_loss: 0.3244 - val_binary_accuracy: 0.8573\n",
      "Epoch 3/50\n",
      "15436/15436 [==============================] - 33s 2ms/step - loss: 0.2449 - binary_accuracy: 0.8967 - val_loss: 0.3124 - val_binary_accuracy: 0.8671\n",
      "Epoch 4/50\n",
      "15436/15436 [==============================] - 33s 2ms/step - loss: 0.1943 - binary_accuracy: 0.9206 - val_loss: 0.3036 - val_binary_accuracy: 0.8715\n",
      "Epoch 5/50\n",
      "15436/15436 [==============================] - 33s 2ms/step - loss: 0.1497 - binary_accuracy: 0.9418 - val_loss: 0.3323 - val_binary_accuracy: 0.8725\n",
      "Epoch 6/50\n",
      "15436/15436 [==============================] - 32s 2ms/step - loss: 0.1074 - binary_accuracy: 0.9627 - val_loss: 0.3642 - val_binary_accuracy: 0.8780\n",
      "Epoch 7/50\n",
      "15436/15436 [==============================] - 32s 2ms/step - loss: 0.0780 - binary_accuracy: 0.9719 - val_loss: 0.4151 - val_binary_accuracy: 0.8661\n",
      "Epoch 8/50\n",
      "15436/15436 [==============================] - 32s 2ms/step - loss: 0.0501 - binary_accuracy: 0.9845 - val_loss: 0.4755 - val_binary_accuracy: 0.8712\n",
      "Epoch 9/50\n",
      "15436/15436 [==============================] - 32s 2ms/step - loss: 0.0396 - binary_accuracy: 0.9874 - val_loss: 0.5267 - val_binary_accuracy: 0.8611\n",
      "Epoch 10/50\n",
      "15436/15436 [==============================] - 32s 2ms/step - loss: 0.0307 - binary_accuracy: 0.9915 - val_loss: 0.5548 - val_binary_accuracy: 0.8619\n",
      "Epoch 11/50\n",
      "15436/15436 [==============================] - 32s 2ms/step - loss: 0.0232 - binary_accuracy: 0.9936 - val_loss: 0.5513 - val_binary_accuracy: 0.8635\n",
      "Epoch 12/50\n",
      "15436/15436 [==============================] - 32s 2ms/step - loss: 0.0243 - binary_accuracy: 0.9933 - val_loss: 0.5638 - val_binary_accuracy: 0.8642\n",
      "Epoch 13/50\n",
      "15436/15436 [==============================] - 32s 2ms/step - loss: 0.0158 - binary_accuracy: 0.9957 - val_loss: 0.6110 - val_binary_accuracy: 0.8648\n",
      "Epoch 14/50\n",
      "15436/15436 [==============================] - 32s 2ms/step - loss: 0.0108 - binary_accuracy: 0.9973 - val_loss: 0.7120 - val_binary_accuracy: 0.8655\n",
      "3406/3406 [==============================] - 3s 735us/step\n"
     ]
    }
   ],
   "source": [
    "# building and evaluating models using functions from build_evaluate_nn module\n",
    "# to remove\n",
    "lst = []\n",
    "for model, params in models.items():\n",
    "  acc = (evaluate_lstm_model(build_lstm_model(params), X_train_nn, X_val_nn, y_train, y_val, model, early_stopping=True))\n",
    "  lst.append(acc)"
   ]
  },
  {
   "cell_type": "code",
   "execution_count": 0,
   "metadata": {
    "colab": {},
    "colab_type": "code",
    "collapsed": true,
    "id": "QKTpptMJyn_Y"
   },
   "outputs": [],
   "source": [
    "# printing accuracy of models\n",
    "model_results = pd.DataFrame(list(zip(models.keys(), lst)), columns=[\"model\", \"accuracy_val\"]).sort_values(by=\"accuracy_val\", ascending=False).reset_index(drop=True)"
   ]
  },
  {
   "cell_type": "code",
   "execution_count": 0,
   "metadata": {
    "colab": {
     "base_uri": "https://localhost:8080/",
     "height": 142
    },
    "colab_type": "code",
    "collapsed": false,
    "id": "G-OXBMFWyp2l",
    "outputId": "a59250b9-94b0-4748-fe5f-9db7d23b7f99"
   },
   "outputs": [
    {
     "data": {
      "text/html": [
       "<div>\n",
       "<style scoped>\n",
       "    .dataframe tbody tr th:only-of-type {\n",
       "        vertical-align: middle;\n",
       "    }\n",
       "\n",
       "    .dataframe tbody tr th {\n",
       "        vertical-align: top;\n",
       "    }\n",
       "\n",
       "    .dataframe thead th {\n",
       "        text-align: right;\n",
       "    }\n",
       "</style>\n",
       "<table border=\"1\" class=\"dataframe\">\n",
       "  <thead>\n",
       "    <tr style=\"text-align: right;\">\n",
       "      <th></th>\n",
       "      <th>model</th>\n",
       "      <th>accuracy_val</th>\n",
       "    </tr>\n",
       "  </thead>\n",
       "  <tbody>\n",
       "    <tr>\n",
       "      <th>0</th>\n",
       "      <td>LSTM_64n</td>\n",
       "      <td>0.865238</td>\n",
       "    </tr>\n",
       "    <tr>\n",
       "      <th>1</th>\n",
       "      <td>LSTM_32n</td>\n",
       "      <td>0.856430</td>\n",
       "    </tr>\n",
       "    <tr>\n",
       "      <th>2</th>\n",
       "      <td>LSTM_16n</td>\n",
       "      <td>0.855843</td>\n",
       "    </tr>\n",
       "  </tbody>\n",
       "</table>\n",
       "</div>"
      ],
      "text/plain": [
       "      model  accuracy_val\n",
       "0  LSTM_64n      0.865238\n",
       "1  LSTM_32n      0.856430\n",
       "2  LSTM_16n      0.855843"
      ]
     },
     "execution_count": 60,
     "metadata": {
      "tags": []
     },
     "output_type": "execute_result"
    }
   ],
   "source": [
    "model_results"
   ]
  },
  {
   "cell_type": "markdown",
   "metadata": {
    "colab_type": "text",
    "id": "es9xwoJp8kBA"
   },
   "source": [
    "The model with one hidden layer conatining 64 neurons reached a very good score of 86,5% on validation set. "
   ]
  },
  {
   "cell_type": "code",
   "execution_count": 10,
   "metadata": {
    "colab": {
     "base_uri": "https://localhost:8080/",
     "height": 1092
    },
    "colab_type": "code",
    "collapsed": false,
    "id": "dTKbwG1PzGGs",
    "outputId": "13b4df34-a42b-4e5a-de04-6bdb493230d1"
   },
   "outputs": [
    {
     "name": "stderr",
     "output_type": "stream",
     "text": [
      "W0619 09:08:27.326585 139735665244032 deprecation_wrapper.py:119] From /usr/local/lib/python3.6/dist-packages/keras/backend/tensorflow_backend.py:517: The name tf.placeholder is deprecated. Please use tf.compat.v1.placeholder instead.\n",
      "\n",
      "W0619 09:08:27.335845 139735665244032 deprecation_wrapper.py:119] From /usr/local/lib/python3.6/dist-packages/keras/backend/tensorflow_backend.py:4138: The name tf.random_uniform is deprecated. Please use tf.random.uniform instead.\n",
      "\n",
      "W0619 09:08:27.582457 139735665244032 deprecation_wrapper.py:119] From /usr/local/lib/python3.6/dist-packages/keras/backend/tensorflow_backend.py:174: The name tf.get_default_session is deprecated. Please use tf.compat.v1.get_default_session instead.\n",
      "\n",
      "W0619 09:08:27.583410 139735665244032 deprecation_wrapper.py:119] From /usr/local/lib/python3.6/dist-packages/keras/backend/tensorflow_backend.py:181: The name tf.ConfigProto is deprecated. Please use tf.compat.v1.ConfigProto instead.\n",
      "\n",
      "W0619 09:08:30.532223 139735665244032 deprecation_wrapper.py:119] From /usr/local/lib/python3.6/dist-packages/keras/optimizers.py:790: The name tf.train.Optimizer is deprecated. Please use tf.compat.v1.train.Optimizer instead.\n",
      "\n",
      "W0619 09:08:30.544114 139735665244032 deprecation.py:323] From /usr/local/lib/python3.6/dist-packages/tensorflow/python/ops/nn_impl.py:180: add_dispatch_support.<locals>.wrapper (from tensorflow.python.ops.array_ops) is deprecated and will be removed in a future version.\n",
      "Instructions for updating:\n",
      "Use tf.where in 2.0, which has the same broadcast rule as np.where\n"
     ]
    },
    {
     "data": {
      "image/png": "[encoded data removed]",
      "text/plain": [
       "<Figure size 432x288 with 1 Axes>"
      ]
     },
     "metadata": {
      "tags": []
     },
     "output_type": "display_data"
    },
    {
     "data": {
      "image/png": "[encoded data removed]",
      "text/plain": [
       "<Figure size 432x288 with 1 Axes>"
      ]
     },
     "metadata": {
      "tags": []
     },
     "output_type": "display_data"
    },
    {
     "data": {
      "image/png": "[encoded data removed]",
      "text/plain": [
       "<Figure size 432x288 with 1 Axes>"
      ]
     },
     "metadata": {
      "tags": []
     },
     "output_type": "display_data"
    }
   ],
   "source": [
    "plot_accuracy(path_to_results, models)"
   ]
  },
  {
   "cell_type": "code",
   "execution_count": 11,
   "metadata": {
    "colab": {
     "base_uri": "https://localhost:8080/",
     "height": 851
    },
    "colab_type": "code",
    "collapsed": false,
    "id": "22w7VbaSzHBH",
    "outputId": "2a10f2a1-cfee-43ec-f1d6-0da7eaba7575"
   },
   "outputs": [
    {
     "data": {
      "image/png": "[encoded data removed]",
      "text/plain": [
       "<Figure size 432x288 with 1 Axes>"
      ]
     },
     "metadata": {
      "tags": []
     },
     "output_type": "display_data"
    },
    {
     "data": {
      "image/png": "[encoded data removed]",
      "text/plain": [
       "<Figure size 432x288 with 1 Axes>"
      ]
     },
     "metadata": {
      "tags": []
     },
     "output_type": "display_data"
    },
    {
     "data": {
      "image/png": "[encoded data removed]",
      "text/plain": [
       "<Figure size 432x288 with 1 Axes>"
      ]
     },
     "metadata": {
      "tags": []
     },
     "output_type": "display_data"
    }
   ],
   "source": [
    "plot_loss(path_to_results, models)"
   ]
  },
  {
   "cell_type": "markdown",
   "metadata": {
    "colab_type": "text",
    "id": "Dd7AGxFmBa1Y"
   },
   "source": [
    "The plots of loss and accuracy follow the same patern as for bigger models. However, I will check best performer in this run: LSTM with 64 neurons on test and treat it as a final model."
   ]
  },
  {
   "cell_type": "markdown",
   "metadata": {
    "colab_type": "text",
    "id": "q0ypxYfIqUZO"
   },
   "source": [
    "# Results on test set"
   ]
  },
  {
   "cell_type": "code",
   "execution_count": 22,
   "metadata": {
    "colab": {
     "base_uri": "https://localhost:8080/",
     "height": 272
    },
    "colab_type": "code",
    "collapsed": false,
    "id": "FsHaB8OiSXhY",
    "outputId": "42d1b68a-e3f3-4266-f927-d094b0fd4eea"
   },
   "outputs": [
    {
     "name": "stdout",
     "output_type": "stream",
     "text": [
      "_________________________________________________________________\n",
      "Layer (type)                 Output Shape              Param #   \n",
      "=================================================================\n",
      "embedding_2 (Embedding)      (None, 40, 300)           7565400   \n",
      "_________________________________________________________________\n",
      "lstm_3 (LSTM)                (None, 64)                93440     \n",
      "_________________________________________________________________\n",
      "dense_3 (Dense)              (None, 1)                 65        \n",
      "=================================================================\n",
      "Total params: 7,658,905\n",
      "Trainable params: 93,505\n",
      "Non-trainable params: 7,565,400\n",
      "_________________________________________________________________\n",
      "4007/4007 [==============================] - 4s 1ms/step\n",
      "Accuracy of best model: 0.8684801597204892\n"
     ]
    }
   ],
   "source": [
    "# loading best model from a file and evaluating on test set\n",
    "\n",
    "best_model = build_lstm_model(models[\"LSTM_64n\"])\n",
    "best_model.load_weights(\"/content/gdrive/My Drive/zadanie_Roche/models/LSTM_64n.h5py\")\n",
    "best_model.compile(loss=\"binary_crossentropy\",\n",
    "               optimizer=\"adam\", \n",
    "               metrics=[\"binary_accuracy\"])\n",
    "best_model_score = best_model.evaluate(X_test_nn, y_test)[1]\n",
    "print(f\"Accuracy of best model: {best_model_score}\")\n",
    "best_model.save(\"/content/gdrive/My Drive/zadanie_Roche/models/best_model.h5py\")"
   ]
  },
  {
   "cell_type": "markdown",
   "metadata": {
    "colab_type": "text",
    "id": "-XFGsWtiBSca"
   },
   "source": [
    "Even though the plots suggest that the model could be overfitted, it generalized well on the test set with the accuracy of 86,8%. "
   ]
  },
  {
   "cell_type": "code",
   "execution_count": 0,
   "metadata": {
    "colab": {},
    "colab_type": "code",
    "collapsed": true,
    "id": "lMJGOyxCAgKO"
   },
   "outputs": [],
   "source": [
    "best_model = load_model(\"/content/gdrive/My Drive/zadanie_Roche/models/best_model.h5py\")"
   ]
  },
  {
   "cell_type": "code",
   "execution_count": 0,
   "metadata": {
    "colab": {},
    "colab_type": "code",
    "collapsed": true,
    "id": "SDvAYR2iERNj"
   },
   "outputs": [],
   "source": [
    "y_pred_test = best_model.predict_classes(X_test_nn)"
   ]
  },
  {
   "cell_type": "code",
   "execution_count": 0,
   "metadata": {
    "colab": {},
    "colab_type": "code",
    "collapsed": true,
    "id": "VU0YYHbZFMIX"
   },
   "outputs": [],
   "source": [
    "def plot_confusion_matrix(y_true, y_pred, classes,\n",
    "                          normalize=False,\n",
    "                          title=None,\n",
    "                          cmap=plt.cm.Blues):\n",
    "    \"\"\"\n",
    "    Snippet from sklearn docs.\n",
    "    This function prints and plots the confusion matrix.\n",
    "    Normalization can be applied by setting `normalize=True`.\n",
    "    \"\"\"\n",
    "    if not title:\n",
    "        if normalize:\n",
    "            title = 'Normalized confusion matrix'\n",
    "        else:\n",
    "            title = 'Confusion matrix, without normalization'\n",
    "\n",
    "    # Compute confusion matrix\n",
    "    cm = confusion_matrix(y_true, y_pred)\n",
    "    # Only use the labels that appear in the data\n",
    "    #classes = classes[unique_labels(y_true, y_pred)]\n",
    "    if normalize:\n",
    "        cm = cm.astype('float') / cm.sum(axis=1)[:, np.newaxis]\n",
    "        print(\"Normalized confusion matrix\")\n",
    "    else:\n",
    "        print('Confusion matrix, without normalization')\n",
    "\n",
    "    print(cm)\n",
    "\n",
    "    fig, ax = plt.subplots()\n",
    "    im = ax.imshow(cm, interpolation='nearest', cmap=cmap)\n",
    "    ax.figure.colorbar(im, ax=ax)\n",
    "    # We want to show all ticks...\n",
    "    ax.set(xticks=np.arange(cm.shape[1]),\n",
    "           yticks=np.arange(cm.shape[0]),\n",
    "           # ... and label them with the respective list entries\n",
    "           xticklabels=classes, yticklabels=classes,\n",
    "           title=title,\n",
    "           ylabel='True label',\n",
    "           xlabel='Predicted label')\n",
    "\n",
    "    # Rotate the tick labels and set their alignment.\n",
    "    plt.setp(ax.get_xticklabels(), rotation=45, ha=\"right\",\n",
    "             rotation_mode=\"anchor\")\n",
    "\n",
    "    # Loop over data dimensions and create text annotations.\n",
    "    fmt = '.2f' if normalize else 'd'\n",
    "    thresh = cm.max() / 2.\n",
    "    for i in range(cm.shape[0]):\n",
    "        for j in range(cm.shape[1]):\n",
    "            ax.text(j, i, format(cm[i, j], fmt),\n",
    "                    ha=\"center\", va=\"center\",\n",
    "                    color=\"white\" if cm[i, j] > thresh else \"black\")\n",
    "    fig.tight_layout()\n",
    "    return ax"
   ]
  },
  {
   "cell_type": "code",
   "execution_count": 50,
   "metadata": {
    "colab": {
     "base_uri": "https://localhost:8080/",
     "height": 348
    },
    "colab_type": "code",
    "collapsed": false,
    "id": "-ZEYKQ0lGLvT",
    "outputId": "1b0e5ccf-f9a7-4c91-c4ec-69e970fd17b5"
   },
   "outputs": [
    {
     "name": "stdout",
     "output_type": "stream",
     "text": [
      "Normalized confusion matrix\n",
      "[[0.87062 0.12938]\n",
      " [0.13429 0.86571]]\n"
     ]
    },
    {
     "data": {
      "image/png": "[encoded data removed]",
      "text/plain": [
       "<Figure size 432x288 with 2 Axes>"
      ]
     },
     "metadata": {
      "tags": []
     },
     "output_type": "display_data"
    }
   ],
   "source": [
    "np.set_printoptions(precision=5)\n",
    "plot_confusion_matrix(y_test, y_pred_test, classes=[\"non_sarcastic\", \"sarcastic\"], normalize=True,\n",
    "                      title='Normalized confusion matrix')\n",
    "plt.show()"
   ]
  },
  {
   "cell_type": "markdown",
   "metadata": {
    "colab_type": "text",
    "id": "PHbsWO6PKC3x"
   },
   "source": [
    "87% of both sarcastic and non-sarcastic headlines were classified correctly."
   ]
  }
 ],
 "metadata": {
  "accelerator": "GPU",
  "colab": {
   "collapsed_sections": [],
   "name": "task_Roche.ipynb",
   "provenance": [],
   "toc_visible": true,
   "version": "0.3.2"
  },
  "kernelspec": {
   "display_name": "Python 3",
   "language": "python",
   "name": "python3"
  },
  "language_info": {
   "codemirror_mode": {
    "name": "ipython",
    "version": 3
   },
   "file_extension": ".py",
   "mimetype": "text/x-python",
   "name": "python",
   "nbconvert_exporter": "python",
   "pygments_lexer": "ipython3",
   "version": "3.6.8"
  }
 },
 "nbformat": 4,
 "nbformat_minor": 0
}
