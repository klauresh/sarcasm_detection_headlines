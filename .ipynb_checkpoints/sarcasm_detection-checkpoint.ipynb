{
 "cells": [
  {
   "cell_type": "markdown",
   "metadata": {
    "colab_type": "text",
    "id": "VfTGyC8lyn7_"
   },
   "source": [
    "# Import of libraries and files"
   ]
  },
  {
   "cell_type": "code",
   "execution_count": 4,
   "metadata": {
    "colab": {
     "base_uri": "https://localhost:8080/",
     "height": 459
    },
    "colab_type": "code",
    "collapsed": false,
    "id": "8ybk7r4rx5_A",
    "outputId": "a0420e67-e1ce-4828-abd3-0922c83aa87b"
   },
   "outputs": [
    {
     "name": "stdout",
     "output_type": "stream",
     "text": [
      "Collecting ndjson\n",
      "  Downloading https://files.pythonhosted.org/packages/39/ba/0628840da7b61fb63a6a0e030291a7a5e5d393a51cbcb27ded8b2a838aa9/ndjson-0.1.0-py2.py3-none-any.whl\n",
      "Installing collected packages: ndjson\n",
      "Successfully installed ndjson-0.1.0\n",
      "\u001b[33mYou are using pip version 19.0.1, however version 19.1.1 is available.\n",
      "You should consider upgrading via the 'pip install --upgrade pip' command.\u001b[0m\n"
     ]
    },
    {
     "ename": "TabError",
     "evalue": "inconsistent use of tabs and spaces in indentation (preprocess_texts.py, line 11)",
     "output_type": "error",
     "traceback": [
      "\u001b[0;36m  File \u001b[0;32m\"/home/kodolamacz/ML/Zadanie_Roche/sarcasm_detection_headlines/src/preprocess_texts.py\"\u001b[0;36m, line \u001b[0;32m11\u001b[0m\n\u001b[0;31m    X_2 = X.apply(nltk.word_tokenize)\u001b[0m\n\u001b[0m                                     ^\u001b[0m\n\u001b[0;31mTabError\u001b[0m\u001b[0;31m:\u001b[0m inconsistent use of tabs and spaces in indentation\n"
     ]
    }
   ],
   "source": [
    "import pandas as pd\n",
    "import numpy as np\n",
    "import os\n",
    "import nltk\n",
    "from nltk.corpus import stopwords\n",
    "from nltk.stem.porter import PorterStemmer\n",
    "from collections import Counter\n",
    "import string\n",
    "from sklearn.model_selection import train_test_split\n",
    "from sklearn.feature_extraction.text import CountVectorizer, TfidfVectorizer\n",
    "from sklearn.metrics import accuracy_score\n",
    "from sklearn.decomposition import LatentDirichletAllocation\n",
    "import pyLDAvis\n",
    "import pyLDAvis.sklearn\n",
    "pyLDAvis.enable_notebook()\n",
    "from __future__ import print_function\n",
    "from sklearn.externals import joblib\n",
    "from keras.preprocessing.text import Tokenizer\n",
    "from keras.preprocessing import sequence\n",
    "from keras.models import Sequential, load_model\n",
    "from keras.layers import Dense, Embedding, LSTM, Bidirectional, MaxPooling1D, Conv1D\n",
    "from keras.callbacks import EarlyStopping, ModelCheckpoint\n",
    "import h5py\n",
    "import matplotlib.pyplot as plt\n",
    "%matplotlib inline\n",
    "import seaborn as sns\n",
    "import warnings\n",
    "warnings.filterwarnings(\"ignore\")\n",
    "! pip install ndjson\n",
    "import ndjson\n",
    "import json\n",
    "from sklearn.naive_bayes import MultinomialNB\n",
    "from src.process_ndjson_to_json import process_ndjson_to_json\n",
    "from src.preprocess_texts import preprocess_texts\n",
    "from src.load_build_mebeddings import load_build_mebeddings\n",
    "from src.build_evaluate_nn import build_evaluate_nn\n",
    "from src.plot_accuracy_loss import plot_accuracy_loss\n"
   ]
  },
  {
   "cell_type": "code",
   "execution_count": 2,
   "metadata": {
    "colab": {
     "base_uri": "https://localhost:8080/",
     "height": 122
    },
    "colab_type": "code",
    "collapsed": false,
    "id": "bbgKD3HJym4L",
    "outputId": "b9f96dbf-a83f-413f-d658-3120b6246bfd"
   },
   "outputs": [
    {
     "name": "stdout",
     "output_type": "stream",
     "text": [
      "Go to this URL in a browser: https://accounts.google.com/o/oauth2/auth?client_id=947318989803-6bn6qk8qdgf4n4g3pfee6491hc0brc4i.apps.googleusercontent.com&redirect_uri=urn%3Aietf%3Awg%3Aoauth%3A2.0%3Aoob&scope=email%20https%3A%2F%2Fwww.googleapis.com%2Fauth%2Fdocs.test%20https%3A%2F%2Fwww.googleapis.com%2Fauth%2Fdrive%20https%3A%2F%2Fwww.googleapis.com%2Fauth%2Fdrive.photos.readonly%20https%3A%2F%2Fwww.googleapis.com%2Fauth%2Fpeopleapi.readonly&response_type=code\n",
      "\n",
      "Enter your authorization code:\n",
      "··········\n",
      "Mounted at /content/gdrive\n"
     ]
    }
   ],
   "source": [
    "from google.colab import drive # to remove!!!!!!\n",
    "drive.mount('/content/gdrive')"
   ]
  },
  {
   "cell_type": "code",
   "execution_count": 0,
   "metadata": {
    "colab": {},
    "colab_type": "code",
    "collapsed": true,
    "id": "XzZbIMuZza-q"
   },
   "outputs": [],
   "source": [
    "# data is in new line delimited json format so I use ndjson library to open it\n",
    "ndjson_file = 'data/raw/data.json'\n",
    "ndjson_file = '/content/gdrive/My Drive/zadanie_Roche/data.json' # to remove!!!!!!\n",
    "# with open(ndjson_file) as f:  # to remove!!!!!!\n",
    "#     data = ndjson.load(f) # to remove!!!!!!"
   ]
  },
  {
   "cell_type": "code",
   "execution_count": 0,
   "metadata": {
    "colab": {},
    "colab_type": "code",
    "collapsed": true,
    "id": "NBbxgfBbcYKn"
   },
   "outputs": [],
   "source": [
    "json_file = 'data/processed/data_final.json'\n",
    "json_file = '/content/gdrive/My Drive/zadanie_Roche/data_final.json' # to remove!!!!!!"
   ]
  },
  {
   "cell_type": "code",
   "execution_count": 0,
   "metadata": {
    "colab": {},
    "colab_type": "code",
    "collapsed": true,
    "id": "hGTqqPAdybux"
   },
   "outputs": [],
   "source": [
    "data_json = process_ndjson_to_json(ndjson_file, json_file)"
   ]
  },
  {
   "cell_type": "code",
   "execution_count": 0,
   "metadata": {
    "colab": {},
    "colab_type": "code",
    "collapsed": true,
    "id": "0Pw6kDPO9MlD"
   },
   "outputs": [],
   "source": [
    "# saving in proper json file so that pandas can read it # to remove!!!!!!\n",
    "# with open(json_file, \"w\") as f:  # to remove!!!!!!\n",
    "#     json.dump(data, f) # to remove!!!!!!"
   ]
  },
  {
   "cell_type": "code",
   "execution_count": 0,
   "metadata": {
    "colab": {},
    "colab_type": "code",
    "collapsed": true,
    "id": "J3unIfvh5ri3"
   },
   "outputs": [],
   "source": [
    "data = pd.read_json(json_file, orient=\"records\")"
   ]
  },
  {
   "cell_type": "code",
   "execution_count": 39,
   "metadata": {
    "colab": {
     "base_uri": "https://localhost:8080/",
     "height": 204
    },
    "colab_type": "code",
    "collapsed": false,
    "id": "RDDE-BvI7TzP",
    "outputId": "eb3e45b3-e0be-4f01-e4af-e19e5742a950"
   },
   "outputs": [
    {
     "data": {
      "text/html": [
       "<div>\n",
       "<style scoped>\n",
       "    .dataframe tbody tr th:only-of-type {\n",
       "        vertical-align: middle;\n",
       "    }\n",
       "\n",
       "    .dataframe tbody tr th {\n",
       "        vertical-align: top;\n",
       "    }\n",
       "\n",
       "    .dataframe thead th {\n",
       "        text-align: right;\n",
       "    }\n",
       "</style>\n",
       "<table border=\"1\" class=\"dataframe\">\n",
       "  <thead>\n",
       "    <tr style=\"text-align: right;\">\n",
       "      <th></th>\n",
       "      <th>headline</th>\n",
       "      <th>is_sarcastic</th>\n",
       "    </tr>\n",
       "  </thead>\n",
       "  <tbody>\n",
       "    <tr>\n",
       "      <th>0</th>\n",
       "      <td>former versace store clerk sues over secret 'b...</td>\n",
       "      <td>0</td>\n",
       "    </tr>\n",
       "    <tr>\n",
       "      <th>1</th>\n",
       "      <td>the 'roseanne' revival catches up to our thorn...</td>\n",
       "      <td>0</td>\n",
       "    </tr>\n",
       "    <tr>\n",
       "      <th>2</th>\n",
       "      <td>mom starting to fear son's web series closest ...</td>\n",
       "      <td>1</td>\n",
       "    </tr>\n",
       "    <tr>\n",
       "      <th>3</th>\n",
       "      <td>boehner just wants wife to listen, not come up...</td>\n",
       "      <td>1</td>\n",
       "    </tr>\n",
       "    <tr>\n",
       "      <th>4</th>\n",
       "      <td>j.k. rowling wishes snape happy birthday in th...</td>\n",
       "      <td>0</td>\n",
       "    </tr>\n",
       "  </tbody>\n",
       "</table>\n",
       "</div>"
      ],
      "text/plain": [
       "                                            headline  is_sarcastic\n",
       "0  former versace store clerk sues over secret 'b...             0\n",
       "1  the 'roseanne' revival catches up to our thorn...             0\n",
       "2  mom starting to fear son's web series closest ...             1\n",
       "3  boehner just wants wife to listen, not come up...             1\n",
       "4  j.k. rowling wishes snape happy birthday in th...             0"
      ]
     },
     "execution_count": 39,
     "metadata": {
      "tags": []
     },
     "output_type": "execute_result"
    }
   ],
   "source": [
    "data.head()"
   ]
  },
  {
   "cell_type": "code",
   "execution_count": 0,
   "metadata": {
    "colab": {
     "base_uri": "https://localhost:8080/",
     "height": 34
    },
    "colab_type": "code",
    "collapsed": false,
    "id": "D0dpdQVYABrW",
    "outputId": "e901904c-f5e7-4e48-8dcb-738caa7f3e0f"
   },
   "outputs": [
    {
     "name": "stdout",
     "output_type": "stream",
     "text": [
      "There are 26709 headlines\n"
     ]
    }
   ],
   "source": [
    "print(f'There are {data.shape[0]} headlines')"
   ]
  },
  {
   "cell_type": "code",
   "execution_count": 0,
   "metadata": {
    "colab": {
     "base_uri": "https://localhost:8080/",
     "height": 68
    },
    "colab_type": "code",
    "collapsed": false,
    "id": "I-6aA208NV_T",
    "outputId": "1cad7900-494c-4463-97a7-a12b10a49152"
   },
   "outputs": [
    {
     "data": {
      "text/plain": [
       "0    14985\n",
       "1    11724\n",
       "Name: is_sarcastic, dtype: int64"
      ]
     },
     "execution_count": 24,
     "metadata": {
      "tags": []
     },
     "output_type": "execute_result"
    }
   ],
   "source": [
    "# checking number of sarcastic and non-sarcastic comments\n",
    "data['is_sarcastic'].value_counts()"
   ]
  },
  {
   "cell_type": "markdown",
   "metadata": {
    "colab_type": "text",
    "id": "VJ8mrCL3No2_"
   },
   "source": [
    "Classes are rather balanced so accuracy can be used as classification metric."
   ]
  },
  {
   "cell_type": "markdown",
   "metadata": {
    "colab_type": "text",
    "id": "SXksnZ00Bq9y"
   },
   "source": [
    "# Topic modelling (LDA)"
   ]
  },
  {
   "cell_type": "markdown",
   "metadata": {
    "colab_type": "text",
    "id": "IL5zU8HdkPlM"
   },
   "source": [
    "The motivation to use LDA is to present documents (in our case headlines) as a combination of the underlying topics. It will be interesting to check if there are some common topics for sarcastic headlines."
   ]
  },
  {
   "cell_type": "markdown",
   "metadata": {
    "colab_type": "text",
    "id": "mkKQwu1H8aXQ"
   },
   "source": [
    "First, I will preprocess headlines using module preprocess_texts including:\n",
    "\n",
    "\n",
    "*   setting to lowercase\n",
    "*   removing stopwords\n",
    "*   removing punctuation\n",
    "*   stemming\n",
    "\n"
   ]
  },
  {
   "cell_type": "code",
   "execution_count": 0,
   "metadata": {
    "colab": {},
    "colab_type": "code",
    "collapsed": true,
    "id": "T_lE74D99iHY"
   },
   "outputs": [],
   "source": [
    "sarcastic_headlines = data[\"headline\"][data['is_sarcastic']==1]"
   ]
  },
  {
   "cell_type": "code",
   "execution_count": 0,
   "metadata": {
    "colab": {},
    "colab_type": "code",
    "collapsed": true,
    "id": "GRAOsNaJVfZY"
   },
   "outputs": [],
   "source": [
    "headlines_preprocessed = preprocess_texts(sarcastic_headlines)"
   ]
  },
  {
   "cell_type": "code",
   "execution_count": 0,
   "metadata": {
    "colab": {},
    "colab_type": "code",
    "collapsed": true,
    "id": "kIi6WNbFxhO3"
   },
   "outputs": [],
   "source": [
    "# to remove!!!\n",
    "def preprocess_texts(X):\n",
    "    # 1.step: turning all words into lower case\n",
    "    X_1 = X.str.lower()\n",
    "\n",
    "    # 2.step: tokenizing texts (getting a list of all words used)\n",
    "    X_2 = X.apply(nltk.word_tokenize)\n",
    "\n",
    "    # 3.step: removing the stopwords\n",
    "    stopwords = nltk.corpus.stopwords.words(\"english\")\n",
    "    X_3 = [[word for word in headline if word not in stopwords] for headline in X_2]\n",
    "\n",
    "    # 4.step: stemming the words\n",
    "    stemmer = nltk.PorterStemmer()\n",
    "    X_4 = [[stemmer.stem(word) for word in headline] for headline in X_3]\n",
    "\n",
    "    # 6.step: getting rid of punctuation  \n",
    "    X_5 = [\" \".join(word) for word in X_4]\n",
    "    table = str.maketrans({key: None for key in string.punctuation})\n",
    "    X_6 = [w.translate(table) for w in X_5]\n",
    "\n",
    "    return X_6"
   ]
  },
  {
   "cell_type": "markdown",
   "metadata": {
    "colab_type": "text",
    "id": "vNgNEq6NgCD1"
   },
   "source": [
    "Headlines prepared in such a way are ready to be vectorized. \n",
    "\n",
    "For LDA I will use CountVectorizer with parameter max_df set to 0.4, which means that it will disregard words that are common to more than 40% of the headlines. Such words don't convey any unique meaning and don't have predictive power. I will set min_df=2 as I don't want to take into account words that occured only once."
   ]
  },
  {
   "cell_type": "code",
   "execution_count": 0,
   "metadata": {
    "colab": {},
    "colab_type": "code",
    "collapsed": true,
    "id": "oKBO7WRKGmhO"
   },
   "outputs": [],
   "source": [
    "#Creating vectorized reprezentation of headlines\n",
    "tf_vectorizer = CountVectorizer(max_df=0.4, min_df=2)\n",
    "headlines_vectorized = tf_vectorizer.fit_transform(headlines_preprocessed)"
   ]
  },
  {
   "cell_type": "code",
   "execution_count": 31,
   "metadata": {
    "colab": {
     "base_uri": "https://localhost:8080/",
     "height": 136
    },
    "colab_type": "code",
    "collapsed": false,
    "id": "BVcwX3i6KPiQ",
    "outputId": "1a492f8d-d206-4688-8910-ce5caea40130"
   },
   "outputs": [
    {
     "data": {
      "text/plain": [
       "LatentDirichletAllocation(batch_size=128, doc_topic_prior=None,\n",
       "                          evaluate_every=-1, learning_decay=0.7,\n",
       "                          learning_method='batch', learning_offset=10.0,\n",
       "                          max_doc_update_iter=100, max_iter=10,\n",
       "                          mean_change_tol=0.001, n_components=10, n_jobs=None,\n",
       "                          perp_tol=0.1, random_state=52, topic_word_prior=None,\n",
       "                          total_samples=1000000.0, verbose=0)"
      ]
     },
     "execution_count": 31,
     "metadata": {
      "tags": []
     },
     "output_type": "execute_result"
    }
   ],
   "source": [
    "lda = LatentDirichletAllocation(random_state=52, n_components=10)\n",
    "lda.fit(headlines_vectorized)"
   ]
  },
  {
   "cell_type": "code",
   "execution_count": 0,
   "metadata": {
    "colab": {},
    "colab_type": "code",
    "collapsed": true,
    "id": "rTy_wCtnLZCS"
   },
   "outputs": [],
   "source": [
    "LDA_vis = pyLDAvis.sklearn.prepare(lda, headlines_vectorized, tf_vectorizer)"
   ]
  },
  {
   "cell_type": "code",
   "execution_count": 33,
   "metadata": {
    "colab": {
     "base_uri": "https://localhost:8080/",
     "height": 861
    },
    "colab_type": "code",
    "collapsed": false,
    "id": "R98mXje5LiDN",
    "outputId": "8fbad9fa-6443-4ad9-837b-f38f718b5b31"
   },
   "outputs": [
    {
     "data": {
      "text/html": [
       "\n",
       "<link rel=\"stylesheet\" type=\"text/css\" href=\"https://cdn.rawgit.com/bmabey/pyLDAvis/files/ldavis.v1.0.0.css\">\n",
       "\n",
       "\n",
       "<div id=\"ldavis_el1261397002826979125301025379\"></div>\n",
       "<script type=\"text/javascript\">\n",
       "\n",
       "var ldavis_el1261397002826979125301025379_data = {\"mdsDat\": {\"x\": [0.03887329374099913, 0.050260850390719376, -0.03639625247141409, 0.07385080691632073, 0.047776340654240905, 0.0408187928929726, -0.14103598690366026, 0.017760874337462054, -0.1716669596725916, 0.07975824011495102], \"y\": [0.1344291887831031, -0.02099746289647757, 0.026839674766998108, 0.010256425994161504, 0.07987465117694928, 0.027830480034941193, 0.03580829748089921, -0.049928374394183454, -0.06564171786423953, -0.17847116308215202], \"topics\": [1, 2, 3, 4, 5, 6, 7, 8, 9, 10], \"cluster\": [1, 1, 1, 1, 1, 1, 1, 1, 1, 1], \"Freq\": [11.820723672147965, 11.064232937983949, 10.991545142096786, 10.541963413384922, 10.22105769476528, 10.107787867267044, 9.662546032029095, 9.569637437915, 8.242122014779717, 7.778383787630235]}, \"tinfo\": {\"Category\": [\"Default\", \"Default\", \"Default\", \"Default\", \"Default\", \"Default\", \"Default\", \"Default\", \"Default\", \"Default\", \"Default\", \"Default\", \"Default\", \"Default\", \"Default\", \"Default\", \"Default\", \"Default\", \"Default\", \"Default\", \"Default\", \"Default\", \"Default\", \"Default\", \"Default\", \"Default\", \"Default\", \"Default\", \"Default\", \"Default\", \"Topic1\", \"Topic1\", \"Topic1\", \"Topic1\", \"Topic1\", \"Topic1\", \"Topic1\", \"Topic1\", \"Topic1\", \"Topic1\", \"Topic1\", \"Topic1\", \"Topic1\", \"Topic1\", \"Topic1\", \"Topic1\", \"Topic1\", \"Topic1\", \"Topic1\", \"Topic1\", \"Topic1\", \"Topic1\", \"Topic1\", \"Topic1\", \"Topic1\", \"Topic1\", \"Topic1\", \"Topic1\", \"Topic1\", \"Topic1\", \"Topic1\", \"Topic1\", \"Topic1\", \"Topic1\", \"Topic1\", \"Topic1\", \"Topic1\", \"Topic1\", \"Topic1\", \"Topic1\", \"Topic1\", \"Topic1\", \"Topic1\", \"Topic1\", \"Topic1\", \"Topic1\", \"Topic1\", \"Topic1\", \"Topic1\", \"Topic1\", \"Topic1\", \"Topic1\", \"Topic1\", \"Topic1\", \"Topic1\", \"Topic1\", \"Topic1\", \"Topic1\", \"Topic1\", \"Topic1\", \"Topic1\", \"Topic1\", \"Topic1\", \"Topic1\", \"Topic1\", \"Topic1\", \"Topic1\", \"Topic1\", \"Topic1\", \"Topic1\", \"Topic1\", \"Topic1\", \"Topic1\", \"Topic1\", \"Topic1\", \"Topic1\", \"Topic1\", \"Topic2\", \"Topic2\", \"Topic2\", \"Topic2\", \"Topic2\", \"Topic2\", \"Topic2\", \"Topic2\", \"Topic2\", \"Topic2\", \"Topic2\", \"Topic2\", \"Topic2\", \"Topic2\", \"Topic2\", \"Topic2\", \"Topic2\", \"Topic2\", \"Topic2\", \"Topic2\", \"Topic2\", \"Topic2\", \"Topic2\", \"Topic2\", \"Topic2\", \"Topic2\", \"Topic2\", \"Topic2\", \"Topic2\", \"Topic2\", \"Topic2\", \"Topic2\", \"Topic2\", \"Topic2\", \"Topic2\", \"Topic2\", \"Topic2\", \"Topic2\", \"Topic2\", \"Topic2\", \"Topic2\", \"Topic2\", \"Topic2\", \"Topic2\", \"Topic2\", \"Topic2\", \"Topic2\", \"Topic2\", \"Topic2\", \"Topic2\", \"Topic2\", \"Topic2\", \"Topic2\", \"Topic2\", \"Topic2\", \"Topic2\", \"Topic2\", \"Topic2\", \"Topic2\", \"Topic2\", \"Topic2\", \"Topic2\", \"Topic2\", \"Topic2\", \"Topic2\", \"Topic2\", \"Topic2\", \"Topic2\", \"Topic2\", \"Topic2\", \"Topic2\", \"Topic2\", \"Topic2\", \"Topic3\", \"Topic3\", \"Topic3\", \"Topic3\", \"Topic3\", \"Topic3\", \"Topic3\", \"Topic3\", \"Topic3\", \"Topic3\", \"Topic3\", \"Topic3\", \"Topic3\", \"Topic3\", \"Topic3\", \"Topic3\", \"Topic3\", \"Topic3\", \"Topic3\", \"Topic3\", \"Topic3\", \"Topic3\", \"Topic3\", \"Topic3\", \"Topic3\", \"Topic3\", \"Topic3\", \"Topic3\", \"Topic3\", \"Topic3\", \"Topic3\", \"Topic3\", \"Topic3\", \"Topic3\", \"Topic3\", \"Topic3\", \"Topic3\", \"Topic3\", \"Topic3\", \"Topic3\", \"Topic3\", \"Topic3\", \"Topic3\", \"Topic3\", \"Topic3\", \"Topic3\", \"Topic3\", \"Topic3\", \"Topic3\", \"Topic3\", \"Topic3\", \"Topic3\", \"Topic3\", \"Topic3\", \"Topic3\", \"Topic3\", \"Topic3\", \"Topic3\", \"Topic3\", \"Topic3\", \"Topic3\", \"Topic3\", \"Topic3\", \"Topic3\", \"Topic3\", \"Topic3\", \"Topic3\", \"Topic3\", \"Topic3\", \"Topic3\", \"Topic3\", \"Topic3\", \"Topic3\", \"Topic3\", \"Topic3\", \"Topic3\", \"Topic3\", \"Topic3\", \"Topic3\", \"Topic3\", \"Topic3\", \"Topic3\", \"Topic4\", \"Topic4\", \"Topic4\", \"Topic4\", \"Topic4\", \"Topic4\", \"Topic4\", \"Topic4\", \"Topic4\", \"Topic4\", \"Topic4\", \"Topic4\", \"Topic4\", \"Topic4\", \"Topic4\", \"Topic4\", \"Topic4\", \"Topic4\", \"Topic4\", \"Topic4\", \"Topic4\", \"Topic4\", \"Topic4\", \"Topic4\", \"Topic4\", \"Topic4\", \"Topic4\", \"Topic4\", \"Topic4\", \"Topic4\", \"Topic4\", \"Topic4\", \"Topic4\", \"Topic4\", \"Topic4\", \"Topic4\", \"Topic4\", \"Topic4\", \"Topic4\", \"Topic4\", \"Topic4\", \"Topic4\", \"Topic4\", \"Topic4\", \"Topic4\", \"Topic4\", \"Topic4\", \"Topic4\", \"Topic4\", \"Topic4\", \"Topic4\", \"Topic4\", \"Topic4\", \"Topic4\", \"Topic4\", \"Topic4\", \"Topic4\", \"Topic4\", \"Topic4\", \"Topic4\", \"Topic4\", \"Topic4\", \"Topic4\", \"Topic4\", \"Topic4\", \"Topic4\", \"Topic4\", \"Topic4\", \"Topic4\", \"Topic4\", \"Topic4\", \"Topic4\", \"Topic4\", \"Topic4\", \"Topic4\", \"Topic4\", \"Topic4\", \"Topic4\", \"Topic4\", \"Topic5\", \"Topic5\", \"Topic5\", \"Topic5\", \"Topic5\", \"Topic5\", \"Topic5\", \"Topic5\", \"Topic5\", \"Topic5\", \"Topic5\", \"Topic5\", \"Topic5\", \"Topic5\", \"Topic5\", \"Topic5\", \"Topic5\", \"Topic5\", \"Topic5\", \"Topic5\", \"Topic5\", \"Topic5\", \"Topic5\", \"Topic5\", \"Topic5\", \"Topic5\", \"Topic5\", \"Topic5\", \"Topic5\", \"Topic5\", \"Topic5\", \"Topic5\", \"Topic5\", \"Topic5\", \"Topic5\", \"Topic5\", \"Topic5\", \"Topic5\", \"Topic5\", \"Topic5\", \"Topic5\", \"Topic5\", \"Topic5\", \"Topic5\", \"Topic5\", \"Topic5\", \"Topic5\", \"Topic5\", \"Topic5\", \"Topic5\", \"Topic5\", \"Topic5\", \"Topic5\", \"Topic5\", \"Topic5\", \"Topic5\", \"Topic5\", \"Topic5\", \"Topic5\", \"Topic5\", \"Topic5\", \"Topic5\", \"Topic5\", \"Topic5\", \"Topic5\", \"Topic5\", \"Topic5\", \"Topic5\", \"Topic5\", \"Topic5\", \"Topic5\", \"Topic5\", \"Topic5\", \"Topic5\", \"Topic5\", \"Topic6\", \"Topic6\", \"Topic6\", \"Topic6\", \"Topic6\", \"Topic6\", \"Topic6\", \"Topic6\", \"Topic6\", \"Topic6\", \"Topic6\", \"Topic6\", \"Topic6\", \"Topic6\", \"Topic6\", \"Topic6\", \"Topic6\", \"Topic6\", \"Topic6\", \"Topic6\", \"Topic6\", \"Topic6\", \"Topic6\", \"Topic6\", \"Topic6\", \"Topic6\", \"Topic6\", \"Topic6\", \"Topic6\", \"Topic6\", \"Topic6\", \"Topic6\", \"Topic6\", \"Topic6\", \"Topic6\", \"Topic6\", \"Topic6\", \"Topic6\", \"Topic6\", \"Topic6\", \"Topic6\", \"Topic6\", \"Topic6\", \"Topic6\", \"Topic6\", \"Topic6\", \"Topic6\", \"Topic6\", \"Topic6\", \"Topic6\", \"Topic6\", \"Topic6\", \"Topic6\", \"Topic6\", \"Topic6\", \"Topic6\", \"Topic6\", \"Topic6\", \"Topic6\", \"Topic6\", \"Topic6\", \"Topic6\", \"Topic6\", \"Topic6\", \"Topic6\", \"Topic6\", \"Topic6\", \"Topic6\", \"Topic7\", \"Topic7\", \"Topic7\", \"Topic7\", \"Topic7\", \"Topic7\", \"Topic7\", \"Topic7\", \"Topic7\", \"Topic7\", \"Topic7\", \"Topic7\", \"Topic7\", \"Topic7\", \"Topic7\", \"Topic7\", \"Topic7\", \"Topic7\", \"Topic7\", \"Topic7\", \"Topic7\", \"Topic7\", \"Topic7\", \"Topic7\", \"Topic7\", \"Topic7\", \"Topic7\", \"Topic7\", \"Topic7\", \"Topic7\", \"Topic7\", \"Topic7\", \"Topic7\", \"Topic7\", \"Topic7\", \"Topic7\", \"Topic7\", \"Topic7\", \"Topic7\", \"Topic7\", \"Topic7\", \"Topic7\", \"Topic7\", \"Topic7\", \"Topic7\", \"Topic7\", \"Topic7\", \"Topic7\", \"Topic7\", \"Topic7\", \"Topic7\", \"Topic7\", \"Topic7\", \"Topic7\", \"Topic7\", \"Topic7\", \"Topic7\", \"Topic7\", \"Topic7\", \"Topic7\", \"Topic7\", \"Topic7\", \"Topic7\", \"Topic7\", \"Topic7\", \"Topic7\", \"Topic7\", \"Topic7\", \"Topic7\", \"Topic7\", \"Topic7\", \"Topic7\", \"Topic7\", \"Topic7\", \"Topic7\", \"Topic7\", \"Topic7\", \"Topic7\", \"Topic8\", \"Topic8\", \"Topic8\", \"Topic8\", \"Topic8\", \"Topic8\", \"Topic8\", \"Topic8\", \"Topic8\", \"Topic8\", \"Topic8\", \"Topic8\", \"Topic8\", \"Topic8\", \"Topic8\", \"Topic8\", \"Topic8\", \"Topic8\", \"Topic8\", \"Topic8\", \"Topic8\", \"Topic8\", \"Topic8\", \"Topic8\", \"Topic8\", \"Topic8\", \"Topic8\", \"Topic8\", \"Topic8\", \"Topic8\", \"Topic8\", \"Topic8\", \"Topic8\", \"Topic8\", \"Topic8\", \"Topic8\", \"Topic8\", \"Topic8\", \"Topic8\", \"Topic8\", \"Topic8\", \"Topic8\", \"Topic8\", \"Topic8\", \"Topic8\", \"Topic8\", \"Topic8\", \"Topic8\", \"Topic8\", \"Topic8\", \"Topic8\", \"Topic8\", \"Topic8\", \"Topic8\", \"Topic8\", \"Topic8\", \"Topic8\", \"Topic8\", \"Topic8\", \"Topic8\", \"Topic8\", \"Topic8\", \"Topic8\", \"Topic8\", \"Topic8\", \"Topic8\", \"Topic8\", \"Topic8\", \"Topic8\", \"Topic8\", \"Topic8\", \"Topic8\", \"Topic8\", \"Topic8\", \"Topic8\", \"Topic8\", \"Topic8\", \"Topic8\", \"Topic8\", \"Topic8\", \"Topic8\", \"Topic8\", \"Topic9\", \"Topic9\", \"Topic9\", \"Topic9\", \"Topic9\", \"Topic9\", \"Topic9\", \"Topic9\", \"Topic9\", \"Topic9\", \"Topic9\", \"Topic9\", \"Topic9\", \"Topic9\", \"Topic9\", \"Topic9\", \"Topic9\", \"Topic9\", \"Topic9\", \"Topic9\", \"Topic9\", \"Topic9\", \"Topic9\", \"Topic9\", \"Topic9\", \"Topic9\", \"Topic9\", \"Topic9\", \"Topic9\", \"Topic9\", \"Topic9\", \"Topic9\", \"Topic9\", \"Topic9\", \"Topic9\", \"Topic9\", \"Topic9\", \"Topic9\", \"Topic9\", \"Topic9\", \"Topic9\", \"Topic9\", \"Topic9\", \"Topic9\", \"Topic9\", \"Topic9\", \"Topic9\", \"Topic9\", \"Topic9\", \"Topic9\", \"Topic9\", \"Topic9\", \"Topic9\", \"Topic9\", \"Topic9\", \"Topic9\", \"Topic9\", \"Topic9\", \"Topic9\", \"Topic9\", \"Topic9\", \"Topic9\", \"Topic9\", \"Topic9\", \"Topic9\", \"Topic9\", \"Topic9\", \"Topic9\", \"Topic9\", \"Topic9\", \"Topic9\", \"Topic9\", \"Topic9\", \"Topic10\", \"Topic10\", \"Topic10\", \"Topic10\", \"Topic10\", \"Topic10\", \"Topic10\", \"Topic10\", \"Topic10\", \"Topic10\", \"Topic10\", \"Topic10\", \"Topic10\", \"Topic10\", \"Topic10\", \"Topic10\", \"Topic10\", \"Topic10\", \"Topic10\", \"Topic10\", \"Topic10\", \"Topic10\", \"Topic10\", \"Topic10\", \"Topic10\", \"Topic10\", \"Topic10\", \"Topic10\", \"Topic10\", \"Topic10\", \"Topic10\", \"Topic10\", \"Topic10\", \"Topic10\", \"Topic10\", \"Topic10\", \"Topic10\", \"Topic10\", \"Topic10\", \"Topic10\", \"Topic10\", \"Topic10\", \"Topic10\", \"Topic10\", \"Topic10\", \"Topic10\", \"Topic10\", \"Topic10\", \"Topic10\", \"Topic10\", \"Topic10\", \"Topic10\", \"Topic10\", \"Topic10\", \"Topic10\", \"Topic10\", \"Topic10\", \"Topic10\", \"Topic10\", \"Topic10\", \"Topic10\", \"Topic10\", \"Topic10\", \"Topic10\", \"Topic10\", \"Topic10\", \"Topic10\", \"Topic10\", \"Topic10\", \"Topic10\", \"Topic10\", \"Topic10\"], \"Freq\": [772.0, 363.0, 1054.0, 440.0, 464.0, 115.0, 250.0, 96.0, 126.0, 102.0, 160.0, 66.0, 294.0, 371.0, 117.0, 55.0, 55.0, 125.0, 172.0, 81.0, 173.0, 135.0, 94.0, 240.0, 71.0, 41.0, 179.0, 71.0, 49.0, 104.0, 37.92990847375597, 16.33653837748614, 8.39808566064212, 7.4752231458708644, 7.475167901361757, 12.089606352633895, 26.74156900217352, 4.7066318154608835, 4.706625577143563, 4.7066182365589775, 4.70660529161716, 9.274678726947698, 9.255910768508127, 3.783762148524103, 3.783757479920629, 3.7837569958397355, 3.783756638432526, 3.7837544888967978, 3.783746901993519, 3.7837469104992323, 3.7837436019876933, 3.7837419119836015, 3.7837415632097966, 3.7837352503243222, 3.783734398386297, 3.7837328468301696, 3.7837232696129797, 3.783718373141145, 7.45271627411299, 11.16681619265483, 13.872508071785443, 24.74038535579251, 45.522283618471036, 81.1141992780959, 11.937476898870303, 6.552354339682552, 6.532272252043226, 41.79431255874304, 9.847048488210339, 76.77397486972976, 17.9676903674716, 37.97583506206968, 6.420767663246017, 9.97403851574741, 13.295847448955241, 120.98867581637047, 20.5557466717978, 69.50183920902089, 19.544441007801197, 52.71730647255355, 10.366611185798869, 54.489190845404295, 21.6672770620438, 27.18510115605636, 32.31139526003322, 34.92243749792393, 59.98033497920783, 78.37859664084456, 103.12821539590414, 119.15624910823446, 29.884151362337796, 47.41117993501597, 31.895465518347866, 93.99409804514683, 62.46748529600562, 34.43967944501713, 34.7709548831689, 34.90875851623821, 43.29438646957492, 44.868681035247356, 39.116362600188225, 42.23790575607919, 55.5908911823378, 35.96255768994354, 38.2164149591295, 36.656658317604546, 33.8165736463258, 12.533069489283783, 9.172378417081184, 6.5379641146841045, 6.5379587634388745, 6.53795689296506, 5.6171228091891265, 4.696298353845323, 4.69629721623437, 4.696289754695939, 4.69628750773839, 4.696263081100081, 4.696221056324795, 48.50361123592315, 3.775444661692754, 3.775432809800234, 3.775424248576683, 3.7754215907265394, 3.7754178984458764, 3.7754128371427895, 3.7754024296131616, 3.775397012804199, 8.268573799303992, 12.708829235479222, 7.458830415306029, 22.192338256314063, 11.019098042704444, 20.54193691751322, 13.750429988756283, 22.999398320673745, 2.854612723292742, 6.369890008052407, 23.505636504058597, 73.89379763338948, 31.530981025999008, 19.327977328841722, 10.643914715655075, 20.39706046890785, 163.56974867162427, 10.862211614861005, 34.60329234613045, 14.588961456810436, 24.903180533647408, 174.34768364216066, 30.514674463532817, 13.588425041890323, 17.16675194074664, 14.749703386150236, 25.63732512649807, 51.07946710740113, 27.75461781828095, 27.856443229276884, 30.425961165604903, 40.40820276528034, 64.47417483918302, 51.751245316279594, 95.9418448304686, 148.09733409840706, 36.65128107595832, 32.77788826970697, 48.76499958155292, 45.994658962414974, 31.931051415528486, 41.17098749946977, 34.46091187736221, 30.251486418911913, 52.90399087944906, 37.82466494553339, 30.505482125735163, 38.09677512638592, 32.17341425314542, 34.094368567227214, 29.23886662715677, 28.55931262824296, 16.48029318346607, 14.639097473554182, 12.838248680515548, 8.285681135725097, 5.498381858960624, 4.643600369110459, 4.61329799510559, 3.7331125490416546, 3.7331058572750324, 3.733103307830942, 3.733102750223124, 3.7331019440191415, 3.733099623215512, 3.733085776442188, 3.7330506309937017, 3.7325359416006694, 8.216742584745399, 3.690617149741186, 13.74879117537689, 10.036831000892755, 2.8225990177821063, 2.822595488226928, 2.822594023846877, 2.822592277843822, 2.82259189950041, 2.8225892811768944, 2.8225862431860658, 2.8225817993039026, 2.82258069133856, 2.82258069133856, 54.72700366060321, 11.841629529628166, 8.285718755425792, 5.554147624378999, 5.554175081585862, 5.554126367991001, 6.183871902349384, 7.375245508777586, 5.416582304123504, 18.065815018894774, 9.78222953171548, 16.8700487678171, 12.736565135279259, 10.309979596885533, 53.95692443800501, 18.438621693446496, 42.270824600408766, 38.40698789017493, 10.577637117251388, 7.85859462587413, 11.017328556592831, 9.4362861024742, 334.8156360667867, 39.55860484068548, 152.1770569917877, 80.09286436909566, 191.19205236746117, 27.103490858119642, 57.027918129422616, 24.59208383569039, 58.024686615672536, 33.57345437467755, 38.657598800110485, 32.81526548788201, 26.111476264871918, 43.16287931442335, 38.38086199924209, 28.780876566046803, 42.5884723516321, 40.456575193503554, 27.537242992806163, 42.229513979779775, 26.949675245224135, 47.67280964181352, 27.979651197281264, 29.07691942796149, 25.024452549014264, 25.750393229931, 31.970148808151073, 27.924083996560462, 28.788819865785342, 27.603750816093687, 9.274108438416436, 9.274108438313167, 17.53826155404843, 7.437636832476549, 22.785307483267474, 5.601173572215809, 5.601163604589478, 4.682966048555609, 4.682939905151146, 4.682934808406195, 4.6829315404944545, 20.915932960817518, 10.649114105882042, 8.351583180288982, 8.293499040542784, 3.7647436310460622, 3.7647373238944257, 3.764737083690637, 3.7647349804453367, 3.7647323885624524, 3.764728465988567, 3.7647264867583994, 3.764721527819402, 3.7647204288197864, 3.7647189046845537, 3.764715663731498, 3.7646735774095803, 3.7646685044610044, 8.226864850062999, 11.955840276615286, 15.433834334743521, 22.57586071660394, 10.192438960582153, 18.94355300085198, 7.311488982655767, 7.300205260298701, 29.084023437810814, 25.98903401955413, 17.577740756856556, 6.519425898150008, 37.90318526571177, 12.352220105062669, 12.667711669894752, 8.355927508422296, 28.962355106490072, 17.386340717048792, 18.203060878209048, 117.85615038863507, 16.786787440655615, 20.714137479222376, 18.805439145539616, 121.91483702806597, 13.406414979561712, 44.831525336045594, 54.509542576243774, 30.634313041170042, 23.94284763126418, 43.82444201843214, 40.48128203633271, 34.44798681547007, 29.853365643190337, 22.75938214804274, 28.053650528856476, 24.841729011467617, 27.68028473260404, 30.385670219387922, 50.20574075283702, 28.21102123224462, 29.630263584331928, 31.391266681606382, 30.94624373779451, 54.62518226528558, 31.46246917029823, 29.016651552104616, 28.792633034519184, 26.590856717416226, 24.791060610395476, 26.068000287112987, 24.296884861195178, 54.303860413635455, 35.92692874720211, 7.442658315245861, 7.2943250553347845, 5.604933697695252, 5.604847503157575, 11.118084469797962, 10.19927263438487, 4.686118770272189, 4.686117925744707, 4.6861154091456765, 4.686112100568329, 4.686105728459615, 4.6861027550775125, 4.686099861836775, 4.6860970754001965, 4.6860826193379825, 9.177791330102753, 5.348742545451088, 8.361520941787608, 3.767275885574911, 3.7672744153147786, 3.7672637907123643, 3.7672635946879116, 3.7672587977030583, 3.76725650777797, 3.7672546880096633, 3.767245278722611, 3.7672440479929477, 3.767243142980652, 22.04755575409759, 7.44267166268656, 12.447690246625914, 72.79479005593474, 10.097466110839537, 7.9675129174271, 16.424994609132316, 63.17577190545837, 33.61832653137784, 6.410908059088761, 48.16403745105529, 29.11882335693649, 11.841324420880015, 36.67708055432332, 14.719166022807588, 14.599871721828563, 12.330877194480044, 22.52738006088935, 17.564858222526325, 12.946280242777418, 40.68165812548453, 65.7870269074148, 21.815084978803007, 37.045461454174394, 23.922484598151765, 33.62680120852214, 28.695508921245565, 29.47088764443262, 36.89406146834983, 138.6507840440973, 17.764283148241844, 38.82469387170517, 61.56436547220739, 50.7151601192308, 26.987524352490002, 33.02131718378753, 32.28993801208897, 36.49094331485147, 47.14527000970039, 36.15929397911661, 50.79440653414316, 37.17338568985873, 27.14766947345457, 25.994911473421602, 26.388778727785613, 54.306185016181516, 18.400527303523013, 62.30974802914908, 12.04036709612264, 11.120627980117344, 17.5350177656632, 7.444773884930288, 44.43570530888494, 6.5256673161577305, 6.52565791969023, 5.606577739092058, 5.605301585042823, 8.710953608777896, 12.649439583344149, 5.4999595528465095, 10.202171726391123, 4.68747406280655, 4.687438221470673, 3.7683589232300063, 3.768353593893988, 3.7683519427668863, 3.7683502667611104, 3.7683406408440097, 3.7683366160915615, 3.7568332863362524, 3.6540633138018457, 6.525727505701625, 6.525739409068089, 12.850997586821395, 9.283091653366295, 15.853334750411127, 20.951107906003497, 18.164484096201797, 9.913264412847315, 25.33327817095689, 13.71898500739718, 67.27478631467119, 7.444214806615955, 29.187554088662623, 41.998261255120696, 77.26436257416792, 35.07900769747302, 58.01128708963443, 28.595825831402035, 18.11691178080549, 18.940011245715525, 63.616435543473834, 59.81345143679004, 24.34640190031953, 46.794022059849006, 18.278214845840825, 27.43093806913009, 52.947463626918065, 30.462863486623597, 31.165670635058927, 18.336101190772027, 22.616908946486166, 40.42073800663635, 21.56770639258544, 27.80895519298154, 57.21916030098068, 32.51177236371345, 35.28263527546208, 30.02970580554012, 29.839139843000662, 29.917790225642662, 28.11839768536595, 22.039845793839312, 12.980067966508708, 11.13893208329178, 9.297751661259426, 31.011419991878086, 7.4566300470869455, 14.808058352083341, 6.53606791335546, 5.615483588227149, 5.615483588227149, 5.615473986303577, 10.217391660566449, 4.694906244432925, 4.694904151464819, 4.694845164269481, 3.7743508286464826, 3.7743443878771554, 3.7743439263934397, 3.77433850164409, 3.774328767170751, 3.7743252540866514, 3.7743245443226807, 3.774298494060085, 3.7742732927562885, 3.774267693279093, 12.059558581411498, 2.853779983505, 2.853779982419301, 2.8537691470713415, 2.853768069367547, 2.8537680650566477, 35.73475667746804, 8.356600509746231, 5.615467236784033, 5.615518250060108, 5.615504665683004, 8.32103621568818, 8.946105233379633, 9.981078188864553, 13.520912550107024, 43.468574160664076, 13.355345820879375, 11.954830948802236, 7.383663982699795, 16.196303933738633, 8.957397697569817, 23.15106021661968, 43.16250713694973, 15.356086059817194, 218.1807811338135, 26.65808275686191, 71.53121043687678, 13.572536664125865, 21.017403937399767, 43.29221286743153, 26.479082460042257, 92.50364506669423, 24.287031334764233, 19.029217319895363, 25.876237075350186, 38.03705500003829, 19.745903752172783, 15.160840796458611, 78.40654149083632, 23.473525588881838, 27.190060811365868, 17.31429633844805, 32.29183417230925, 29.095537824326126, 24.639750132912937, 23.431608886926668, 25.8769934276685, 22.991563023542437, 21.771148574246222, 21.206779961012394, 24.781496812182787, 20.874997516736155, 21.659289633679894, 24.663277828074968, 9.257387134164018, 7.4541924408349045, 7.454181894862785, 14.788116602944552, 6.533861230084552, 6.53108191625104, 5.613655601752915, 11.07254831654571, 4.6933844006762735, 4.693379533123497, 4.69336418642596, 4.693360766045182, 4.693347817023564, 8.374489878707308, 3.7731232059299398, 3.7731207056402276, 3.773114155023476, 3.7731099828819126, 3.773093563666047, 3.7730899516124605, 3.7730845872727308, 3.7730816428812215, 8.284391551413345, 11.135359439151264, 11.844616282047001, 6.533948310118607, 6.49294982578746, 4.324777828740545, 2.8528460583661013, 2.852843938127832, 26.08727496766917, 8.374552406912876, 56.023552729554396, 16.53900806580281, 42.864261062338024, 22.1785601094008, 18.21436214701077, 13.718997011416793, 5.613676624131133, 7.888524165304785, 5.613674021078058, 22.524020076156607, 11.041187380054858, 16.324633593897826, 35.10143642762715, 31.58688907936509, 20.070652475181575, 8.309681049286926, 20.53400803021176, 12.94494706430303, 56.07431779134912, 10.870244938064415, 19.880097912343565, 14.748139531356946, 18.533061606825495, 130.89595383311234, 25.2874492477007, 31.37891861185004, 21.471260082190327, 18.304918923368408, 19.5677988732403, 27.481782327780007, 19.877718502965475, 51.350261986652164, 45.015391487441704, 34.87593619575296, 21.14431233377925, 18.977996929382144, 40.52265427298347, 22.94376688144997, 26.436939448522, 27.705353667146625, 36.37850757101653, 26.564740953170926, 21.82250538224378, 27.286896703216232, 23.282493540697928, 22.11896964454912, 23.409328244864, 23.63507428117175, 22.63706179995792, 22.95280342511512, 25.059910598094422, 13.03860230723872, 26.308864887912097, 6.565534421061278, 6.565531494792656, 5.640811521878355, 5.640778618469928, 16.86078697801351, 4.716050482529593, 4.71604197281417, 4.716036975063945, 9.306245072831357, 12.982729366292027, 3.7913688876540803, 3.791361483899971, 3.7913578583067604, 3.7913564487559945, 3.791355632890845, 3.791355572928863, 3.7913432261220024, 3.7913363657662433, 3.791331176533148, 3.791328007364255, 3.7913268357005374, 3.791323222759635, 7.4597148495429035, 6.565583752565487, 2.8666474265331963, 2.8666474258974284, 2.8666474258654935, 29.482983689621523, 15.81014043871389, 7.49029945721683, 13.03808488474232, 20.815962846480378, 41.895267705842116, 11.073912943032777, 7.41884596635812, 12.603229815832414, 18.687826091352076, 8.415002821346093, 8.874293056498447, 8.295780137874294, 19.45687191685921, 18.706574312496556, 29.134665835903515, 27.897894264869667, 33.01731362871132, 16.148077420980336, 36.8576017491019, 148.37749736862747, 16.01697703990272, 23.71732491764907, 10.907990979915388, 16.53644842058689, 26.93503923424165, 19.70063745514524, 10.173269543279263, 19.034169790550827, 21.75168180418677, 14.606406578824155, 20.049119924607194, 19.890522459467817, 58.36583447344771, 23.837890270629057, 29.350422749539675, 17.404469042792066, 21.030060200294944, 24.379808770190603, 20.573956777240223, 18.344881999373605, 17.965423517112537, 17.26469865703432, 40.96914729328908, 31.679098100209735, 27.963051271911493, 12.169954326052927, 10.311930023683098, 8.452047562076096, 7.524938215377055, 7.524937734755339, 6.595919181194639, 6.59590133620223, 6.595863683295323, 5.666921564759415, 5.666905299586694, 5.66689446420509, 4.737917561043304, 4.737909392844812, 9.382978148621728, 3.8089214660121398, 3.8089129275666793, 3.8089116046769225, 3.80891001328843, 3.8089038862636153, 3.8069808202150366, 7.524997564685099, 8.73798384628276, 13.83356840178518, 2.8799200389173074, 2.8799187871606127, 2.879917795015164, 2.879914197320645, 8.453949705359344, 16.608997733024406, 10.971388458829, 6.316289974575396, 31.86135246545716, 15.616594857647245, 10.088464045050921, 11.10524885820222, 12.734223487918074, 17.948171423324965, 25.042851575205564, 13.935846948353142, 10.716162645532895, 14.470463073642122, 25.007096570406546, 21.96315053153375, 21.855430251986956, 32.413651007167466, 38.39857431409683, 18.975852640201595, 18.709291829065233, 15.865731496518928, 17.8063866840321, 18.471292406344734, 33.24881462816219, 47.36072351257108, 16.382080218992805, 29.171746032256504, 52.482625556168266, 18.197476435436677, 25.26161081732169, 26.798752495164745, 16.92908875291873, 17.738563805697783, 17.64357252158571, 19.949309620497946, 21.296011101354235, 19.1597374856184, 17.92744529134014, 18.707776413101076, 18.254085339439296, 17.711671434412803], \"Term\": [\"new\", \"nt\", \"man\", \"area\", \"report\", \"ca\", \"one\", \"human\", \"white\", \"tell\", \"hous\", \"celebr\", \"woman\", \"nation\", \"child\", \"pass\", \"court\", \"clinton\", \"obama\", \"love\", \"take\", \"guy\", \"final\", \"day\", \"unveil\", \"histor\", \"famili\", \"dog\", \"gun\", \"introduc\", \"hillari\", \"jeb\", \"hampshir\", \"jackson\", \"sober\", \"mitt\", \"30\", \"dylan\", \"rico\", \"agenc\", \"podcast\", \"attent\", \"asian\", \"rebuild\", \"punish\", \"maid\", \"tearyey\", \"tailor\", \"soil\", \"currenc\", \"mosquito\", \"foster\", \"jcpenney\", \"tune\", \"halliburton\", \"theoret\", \"coke\", \"upgrad\", \"elabor\", \"cathol\", \"iraq\", \"pay\", \"elect\", \"child\", \"feet\", \"grate\", \"molest\", \"major\", \"cigarett\", \"clinton\", \"per\", \"romney\", \"progress\", \"fruit\", \"epa\", \"one\", \"accept\", \"guy\", \"unabl\", \"bush\", \"bath\", \"thing\", \"question\", \"group\", \"children\", \"kid\", \"first\", \"day\", \"get\", \"report\", \"poll\", \"parent\", \"senat\", \"nation\", \"american\", \"campaign\", \"name\", \"mom\", \"studi\", \"find\", \"take\", \"time\", \"new\", \"peopl\", \"go\", \"year\", \"us\", \"app\", \"knew\", \"rough\", \"donut\", \"mess\", \"slam\", \"italian\", \"shave\", \"14\", \"domino\", \"log\", \"membership\", \"believ\", \"worthless\", \"bouncer\", \"plug\", \"30000\", \"68\", \"temporarili\", \"occupi\", \"panti\", \"sister\", \"type\", \"bride\", \"heart\", \"vomit\", \"sourc\", \"korea\", \"vacat\", \"eyebrow\", \"korean\", \"wast\", \"ca\", \"money\", \"sinc\", \"william\", \"north\", \"nt\", \"absolut\", \"turn\", \"link\", \"re\", \"report\", \"save\", \"you\", \"dinner\", \"planet\", \"may\", \"last\", \"father\", \"help\", \"son\", \"know\", \"trump\", \"look\", \"area\", \"man\", \"good\", \"tell\", \"day\", \"american\", \"littl\", \"like\", \"life\", \"right\", \"new\", \"time\", \"school\", \"get\", \"say\", \"one\", \"use\", \"woman\", \"object\", \"weather\", \"dvd\", \"comey\", \"accommod\", \"pan\", \"bezo\", \"leaf\", \"uhaul\", \"woodi\", \"streep\", \"resembl\", \"sub\", \"vilsack\", \"grandpar\", \"hane\", \"achiev\", \"obnoxi\", \"avail\", \"ga\", \"suburban\", \"indefinit\", \"dishonor\", \"menstruat\", \"anywher\", \"meryl\", \"liar\", \"lego\", \"bashar\", \"alassad\", \"dog\", \"loud\", \"serial\", \"traffic\", \"faa\", \"envelop\", \"shelv\", \"pm\", \"justifi\", \"onion\", \"jeff\", \"poor\", \"birth\", \"ahead\", \"watch\", \"threaten\", \"spend\", \"month\", \"laugh\", \"toilet\", \"killer\", \"duti\", \"man\", \"hour\", \"area\", \"go\", \"new\", \"fire\", \"find\", \"shit\", \"time\", \"introduc\", \"last\", \"fuck\", \"minut\", \"us\", \"work\", \"employe\", \"trump\", \"studi\", \"state\", \"one\", \"entir\", \"report\", \"tri\", \"peopl\", \"releas\", \"name\", \"day\", \"famili\", \"get\", \"woman\", \"brad\", \"pitt\", \"patron\", \"understand\", \"agent\", \"sold\", \"flee\", \"aniston\", \"laughter\", \"monopoli\", \"insuffer\", \"penc\", \"brand\", \"predat\", \"pen\", \"vacuum\", \"screw\", \"guin\", \"jay\", \"rite\", \"saint\", \"seattl\", \"abc\", \"shortag\", \"huddl\", \"robe\", \"tissu\", \"rapist\", \"sniper\", \"dick\", \"almost\", \"boyfriend\", \"stone\", \"passeng\", \"jennif\", \"corps\", \"servic\", \"secret\", \"mike\", \"racial\", \"star\", \"detect\", \"sentenc\", \"known\", \"biden\", \"cancel\", \"wo\", \"woman\", \"perfect\", \"ryan\", \"lost\", \"nt\", \"hollywood\", \"show\", \"hous\", \"pretti\", \"restaur\", \"white\", \"ca\", \"break\", \"john\", \"middl\", \"compani\", \"got\", \"wait\", \"want\", \"get\", \"offic\", \"see\", \"come\", \"local\", \"man\", \"american\", \"obama\", \"back\", \"like\", \"ask\", \"nation\", \"make\", \"court\", \"suprem\", \"anchor\", \"tsarnaev\", \"childhood\", \"bounc\", \"brutal\", \"fame\", \"recount\", \"shuttl\", \"opt\", \"southern\", \"simpson\", \"ipod\", \"2009\", \"reinc\", \"chart\", \"older\", \"juic\", \"teenag\", \"yearbook\", \"hatch\", \"sticker\", \"moviego\", \"doggi\", \"lapierr\", \"gerbil\", \"familiar\", \"nune\", \"conclus\", \"launch\", \"tea\", \"messag\", \"human\", \"sea\", \"taco\", \"sell\", \"tell\", \"bar\", \"turtl\", \"final\", \"thought\", \"100\", \"old\", \"hate\", \"comfort\", \"hotel\", \"depress\", \"presidenti\", \"pant\", \"put\", \"year\", \"check\", \"realli\", \"alway\", \"hope\", \"anoth\", \"movi\", \"see\", \"man\", \"past\", \"work\", \"area\", \"get\", \"forc\", \"take\", \"friend\", \"day\", \"report\", \"american\", \"new\", \"nation\", \"local\", \"would\", \"one\", \"pass\", \"legisl\", \"celebr\", \"quit\", \"illeg\", \"cost\", \"deadli\", \"gun\", \"barack\", \"concret\", \"revis\", \"virginia\", \"kushner\", \"west\", \"motorcycl\", \"healthcar\", \"dh\", \"greet\", \"sept\", \"element\", \"someday\", \"pabst\", \"recit\", \"dummi\", \"kany\", \"welfar\", \"rescu\", \"custodi\", \"nra\", \"individu\", \"princ\", \"push\", \"immigr\", \"harri\", \"law\", \"insur\", \"white\", \"putin\", \"shoot\", \"next\", \"obama\", \"mother\", \"plan\", \"busi\", \"daughter\", \"gift\", \"take\", \"hous\", \"hit\", \"would\", \"third\", \"return\", \"make\", \"forc\", \"way\", \"trip\", \"teacher\", \"time\", \"sex\", \"school\", \"man\", \"us\", \"american\", \"trump\", \"day\", \"nation\", \"woman\", \"come\", \"swift\", \"peter\", \"populac\", \"guest\", \"bread\", \"taylor\", \"elimin\", \"carli\", \"fiorina\", \"spice\", \"chuck\", \"tick\", \"27\", \"ir\", \"evolutionari\", \"veget\", \"optimist\", \"seventhgrad\", \"recycl\", \"classifi\", \"heal\", \"emmi\", \"pole\", \"sooth\", \"no\", \"basilica\", \"charlton\", \"sleepov\", \"rental\", \"bitcoin\", \"video\", \"regularli\", \"balconi\", \"nyc\", \"journal\", \"satisfi\", \"alarm\", \"interior\", \"origin\", \"line\", \"color\", \"toddler\", \"peni\", \"york\", \"divers\", \"program\", \"releas\", \"male\", \"new\", \"lead\", \"still\", \"target\", \"street\", \"introduc\", \"teacher\", \"nation\", \"depart\", \"fall\", \"discov\", \"world\", \"bring\", \"prevent\", \"man\", \"game\", \"way\", \"10\", \"find\", \"back\", \"school\", \"person\", \"come\", \"human\", \"entir\", \"death\", \"studi\", \"break\", \"announc\", \"report\", \"dorm\", \"india\", \"lane\", \"pretend\", \"stack\", \"satellit\", \"genuin\", \"joe\", \"slap\", \"ingredi\", \"bachmann\", \"resum\", \"nfl\", \"iraqi\", \"hmo\", \"mixup\", \"naacp\", \"minnesota\", \"printer\", \"longingli\", \"psychic\", \"helicopt\", \"captur\", \"born\", \"jesu\", \"spirit\", \"yell\", \"oppos\", \"paterno\", \"assert\", \"christma\", \"worst\", \"love\", \"former\", \"visit\", \"grandma\", \"chines\", \"queen\", \"adopt\", \"matt\", \"surround\", \"relationship\", \"opinion\", \"late\", \"john\", \"actual\", \"must\", \"scalia\", \"kind\", \"kick\", \"famili\", \"zoo\", \"phone\", \"seen\", \"urg\", \"man\", \"best\", \"job\", \"black\", \"figur\", \"issu\", \"death\", \"point\", \"nation\", \"get\", \"make\", \"realiz\", \"ever\", \"area\", \"campaign\", \"hous\", \"studi\", \"new\", \"find\", \"god\", \"nt\", \"obama\", \"call\", \"us\", \"like\", \"say\", \"woman\", \"fda\", \"laden\", \"approv\", \"orca\", \"zimmerman\", \"billi\", \"unfortun\", \"angel\", \"rage\", \"chess\", \"sunglass\", \"seaworld\", \"bin\", \"hummu\", \"nerd\", \"crystal\", \"shotgun\", \"lo\", \"format\", \"pepsi\", \"pink\", \"huntsman\", \"prop\", \"explan\", \"95\", \"joy\", \"navi\", \"prose\", \"opera\", \"bangladesh\", \"stand\", \"embarrass\", \"warm\", \"frantic\", \"asshol\", \"unveil\", \"funer\", \"relat\", \"promot\", \"georg\", \"somewher\", \"anger\", \"written\", \"problem\", \"rate\", \"ad\", \"wife\", \"game\", \"light\", \"person\", \"new\", \"special\", \"car\", \"citizen\", \"drug\", \"final\", \"book\", \"network\", \"without\", \"open\", \"disappoint\", \"chang\", \"dead\", \"man\", \"think\", \"woman\", \"worri\", \"bush\", \"report\", \"back\", \"job\", \"like\", \"announc\", \"histor\", \"archiv\", \"birthday\", \"connect\", \"heard\", \"interrupt\", \"regist\", \"peanut\", \"technician\", \"butter\", \"marco\", \"stripper\", \"nate\", \"carson\", \"scroll\", \"pileup\", \"ben\", \"pud\", \"unimpress\", \"pleasantli\", \"gaze\", \"affleck\", \"backstreet\", \"trust\", \"silver\", \"respect\", \"paleontologist\", \"turkish\", \"vend\", \"hathaway\", \"fair\", \"project\", \"tonight\", \"logo\", \"today\", \"super\", \"tortur\", \"six\", \"terror\", \"chicken\", \"user\", \"machin\", \"weapon\", \"wake\", \"miss\", \"bad\", \"facebook\", \"feel\", \"use\", \"doctor\", \"receiv\", \"inform\", \"learn\", \"differ\", \"famili\", \"area\", \"surpris\", \"friend\", \"man\", \"boy\", \"look\", \"like\", \"word\", \"away\", \"complet\", \"local\", \"nt\", \"trump\", \"think\", \"woman\", \"make\", \"world\"], \"Total\": [772.0, 363.0, 1054.0, 440.0, 464.0, 115.0, 250.0, 96.0, 126.0, 102.0, 160.0, 66.0, 294.0, 371.0, 117.0, 55.0, 55.0, 125.0, 172.0, 81.0, 173.0, 135.0, 94.0, 240.0, 71.0, 41.0, 179.0, 71.0, 49.0, 104.0, 38.75816464796661, 17.53114547640724, 9.226328825245137, 8.303458972422876, 8.303458823214537, 13.836038645016947, 31.36450120361849, 5.534849393276368, 5.534849378405879, 5.5348495208194, 5.534849233709883, 11.074016655845368, 11.068048406969169, 4.611979523621216, 4.611979500635082, 4.611979512826973, 4.611979402736353, 4.611979492510598, 4.611979375565606, 4.611979413927389, 4.611979432126917, 4.61197948491521, 4.6119794384150055, 4.611979413264606, 4.611979487495235, 4.611979335488442, 4.611979529718667, 4.611979338511007, 9.223935066279116, 13.844218792039785, 17.525938430068297, 32.27808910945746, 62.747441889743335, 117.97888412879225, 15.67820229483096, 8.298819473073422, 8.290836444769836, 61.72740412960655, 12.912882655490598, 125.44055212895805, 25.814432375663404, 60.83877392320586, 8.301142845533223, 13.82859309409525, 19.340372234109715, 250.17321302840037, 32.25352646129229, 135.47655863221203, 31.310953967110628, 108.74651610495457, 14.740045993680496, 121.5542583246014, 37.83464164871601, 51.594947008590616, 65.43156503235457, 74.62401033107439, 159.41061469403166, 240.03062684260007, 362.52425866014704, 464.86166084021283, 61.77181177491464, 125.28643237344455, 69.0347691050909, 371.7307235398912, 252.20203539750926, 95.9006385643564, 98.34564926299136, 111.534731687284, 199.38751779513797, 227.7445026249521, 173.04436828296664, 245.21948425569516, 772.7660703056007, 144.30706843625404, 214.56814286519202, 197.67363326749378, 189.36336144572473, 13.811322868866268, 10.12884900651668, 7.366399765844628, 7.3663997007764745, 7.366399596476644, 6.445556908982216, 5.52471412139831, 5.5247141206960535, 5.524714120320501, 5.524714110373608, 5.524714363679977, 5.524714143162606, 57.09742648206618, 4.603871245168402, 4.603871264024754, 4.603871202129216, 4.603871236332731, 4.60387138953714, 4.603871480250518, 4.603871332078804, 4.603871013056098, 10.11735548229392, 15.65657187674201, 9.211967464572966, 27.61629995642937, 13.813853707209056, 25.783485110059964, 17.50796757163468, 29.459953420323206, 3.683028491971348, 8.286569861885697, 33.150636872611464, 115.91801537793307, 48.84641377433803, 28.551427003505786, 14.727503814189143, 31.329504235664263, 363.5313744764791, 15.647608471945901, 60.66415589912869, 22.094091655226194, 42.33260047636184, 464.86166084021283, 55.22329857270249, 21.199362407038468, 28.52551625369201, 23.905452724838586, 51.61645845944711, 140.4240044845908, 58.902667375836394, 59.8308673724683, 68.12791810214814, 105.07313383175742, 216.92493450936746, 163.08887602176705, 440.43495466018595, 1054.2909098044454, 122.5478873086367, 102.9946905382215, 240.03062684260007, 252.20203539750926, 117.80968326574136, 212.75521855375084, 147.08383185503067, 105.8093128306398, 772.7660703056007, 245.21948425569516, 115.97973066900158, 362.52425866014704, 164.72850913462676, 250.17321302840037, 139.2849400731333, 294.19670771428605, 17.30978519998131, 15.488976274045356, 13.66772168960622, 9.115142531486024, 6.384121574363079, 5.473079408635354, 5.473552365343461, 4.562563345856851, 4.562563392702114, 4.562563481401101, 4.56256342579752, 4.562563447940707, 4.562563465169937, 4.562563647030914, 4.562563920859067, 4.562569872936134, 10.045548620299133, 4.563045734313597, 17.36525632438833, 12.78717423891184, 3.6520474866031285, 3.6520475416854654, 3.6520475465486344, 3.652047548279974, 3.6520475538232, 3.652047586550028, 3.6520476309221674, 3.6520476676503546, 3.6520476775645165, 3.6520476775645165, 71.2343204887712, 15.526847544152407, 10.951602545740958, 7.304169112689843, 7.306464403267285, 7.306465037805277, 8.218660918786597, 10.047580980023985, 7.303701592397106, 26.491474022447804, 13.711377082722787, 24.654977078174436, 18.259734063294392, 14.630416059220266, 94.26593465669045, 28.374132053319983, 75.97289707481531, 68.75168412070227, 15.535647194024785, 10.98182860752981, 16.44049000929851, 13.709730802566416, 1054.2909098044454, 79.78299307160394, 440.43495466018595, 214.56814286519202, 772.7660703056007, 66.93165402403181, 227.7445026249521, 63.325043872441334, 245.21948425569516, 104.71444831310725, 140.4240044845908, 110.12272754597782, 76.22914144849966, 189.36336144572473, 157.99498789033996, 97.27976480811746, 216.92493450936746, 199.38751779513797, 95.46509898463249, 250.17321302840037, 97.30927380576095, 464.86166084021283, 109.28322253028803, 144.30706843625404, 86.24165663132864, 98.34564926299136, 240.03062684260007, 179.55628447436928, 362.52425866014704, 294.19670771428605, 10.102801610800578, 10.102801610800887, 19.295878401436244, 8.266341309358536, 25.714755727218442, 6.429881279628555, 6.429881079919012, 5.51165083604565, 5.511650918906065, 5.511650919827728, 5.511650924745339, 24.769730388495017, 12.858540722560315, 10.104856394755828, 10.105304891881037, 4.593420665100739, 4.593420675551342, 4.5934206818140915, 4.593420649955967, 4.593420733986568, 4.593420724811741, 4.593420725507004, 4.593420776782182, 4.593420722749628, 4.593420856723133, 4.593420692037979, 4.593420556244223, 4.593420791344391, 10.103961440551933, 14.69523684513375, 19.313264589062864, 28.47300282307729, 12.862448452230758, 24.836560867381863, 9.187543033685314, 9.185588202102535, 40.45682013115223, 35.88086345062671, 23.907337253584373, 8.266958878436593, 55.027147722796414, 16.5535897508618, 17.42403705107208, 11.042583640228447, 47.85273244449782, 26.693624168299674, 28.492935523543213, 294.19670771428605, 26.665625392925133, 34.97494155771144, 31.183187644891888, 363.5313744764791, 20.22367838165719, 110.463001405663, 160.76764005464756, 70.68995302089294, 49.599899639895426, 126.81670756280921, 115.91801537793307, 91.98943015110274, 74.47839064202913, 46.84737094472237, 68.9008997905694, 56.1051260853391, 69.81566576721424, 96.66009822980627, 362.52425866014704, 94.75614325171988, 109.44602671128912, 136.9958243512143, 136.1169463617601, 1054.2909098044454, 252.20203539750926, 172.99426119270942, 172.24327057320994, 212.75521855375084, 120.60482489107731, 371.7307235398912, 222.75825313528753, 55.13251897942327, 36.75556344506775, 8.271282274366921, 8.271560996736014, 6.4335867772322, 6.433587373005844, 12.871398134319247, 11.948668285798176, 5.514738936998439, 5.514738971421464, 5.514738899497683, 5.514738898258885, 5.5147389880311595, 5.514738945751599, 5.514738941634402, 5.514738986608543, 5.514739013790899, 11.018563832288699, 6.433857701169371, 10.110704068028667, 4.5958911573489445, 4.5958911637840885, 4.595891195365274, 4.595891209002897, 4.5958911901290955, 4.5958911574343855, 4.595891198481003, 4.595891145516613, 4.595891222795785, 4.59589144693404, 27.54874966348996, 9.191556185202435, 15.623517970594696, 96.52360805320127, 12.877926158278019, 10.111015601730722, 22.98106799726294, 102.9946905382215, 51.548535464743495, 8.271581711262547, 94.83542731643854, 51.49537272744798, 17.458304415317286, 76.29929230587551, 23.891157909524747, 23.958189288945846, 19.352471164586994, 43.193324123723755, 31.278275495368074, 21.100580454074468, 99.29938012722525, 197.67363326749378, 45.82969532736076, 99.35668402072676, 52.44714922841153, 91.94740997971296, 71.81463234102054, 75.35325801797566, 109.44602671128912, 1054.2909098044454, 36.76140069337881, 157.99498789033996, 440.43495466018595, 362.52425866014704, 105.77284417779886, 173.04436828296664, 172.18360490385496, 240.03062684260007, 464.86166084021283, 252.20203539750926, 772.7660703056007, 371.7307235398912, 136.1169463617601, 127.069631966337, 250.17321302840037, 55.14828726048056, 19.302927843412714, 66.18704843249762, 12.86898805549598, 11.949874868203683, 19.308500698692413, 8.273415874957644, 49.642167596371465, 7.354301403504823, 7.354301367015582, 6.435186937480429, 6.435189274343163, 10.11241738091992, 14.709973474759922, 6.435622323741323, 11.959765376261036, 5.516072385105213, 5.5160723870896415, 4.5969579031351575, 4.596957885428497, 4.596957948365317, 4.5969579372169616, 4.596957672455149, 4.596958001120639, 4.597005044120827, 4.596924748696732, 8.277171029253461, 8.279026113911947, 16.528783354619456, 11.957384282383087, 21.147886430461433, 28.471354147850573, 24.82797909808506, 13.793304985434215, 40.48203085431075, 20.23228803778992, 126.81670756280921, 10.115101116380993, 49.62884583694965, 76.26151225548504, 172.99426119270942, 66.15720560402025, 134.20027953457802, 54.29220359672787, 30.37781817987703, 33.09898456605701, 173.04436828296664, 160.76764005464756, 47.83743582361237, 127.069631966337, 32.16104041571333, 65.34968401847885, 222.75825313528753, 105.77284417779886, 116.77607335143966, 36.8255026824143, 59.792722736083384, 245.21948425569516, 55.188026531142015, 115.97973066900158, 1054.2909098044454, 189.36336144572473, 252.20203539750926, 216.92493450936746, 240.03062684260007, 371.7307235398912, 294.19670771428605, 136.9958243512143, 13.808538681292745, 11.967390328162823, 10.126241942994161, 34.071151852582766, 8.285093573765778, 16.57881399439548, 7.3645193721571465, 6.443945172158234, 6.443945172158234, 6.44394527092457, 11.965035246744495, 5.523370874366124, 5.523370923473881, 5.523371038123139, 4.602796805011115, 4.602796844938815, 4.602796818963961, 4.602796805941988, 4.602796693449001, 4.602796795281841, 4.602796884300852, 4.602796967517858, 4.602796944759039, 4.602796601123991, 14.728512423303458, 3.682222613347436, 3.6822226133476383, 3.6822226098134454, 3.682222546509584, 3.6822226455201585, 48.83523188293357, 11.039015066154708, 7.354461149444124, 7.364219118183479, 7.364219108401132, 11.055217965449835, 11.973034128095401, 13.816017460057797, 19.33742988799598, 73.52792257947867, 19.336021215055784, 17.492209090093834, 10.122252469925915, 25.756484482840772, 12.885317850957824, 40.55236946247723, 86.24165663132864, 24.89078633331473, 772.7660703056007, 52.402190429933704, 193.27455778596257, 22.11219274983659, 39.61278381926558, 104.71444831310725, 59.792722736083384, 371.7307235398912, 54.18051945086478, 38.628807926000626, 65.32573797984469, 126.10681682729776, 47.83045294721553, 30.419840423368946, 1054.2909098044454, 77.43238932771119, 116.77607335143966, 42.35218544928756, 227.7445026249521, 172.24327057320994, 115.97973066900158, 100.52758902489562, 136.9958243512143, 96.52360805320127, 97.30927380576095, 93.90336935363257, 199.38751779513797, 91.98943015110274, 124.17284943967837, 464.86166084021283, 10.123251885468672, 8.282691705106938, 8.282691605558565, 16.5697448088537, 7.3624179181055, 7.3624314732768825, 6.44214376742715, 12.881878963825569, 5.521869829981218, 5.5218698199614735, 5.52186978339989, 5.521869946680796, 5.521869917095983, 10.127690433023758, 4.601595859840674, 4.601595860656314, 4.601595871086187, 4.601595865852956, 4.601595935667884, 4.601596067735711, 4.601595883709438, 4.601595775623838, 10.132826734645638, 13.804935858795867, 14.736461019461226, 8.272933971273968, 8.28540312144946, 5.521051200957942, 3.6813219158506025, 3.681321898601662, 34.040411439666784, 11.048533035650234, 81.01587274032126, 22.955978934743204, 66.26585099101466, 33.226146008618656, 26.65915819848875, 21.19854065147036, 7.360374083190769, 11.040315609864063, 7.3711499810755345, 38.64330889595326, 16.554180624993077, 27.619304707677472, 74.47839064202913, 72.7546776985829, 39.631266630030346, 11.960598940555887, 41.504317833756, 22.111761621326313, 179.55628447436928, 17.474610605827124, 45.09620003479965, 28.528287658262972, 41.3969249720463, 1054.2909098044454, 70.804064244866, 104.11006443049904, 54.124325511125704, 41.42232572074604, 47.88122394452206, 93.90336935363257, 51.48271106682823, 371.7307235398912, 362.52425866014704, 222.75825313528753, 67.18649525194505, 51.573737401372526, 440.43495466018595, 95.9006385643564, 160.76764005464756, 199.38751779513797, 772.7660703056007, 227.7445026249521, 98.41154271607641, 363.5313744764791, 172.99426119270942, 117.7301916229881, 189.36336144572473, 212.75521855375084, 164.72850913462676, 294.19670771428605, 25.88807407854199, 13.866649628059681, 29.580124384498994, 7.393574859732837, 7.393574780578118, 6.468849842689591, 6.46884970573112, 19.39201660530543, 5.544124625104255, 5.544124766761689, 5.5441244288045075, 11.086661184820322, 15.707547209617049, 4.619399931798152, 4.619399900632025, 4.619399783847312, 4.619399801116268, 4.619399811647442, 4.619399866796818, 4.619399637858241, 4.619399759530671, 4.619399688099061, 4.619399691441393, 4.619399696667023, 4.6193998118264945, 9.236315474025256, 8.322581020961355, 3.694674977562715, 3.694674977559592, 3.694674977559436, 38.846568382841134, 21.23195951318629, 10.17631220258414, 18.480657458267377, 31.388458922964464, 71.9797780251835, 15.697742268246051, 10.146832447461561, 19.397002785575122, 31.34260556428677, 12.004747328986584, 12.94072405156899, 11.998646574395677, 34.14527384617237, 33.20853556618011, 58.161252336044356, 59.039738322552104, 77.43238932771119, 30.411593467162504, 100.52758902489562, 772.7660703056007, 31.32518609613016, 58.11038810721708, 18.437526863512616, 37.81248244234364, 94.83542731643854, 54.40721486247028, 16.611484020345717, 55.36632602220294, 74.41817828870086, 34.02493405100996, 70.06422461229279, 69.11633559827784, 1054.2909098044454, 129.85164860639122, 294.19670771428605, 50.689452594546594, 108.74651610495457, 464.86166084021283, 172.24327057320994, 104.11006443049904, 212.75521855375084, 124.17284943967837, 41.796784074566084, 32.50671961408507, 28.79069358943265, 12.99758379788494, 11.139570794512466, 9.28153785558914, 8.35255163769422, 8.35255155634695, 7.423545099904955, 7.423544931966737, 7.423544418938863, 6.494538687291734, 6.494538518948231, 6.49453857196172, 5.565532172726898, 5.5655320077906865, 11.135289546422431, 4.636525867733468, 4.636525733362677, 4.636525756038985, 4.636525756340655, 4.6365256922015465, 4.636487179588948, 9.27312637041018, 11.119842485229142, 17.615553725969175, 3.7075194413422454, 3.7075194164364973, 3.7075194153140987, 3.7075193799442943, 11.122105978027943, 22.249772766240675, 14.821504922390137, 8.340545825093548, 46.27905386674548, 22.19925330318754, 13.903226354479454, 15.758519929397108, 18.532308119031953, 28.675433522381965, 42.54250312366734, 22.213469994970858, 16.659115819319414, 25.913107563055725, 59.038364943037635, 49.96017972998718, 50.76223163814199, 100.51360202620808, 139.2849400731333, 44.321847940881064, 43.459023884436675, 33.26375381240028, 45.1976899908894, 51.63551287230692, 179.55628447436928, 440.43495466018595, 41.56481604982697, 172.18360490385496, 1054.2909098044454, 59.94778735302186, 163.08887602176705, 212.75521855375084, 54.499204581524715, 69.17552033226087, 68.08248917721549, 136.1169463617601, 363.5313744764791, 216.92493450936746, 129.85164860639122, 294.19670771428605, 222.75825313528753, 126.10681682729776], \"loglift\": [30.0, 29.0, 28.0, 27.0, 26.0, 25.0, 24.0, 23.0, 22.0, 21.0, 20.0, 19.0, 18.0, 17.0, 16.0, 15.0, 14.0, 13.0, 12.0, 11.0, 10.0, 9.0, 8.0, 7.0, 6.0, 5.0, 4.0, 3.0, 2.0, 1.0, 2.1137, 2.0647, 2.0413, 2.0302, 2.0302, 2.0004, 1.9759, 1.9732, 1.9732, 1.9732, 1.9732, 1.958, 1.9565, 1.9374, 1.9374, 1.9374, 1.9374, 1.9374, 1.9374, 1.9374, 1.9374, 1.9374, 1.9374, 1.9374, 1.9374, 1.9374, 1.9374, 1.9374, 1.9221, 1.9204, 1.9015, 1.8694, 1.8144, 1.7607, 1.8627, 1.899, 1.8969, 1.7453, 1.8643, 1.6443, 1.773, 1.664, 1.8785, 1.8086, 1.7606, 1.4089, 1.6848, 1.4679, 1.664, 1.4112, 1.7833, 1.333, 1.5779, 1.4946, 1.4297, 1.376, 1.1578, 1.0161, 0.8782, 0.774, 1.4092, 1.1636, 1.3632, 0.7604, 0.7397, 1.1112, 1.0956, 0.9737, 0.6081, 0.5108, 0.6483, 0.3765, -0.4966, 0.7459, 0.41, 0.4503, 0.4126, 2.1043, 2.1023, 2.0821, 2.0821, 2.0821, 2.0639, 2.039, 2.039, 2.039, 2.039, 2.039, 2.039, 2.0383, 2.0031, 2.0031, 2.0031, 2.0031, 2.0031, 2.0031, 2.0031, 2.0031, 1.9997, 1.9929, 1.9903, 1.9828, 1.9754, 1.9742, 1.9599, 1.9539, 1.9467, 1.9384, 1.8576, 1.7512, 1.7637, 1.8113, 1.8767, 1.7723, 1.4028, 1.8364, 1.64, 1.7864, 1.6709, 1.2208, 1.6083, 1.7567, 1.6936, 1.7186, 1.5017, 1.1902, 1.449, 1.437, 1.3954, 1.2458, 0.9882, 1.0536, 0.6774, 0.2387, 0.9944, 1.0565, 0.6077, 0.4997, 0.896, 0.559, 0.7503, 0.9494, -0.48, 0.3323, 0.8659, -0.0515, 0.5683, 0.2084, 0.6404, -0.1308, 2.1589, 2.1516, 2.1454, 2.1126, 2.0587, 2.0437, 2.0371, 2.0074, 2.0074, 2.0074, 2.0074, 2.0074, 2.0074, 2.0074, 2.0074, 2.0072, 2.0071, 1.9958, 1.9745, 1.9659, 1.9504, 1.9504, 1.9504, 1.9504, 1.9504, 1.9504, 1.9504, 1.9504, 1.9504, 1.9504, 1.9444, 1.9371, 1.9291, 1.9341, 1.9338, 1.9338, 1.9236, 1.8988, 1.9091, 1.8252, 1.8704, 1.8286, 1.8478, 1.8581, 1.6501, 1.777, 1.6218, 1.6258, 1.8236, 1.8734, 1.8078, 1.8345, 1.061, 1.5065, 1.1453, 1.2226, 0.8113, 1.304, 0.8234, 1.2622, 0.7668, 1.0705, 0.9181, 0.9973, 1.1367, 0.7294, 0.793, 0.9902, 0.5801, 0.613, 0.9648, 0.429, 0.9241, -0.0693, 0.8456, 0.606, 0.9707, 0.868, 0.1921, 0.347, -0.3251, -0.1583, 2.1642, 2.1642, 2.1543, 2.1442, 2.1289, 2.1118, 2.1118, 2.0869, 2.0869, 2.0869, 2.0869, 2.0807, 2.0613, 2.0592, 2.0522, 2.0509, 2.0509, 2.0509, 2.0509, 2.0509, 2.0509, 2.0509, 2.0509, 2.0509, 2.0509, 2.0509, 2.0508, 2.0508, 2.0443, 2.0435, 2.0256, 2.0177, 2.0171, 1.979, 2.0214, 2.0201, 1.9198, 1.9273, 1.9423, 2.0123, 1.877, 1.957, 1.931, 1.971, 1.7477, 1.8211, 1.8017, 1.335, 1.787, 1.726, 1.7441, 1.1573, 1.8387, 1.348, 1.1682, 1.4136, 1.5215, 1.1873, 1.1978, 1.2676, 1.3356, 1.5279, 1.3513, 1.4351, 1.3247, 1.0926, 0.2728, 1.0382, 0.9432, 0.7764, 0.7685, -0.7103, 0.1684, 0.4644, 0.461, 0.1702, 0.6678, -0.4077, 0.0341, 2.2656, 2.2579, 2.1752, 2.155, 2.1428, 2.1428, 2.1343, 2.1224, 2.1179, 2.1179, 2.1179, 2.1179, 2.1179, 2.1179, 2.1179, 2.1179, 2.1179, 2.0979, 2.096, 2.0908, 2.0819, 2.0819, 2.0819, 2.0819, 2.0819, 2.0819, 2.0819, 2.0819, 2.0819, 2.0819, 2.058, 2.0697, 2.0535, 1.9986, 2.0375, 2.0425, 1.9449, 1.792, 1.8533, 2.0259, 1.6032, 1.7106, 1.8925, 1.5482, 1.7964, 1.7854, 1.83, 1.6298, 1.7037, 1.7922, 1.3884, 1.1805, 1.5384, 1.2941, 1.4957, 1.2748, 1.3634, 1.3419, 1.1933, 0.2521, 1.5535, 0.8772, 0.313, 0.3139, 0.9148, 0.6243, 0.6069, 0.397, -0.0078, 0.3384, -0.4415, -0.0219, 0.6685, 0.6939, 0.0315, 2.2765, 2.244, 2.2315, 2.2253, 2.2199, 2.1955, 2.1863, 2.1811, 2.1723, 2.1723, 2.154, 2.1538, 2.1427, 2.141, 2.1348, 2.1329, 2.1291, 2.1291, 2.0931, 2.0931, 2.0931, 2.0931, 2.0931, 2.0931, 2.09, 2.0623, 2.0541, 2.0539, 2.0402, 2.0387, 2.0037, 1.9852, 1.9794, 1.9616, 1.8231, 1.9034, 1.6579, 1.9853, 1.761, 1.6953, 1.4858, 1.6574, 1.4532, 1.6507, 1.775, 1.7336, 1.2912, 1.3031, 1.6164, 1.2929, 1.7268, 1.4238, 0.8551, 1.0471, 0.9709, 1.5945, 1.3197, 0.4891, 1.3523, 0.8638, -0.6219, 0.5298, 0.325, 0.3145, 0.2069, -0.2279, -0.056, 0.4648, 2.275, 2.2652, 2.2516, 2.2428, 2.2316, 2.224, 2.2176, 2.1993, 2.1993, 2.1993, 2.179, 2.1744, 2.1744, 2.1744, 2.1385, 2.1385, 2.1385, 2.1385, 2.1385, 2.1385, 2.1385, 2.1385, 2.1385, 2.1385, 2.137, 2.082, 2.082, 2.082, 2.082, 2.082, 2.0246, 2.0585, 2.0671, 2.0658, 2.0658, 2.0528, 2.0455, 2.0118, 1.9791, 1.8113, 1.9669, 1.9563, 2.0214, 1.873, 1.9733, 1.7764, 1.6447, 1.8539, 1.0723, 1.6611, 1.3429, 1.8488, 1.7031, 1.4536, 1.5224, 0.946, 1.5345, 1.6289, 1.4109, 1.1383, 1.4522, 1.6405, -0.2618, 1.1434, 0.8795, 1.4424, 0.3835, 0.5586, 0.7879, 0.8806, 0.6703, 0.9023, 0.8396, 0.849, 0.2518, 0.8538, 0.5907, -0.5995, 2.2572, 2.2412, 2.2412, 2.2328, 2.2272, 2.2268, 2.2089, 2.1952, 2.184, 2.184, 2.184, 2.184, 2.184, 2.1565, 2.1481, 2.1481, 2.1481, 2.1481, 2.1481, 2.1481, 2.1481, 2.1481, 2.1452, 2.1317, 2.1281, 2.1106, 2.1028, 2.1024, 2.0916, 2.0916, 2.0805, 2.0695, 1.9777, 2.0187, 1.9109, 1.9424, 1.9657, 1.9114, 2.0757, 2.0104, 2.0742, 1.8068, 1.9416, 1.8207, 1.5943, 1.5122, 1.6662, 1.9824, 1.6429, 1.8112, 1.1828, 1.8719, 1.5275, 1.6868, 1.5429, 0.2604, 1.317, 1.1473, 1.422, 1.5299, 1.4517, 1.1178, 1.3949, 0.3671, 0.2605, 0.4923, 1.1905, 1.3468, -0.0393, 0.9163, 0.5414, 0.373, -0.7094, 0.1979, 0.8404, -0.2429, 0.341, 0.6746, 0.256, 0.1492, 0.3619, -0.2042, 2.4634, 2.4343, 2.3787, 2.3771, 2.3771, 2.3589, 2.3589, 2.356, 2.3341, 2.3341, 2.3341, 2.3209, 2.3054, 2.2984, 2.2984, 2.2984, 2.2984, 2.2984, 2.2984, 2.2984, 2.2984, 2.2984, 2.2984, 2.2984, 2.2984, 2.2823, 2.2588, 2.2422, 2.2422, 2.2422, 2.2201, 2.2011, 2.1895, 2.1471, 2.0852, 1.9547, 2.147, 2.1828, 2.0647, 1.9788, 2.1406, 2.1187, 2.1269, 1.9335, 1.922, 1.8046, 1.7463, 1.6435, 1.8629, 1.4925, 0.8457, 1.8251, 1.5998, 1.971, 1.6688, 1.2372, 1.4801, 2.0056, 1.4282, 1.2659, 1.6503, 1.2447, 1.2504, -0.398, 0.8008, 0.191, 1.4269, 0.8528, -0.4521, 0.371, 0.7598, 0.0242, 0.5229, 2.5338, 2.528, 2.5247, 2.488, 2.4766, 2.4602, 2.4495, 2.4495, 2.4356, 2.4356, 2.4356, 2.4175, 2.4175, 2.4175, 2.3928, 2.3928, 2.3826, 2.3572, 2.3572, 2.3572, 2.3572, 2.3572, 2.3567, 2.3449, 2.3128, 2.3121, 2.3012, 2.3012, 2.3012, 2.3012, 2.2795, 2.2614, 2.253, 2.2758, 2.1805, 2.2021, 2.2331, 2.2039, 2.1786, 2.0853, 2.0239, 2.0876, 2.1126, 1.9712, 1.6948, 1.732, 1.7111, 1.4221, 1.2653, 1.7055, 1.711, 1.8135, 1.6223, 1.5258, 0.8674, 0.3239, 1.6228, 0.7785, -0.4463, 1.3616, 0.6888, 0.482, 1.3847, 1.1929, 1.2035, 0.6335, -0.2835, 0.1271, 0.5738, -0.2015, 0.0521, 0.5909], \"logprob\": [30.0, 29.0, 28.0, 27.0, 26.0, 25.0, 24.0, 23.0, 22.0, 21.0, 20.0, 19.0, 18.0, 17.0, 16.0, 15.0, 14.0, 13.0, 12.0, 11.0, 10.0, 9.0, 8.0, 7.0, 6.0, 5.0, 4.0, 3.0, 2.0, 1.0, -5.5238, -6.3661, -7.0315, -7.1479, -7.148, -6.6672, -5.8733, -7.6106, -7.6106, -7.6106, -7.6106, -6.9323, -6.9343, -7.8288, -7.8288, -7.8288, -7.8288, -7.8288, -7.8288, -7.8288, -7.8288, -7.8288, -7.8288, -7.8288, -7.8288, -7.8288, -7.8288, -7.8288, -7.151, -6.7466, -6.5296, -5.9511, -5.3413, -4.7637, -6.6799, -7.2797, -7.2828, -5.4268, -6.8724, -4.8187, -6.271, -5.5226, -7.3, -6.8596, -6.5721, -4.3638, -6.1364, -4.9182, -6.1868, -5.1946, -6.821, -5.1615, -6.0837, -5.8569, -5.6841, -5.6064, -5.0655, -4.798, -4.5236, -4.3791, -5.7622, -5.3007, -5.6971, -4.6163, -5.0249, -5.6203, -5.6108, -5.6068, -5.3915, -5.3558, -5.493, -5.4162, -5.1415, -5.5771, -5.5163, -5.5579, -5.6386, -6.565, -6.8772, -7.2158, -7.2158, -7.2158, -7.3676, -7.5466, -7.5466, -7.5466, -7.5466, -7.5466, -7.5466, -5.2118, -7.7649, -7.7649, -7.7649, -7.7649, -7.7649, -7.7649, -7.7649, -7.7649, -6.9809, -6.5511, -7.084, -5.9937, -6.6938, -6.0709, -6.4723, -5.9579, -8.0445, -7.2418, -5.9362, -4.7908, -5.6424, -6.1319, -6.7284, -6.078, -3.9962, -6.7081, -5.5495, -6.4131, -5.8784, -3.9324, -5.6752, -6.4842, -6.2504, -6.4022, -5.8494, -5.16, -5.77, -5.7663, -5.6781, -5.3944, -4.9271, -5.147, -4.5297, -4.0955, -5.492, -5.6036, -5.2064, -5.2649, -5.6298, -5.3757, -5.5536, -5.6839, -5.1249, -5.4604, -5.6755, -5.4533, -5.6223, -5.5643, -5.7179, -5.7414, -6.2846, -6.4031, -6.5344, -6.9723, -7.3824, -7.5513, -7.5579, -7.7696, -7.7696, -7.7696, -7.7696, -7.7696, -7.7696, -7.7696, -7.7696, -7.7697, -6.9806, -7.781, -6.4659, -6.7806, -8.0492, -8.0492, -8.0492, -8.0492, -8.0492, -8.0492, -8.0492, -8.0492, -8.0492, -8.0492, -5.0845, -6.6152, -6.9723, -7.3723, -7.3723, -7.3723, -7.2649, -7.0887, -7.3973, -6.1928, -6.8062, -6.2613, -6.5423, -6.7537, -5.0986, -6.1724, -5.3427, -5.4386, -6.7281, -7.0252, -6.6873, -6.8423, -3.2732, -5.409, -4.0618, -4.7036, -3.8335, -5.7872, -5.0433, -5.8844, -5.0259, -5.5731, -5.4321, -5.5959, -5.8244, -5.3218, -5.4393, -5.7271, -5.3352, -5.3866, -5.7713, -5.3437, -5.7928, -5.2225, -5.7553, -5.7169, -5.867, -5.8384, -5.622, -5.7573, -5.7268, -5.7689, -6.8178, -6.8178, -6.1807, -7.0385, -5.9189, -7.3221, -7.3221, -7.5011, -7.5011, -7.5011, -7.5011, -6.0045, -6.6796, -6.9226, -6.9296, -7.7194, -7.7194, -7.7194, -7.7194, -7.7194, -7.7194, -7.7194, -7.7194, -7.7194, -7.7194, -7.7194, -7.7194, -7.7194, -6.9376, -6.5638, -6.3085, -5.9282, -6.7234, -6.1036, -7.0556, -7.0571, -5.6749, -5.7874, -6.1784, -7.1703, -5.41, -6.5312, -6.506, -6.9221, -5.6791, -6.1894, -6.1435, -4.2756, -6.2245, -6.0142, -6.1109, -4.2417, -6.4493, -5.2421, -5.0467, -5.6229, -5.8694, -5.2649, -5.3442, -5.5056, -5.6488, -5.9201, -5.7109, -5.8325, -5.7243, -5.6311, -5.1289, -5.7053, -5.6563, -5.5985, -5.6128, -5.0446, -5.5963, -5.6772, -5.6849, -5.7645, -5.8346, -5.7843, -5.8547, -5.0195, -5.4326, -7.0069, -7.027, -7.2905, -7.2905, -6.6056, -6.6918, -7.4695, -7.4695, -7.4695, -7.4695, -7.4695, -7.4695, -7.4695, -7.4695, -7.4695, -6.7973, -7.3373, -6.8905, -7.6878, -7.6878, -7.6878, -7.6878, -7.6878, -7.6878, -7.6878, -7.6878, -7.6878, -7.6878, -5.9209, -7.0069, -6.4926, -4.7265, -6.7019, -6.9388, -6.2153, -4.8682, -5.4991, -7.1561, -5.1395, -5.6428, -6.5425, -5.412, -6.325, -6.3331, -6.502, -5.8994, -6.1482, -6.4533, -5.3084, -4.8277, -5.9315, -5.402, -5.8393, -5.4988, -5.6574, -5.6307, -5.4061, -4.0822, -6.1369, -5.3551, -4.8941, -5.0879, -5.7188, -5.517, -5.5394, -5.4171, -5.1609, -5.4262, -5.0864, -5.3985, -5.7128, -5.7562, -5.7412, -5.0084, -6.0906, -4.8709, -6.5147, -6.5942, -6.1388, -6.9955, -5.2089, -7.1272, -7.1273, -7.2791, -7.2793, -6.8384, -6.4654, -7.2983, -6.6804, -7.4581, -7.4581, -7.6764, -7.6764, -7.6764, -7.6764, -7.6764, -7.6764, -7.6794, -7.7072, -7.1272, -7.1272, -6.4496, -6.7748, -6.2396, -5.9608, -6.1035, -6.7091, -5.7709, -6.3842, -4.7942, -6.9956, -5.6293, -5.2654, -4.6558, -5.4454, -4.9424, -5.6497, -6.1061, -6.0617, -4.8501, -4.9118, -5.8106, -5.1572, -6.0973, -5.6913, -5.0337, -5.5865, -5.5637, -6.0941, -5.8843, -5.3036, -5.9318, -5.6776, -4.9561, -5.5214, -5.4396, -5.6008, -5.6072, -5.6045, -5.6666, -5.9101, -6.3945, -6.5475, -6.7282, -5.5236, -6.9488, -6.2628, -7.0806, -7.2324, -7.2324, -7.2324, -6.6339, -7.4115, -7.4115, -7.4115, -7.6297, -7.6297, -7.6297, -7.6297, -7.6297, -7.6297, -7.6297, -7.6297, -7.6297, -7.6297, -6.4681, -7.9093, -7.9093, -7.9093, -7.9093, -7.9093, -5.3818, -6.8349, -7.2324, -7.2324, -7.2324, -6.8392, -6.7667, -6.6573, -6.3537, -5.1859, -6.366, -6.4768, -6.9587, -6.1732, -6.7655, -5.8159, -5.193, -6.2264, -3.5726, -5.6749, -4.6878, -6.3499, -5.9126, -5.19, -5.6816, -4.4307, -5.768, -6.012, -5.7046, -5.3194, -5.975, -6.2392, -4.596, -5.8021, -5.6551, -6.1064, -5.4831, -5.5874, -5.7536, -5.8039, -5.7046, -5.8228, -5.8774, -5.9036, -5.7478, -5.9194, -5.8825, -5.7526, -6.7229, -6.9395, -6.9395, -6.2545, -7.0713, -7.0717, -7.2231, -6.5438, -7.4021, -7.4021, -7.4021, -7.4021, -7.4021, -6.8231, -7.6204, -7.6204, -7.6204, -7.6204, -7.6204, -7.6204, -7.6204, -7.6204, -6.8339, -6.5382, -6.4764, -7.0713, -7.0776, -7.4839, -7.9, -7.9, -5.6868, -6.8231, -4.9225, -6.1426, -5.1902, -5.8492, -6.0461, -6.3295, -7.2231, -6.8829, -7.2231, -5.8337, -6.5466, -6.1556, -5.39, -5.4955, -5.949, -6.8309, -5.9262, -6.3876, -4.9216, -6.5623, -5.9586, -6.2572, -6.0287, -4.0739, -5.718, -5.5021, -5.8816, -6.0411, -5.9744, -5.6348, -5.9587, -5.0096, -5.1413, -5.3965, -5.8969, -6.005, -5.2464, -5.8152, -5.6735, -5.6267, -5.3543, -5.6687, -5.8653, -5.6419, -5.8006, -5.8518, -5.7951, -5.7855, -5.8287, -5.8148, -5.5777, -6.231, -5.529, -6.9171, -6.9171, -7.0689, -7.0689, -5.974, -7.248, -7.248, -7.248, -6.5683, -6.2353, -7.4662, -7.4662, -7.4662, -7.4662, -7.4662, -7.4662, -7.4662, -7.4662, -7.4662, -7.4662, -7.4662, -7.4662, -6.7894, -6.9171, -7.7458, -7.7458, -7.7458, -5.4151, -6.0383, -6.7853, -6.2311, -5.7632, -5.0638, -6.3944, -6.7949, -6.265, -5.8711, -6.6689, -6.6158, -6.6832, -5.8307, -5.8701, -5.427, -5.4704, -5.3019, -6.0171, -5.1919, -3.7992, -6.0253, -5.6327, -6.4094, -5.9934, -5.5055, -5.8183, -6.4792, -5.8527, -5.7193, -6.1175, -5.8008, -5.8087, -4.7322, -5.6277, -5.4196, -5.9422, -5.753, -5.6052, -5.7749, -5.8896, -5.9105, -5.9503, -5.0282, -5.2854, -5.4102, -6.2421, -6.4077, -6.6066, -6.7228, -6.7228, -6.8546, -6.8546, -6.8546, -7.0064, -7.0064, -7.0064, -7.1854, -7.1854, -6.5021, -7.4037, -7.4037, -7.4037, -7.4037, -7.4037, -7.4042, -6.7228, -6.5734, -6.1139, -7.6833, -7.6833, -7.6833, -7.6833, -6.6064, -5.9311, -6.3457, -6.8979, -5.2796, -5.9927, -6.4296, -6.3336, -6.1967, -5.8535, -5.5204, -6.1066, -6.3693, -6.0689, -5.5219, -5.6517, -5.6566, -5.2625, -5.093, -5.7979, -5.812, -5.9769, -5.8615, -5.8248, -5.237, -4.8832, -5.9448, -5.3678, -4.7806, -5.8398, -5.5117, -5.4527, -5.912, -5.8653, -5.8707, -5.7478, -5.6825, -5.7882, -5.8547, -5.8121, -5.8366, -5.8668]}, \"token.table\": {\"Topic\": [1, 2, 3, 5, 7, 8, 1, 3, 5, 6, 2, 5, 7, 1, 8, 2, 2, 9, 4, 2, 4, 7, 8, 1, 3, 6, 7, 10, 3, 3, 10, 1, 2, 5, 6, 7, 8, 1, 4, 8, 9, 10, 4, 8, 10, 1, 4, 6, 1, 2, 3, 10, 7, 9, 3, 1, 4, 10, 2, 5, 8, 9, 1, 2, 3, 4, 5, 6, 7, 9, 10, 5, 3, 9, 1, 9, 10, 4, 1, 2, 3, 4, 5, 6, 7, 8, 9, 1, 3, 5, 6, 7, 8, 9, 10, 3, 2, 5, 1, 5, 9, 10, 2, 3, 4, 5, 6, 8, 10, 1, 6, 1, 2, 3, 4, 5, 6, 7, 8, 9, 10, 8, 2, 5, 8, 9, 1, 9, 3, 10, 1, 2, 3, 4, 5, 6, 8, 9, 10, 8, 1, 2, 4, 5, 6, 7, 8, 9, 10, 10, 2, 9, 10, 3, 7, 9, 5, 6, 8, 9, 10, 6, 3, 7, 1, 3, 6, 7, 2, 4, 10, 9, 10, 1, 2, 3, 7, 8, 9, 10, 3, 2, 4, 6, 9, 10, 9, 7, 9, 3, 4, 10, 7, 3, 4, 5, 8, 9, 1, 4, 6, 8, 9, 10, 7, 8, 5, 2, 2, 3, 4, 5, 6, 7, 10, 4, 5, 7, 4, 4, 5, 6, 7, 2, 3, 4, 5, 6, 7, 9, 2, 9, 1, 2, 3, 6, 7, 5, 9, 1, 3, 4, 5, 6, 7, 8, 9, 1, 2, 3, 5, 6, 8, 9, 10, 10, 2, 4, 10, 1, 2, 3, 4, 5, 6, 7, 8, 10, 1, 2, 5, 6, 7, 8, 9, 10, 4, 7, 9, 10, 8, 10, 1, 4, 6, 7, 8, 9, 10, 7, 10, 1, 8, 10, 2, 6, 10, 1, 2, 3, 4, 6, 7, 8, 9, 10, 7, 5, 2, 3, 4, 5, 6, 9, 2, 3, 10, 1, 4, 5, 6, 8, 5, 1, 2, 5, 7, 3, 5, 8, 4, 7, 8, 4, 7, 1, 2, 3, 4, 7, 8, 9, 7, 1, 5, 8, 9, 10, 1, 1, 5, 7, 1, 2, 3, 4, 5, 6, 7, 3, 5, 7, 10, 1, 3, 4, 6, 8, 1, 2, 3, 4, 5, 6, 8, 10, 5, 6, 10, 4, 6, 6, 9, 5, 9, 1, 6, 9, 2, 6, 7, 10, 1, 2, 3, 4, 5, 6, 8, 10, 1, 2, 3, 5, 6, 7, 9, 10, 6, 1, 4, 5, 6, 7, 8, 9, 10, 1, 3, 6, 7, 8, 9, 2, 3, 4, 5, 6, 8, 9, 10, 4, 8, 10, 6, 4, 5, 2, 3, 4, 6, 7, 9, 10, 2, 3, 6, 8, 10, 3, 4, 7, 9, 1, 2, 3, 4, 6, 7, 3, 1, 4, 7, 2, 3, 5, 6, 8, 9, 10, 1, 3, 5, 7, 10, 5, 2, 2, 8, 2, 3, 5, 7, 8, 9, 10, 6, 1, 2, 3, 4, 9, 3, 1, 1, 7, 1, 4, 5, 6, 10, 6, 7, 4, 9, 7, 1, 2, 3, 4, 5, 6, 7, 8, 9, 1, 2, 3, 4, 5, 6, 7, 9, 1, 3, 1, 3, 6, 7, 2, 3, 4, 6, 8, 9, 10, 7, 9, 2, 1, 3, 2, 3, 7, 10, 8, 10, 1, 2, 3, 5, 7, 2, 5, 1, 2, 3, 6, 8, 9, 10, 5, 2, 3, 4, 5, 6, 8, 9, 9, 1, 2, 3, 4, 5, 6, 8, 9, 10, 1, 8, 2, 4, 5, 7, 8, 9, 5, 6, 7, 8, 9, 1, 2, 3, 4, 5, 6, 7, 8, 9, 7, 1, 2, 3, 4, 5, 6, 8, 9, 10, 1, 2, 3, 4, 6, 7, 8, 9, 10, 4, 1, 2, 3, 4, 5, 6, 7, 9, 10, 9, 3, 4, 8, 1, 1, 9, 1, 2, 3, 4, 5, 6, 7, 8, 9, 10, 1, 3, 8, 10, 1, 2, 3, 4, 5, 6, 7, 10, 2, 5, 9, 3, 7, 10, 2, 4, 5, 7, 9, 10, 8, 3, 4, 5, 7, 8, 9, 5, 1, 2, 3, 4, 5, 6, 7, 8, 9, 10, 4, 6, 8, 1, 2, 3, 4, 5, 6, 8, 9, 1, 2, 3, 4, 5, 6, 7, 8, 10, 1, 2, 4, 6, 7, 8, 10, 2, 4, 6, 7, 10, 8, 10, 3, 1, 4, 6, 1, 2, 5, 6, 7, 9, 7, 9, 4, 1, 6, 7, 1, 2, 4, 5, 10, 1, 1, 3, 2, 6, 8, 5, 1, 3, 5, 10, 7, 6, 10, 10, 2, 6, 8, 1, 2, 3, 7, 8, 9, 1, 10, 4, 5, 6, 7, 9, 8, 4, 6, 7, 9, 1, 3, 4, 5, 6, 7, 8, 9, 10, 5, 9, 10, 1, 2, 3, 5, 8, 9, 10, 3, 4, 6, 7, 8, 9, 4, 5, 7, 9, 9, 6, 1, 4, 5, 6, 3, 8, 1, 6, 3, 4, 6, 8, 9, 10, 8, 4, 2, 6, 7, 1, 7, 10, 2, 3, 5, 7, 9, 10, 5, 7, 1, 2, 8, 9, 1, 2, 3, 6, 8, 10, 2, 1, 4, 1, 1, 2, 3, 9, 2, 4, 1, 8, 10, 1, 5, 6, 7, 8, 9, 4, 8, 4, 5, 6, 8, 9, 7, 8, 4, 9, 5, 3, 5, 6, 1, 7, 8, 10, 1, 2, 5, 6, 8, 3, 4, 8, 2, 4, 5, 8, 9, 10, 2, 1, 2, 4, 5, 6, 8, 9, 10, 4, 10, 2, 9, 2, 8, 6, 8, 9, 8, 5, 1, 2, 3, 4, 5, 7, 4, 6, 7, 8, 9, 1, 2, 3, 4, 4, 3, 5, 10, 1, 5, 6, 7, 9, 3, 7, 9, 10, 3, 2, 3, 4, 5, 6, 10, 6, 3, 3, 1, 2, 3, 4, 5, 6, 7, 8, 9, 10, 2, 3, 4, 6, 9, 1, 2, 3, 4, 5, 6, 7, 8, 9, 10, 1, 2, 3, 4, 5, 7, 1, 2, 5, 8, 1, 2, 3, 4, 5, 6, 8, 9, 10, 9, 1, 2, 3, 4, 5, 6, 10, 2, 5, 10, 8, 1, 2, 3, 4, 5, 6, 7, 8, 9, 10, 3, 4, 6, 7, 3, 5, 9, 1, 5, 6, 8, 6, 7, 8, 10, 1, 1, 2, 3, 5, 9, 1, 2, 3, 4, 5, 6, 7, 8, 9, 10, 2, 7, 10, 1, 2, 3, 4, 5, 6, 7, 8, 9, 10, 10, 5, 6, 8, 2, 3, 6, 8, 10, 2, 3, 3, 2, 2, 4, 5, 3, 4, 7, 8, 4, 5, 7, 10, 8, 1, 2, 3, 6, 7, 8, 9, 10, 2, 3, 6, 7, 10, 1, 4, 8, 1, 3, 1, 2, 3, 4, 7, 8, 9, 10, 2, 5, 6, 7, 9, 10, 4, 1, 2, 3, 10, 1, 3, 5, 6, 8, 9, 6, 1, 3, 5, 7, 9, 10, 5, 1, 2, 3, 8, 10, 8, 1, 2, 3, 4, 8, 9, 10, 10, 1, 3, 4, 5, 6, 7, 8, 9, 10, 9, 10, 9, 4, 6, 8, 9, 1, 2, 3, 4, 5, 6, 7, 8, 9, 1, 2, 3, 4, 5, 6, 8, 7, 8, 2, 3, 9, 3, 6, 9, 1, 2, 4, 6, 7, 8, 10, 5, 7, 8, 1, 2, 4, 6, 8, 9, 10, 3, 3, 2, 1, 3, 4, 5, 6, 7, 10, 1, 2, 3, 4, 5, 6, 8, 9, 3, 5, 1, 2, 3, 4, 5, 6, 8, 3, 4, 5, 7, 1, 2, 3, 4, 5, 7, 9, 9, 2, 3, 8, 8, 5, 7, 9, 1, 7, 8, 9, 6, 10, 3, 3, 5, 7, 10, 2, 1, 2, 4, 5, 6, 7, 8, 10, 6, 4, 7, 10, 3, 4, 5, 8, 10, 8, 4, 10, 1, 6, 7, 10, 4, 7, 3, 4, 4, 6, 7, 1, 2, 3, 5, 6, 7, 8, 9, 9, 1, 5, 7, 4, 6, 9, 2, 5, 6, 7, 8, 9, 10, 7, 1, 2, 3, 4, 6, 8, 9, 10, 9, 4, 1, 3, 4, 5, 6, 7, 8, 2, 3, 9, 10, 2, 3, 4, 9, 1, 3, 4, 5, 6, 7, 8, 10, 7, 1, 2, 5, 6, 7, 9, 10, 3, 4, 6, 7, 4, 8, 1, 4, 5, 7, 10, 8, 9, 3, 4, 5, 10, 1, 5, 7, 9, 2, 5, 6, 7, 8, 8, 1, 4, 9, 2, 5, 7, 9, 10, 1, 2, 2, 5, 9, 10, 7, 9, 10, 9, 9, 8, 10, 1, 3, 6, 7, 1, 2, 3, 4, 5, 7, 8, 10, 2, 6, 8, 9, 1, 2, 6, 9, 6, 4, 5, 9, 4, 5, 6, 8, 9, 1, 2, 3, 8, 9, 10, 1, 2, 3, 4, 5, 6, 7, 8, 9, 10, 1, 4, 5, 6, 8, 9, 1, 1, 2, 6, 7, 10, 6, 5, 7, 10, 1, 3, 7, 5, 3, 6, 9, 2, 4, 5, 7, 8, 2, 3, 4, 7, 8, 7, 1, 2, 3, 4, 5, 6, 7, 9, 10, 1, 6, 3, 7, 10, 2, 3, 4, 5, 7, 8, 9, 8, 1, 2, 3, 5, 6, 7, 8, 9, 10, 6, 1, 1, 2, 3, 4, 5, 6, 8, 9, 10, 4, 4, 1, 4, 6, 8, 10, 2, 2, 4, 6, 10, 4, 8, 7, 9, 1, 2, 3, 6, 7, 8, 1, 2, 3, 4, 5, 6, 7, 8, 9, 10, 2, 5, 8, 2, 5, 6, 7, 8, 10, 4, 10, 5, 9, 4, 6, 9, 3, 4, 10, 1, 2, 4, 5, 6, 7, 8, 9, 10, 2, 4, 5, 8, 9, 2, 4, 5, 1, 3, 4, 6, 7, 8, 3, 4, 6, 6, 3, 4, 4, 7, 8, 10, 7, 1, 3, 4, 6, 8, 9, 2, 3, 5, 1, 3, 4, 5, 7, 8, 10, 1, 3, 6, 7, 9, 4, 9, 1, 3, 4, 8, 9, 10, 5, 4, 10, 5, 1, 2, 4, 8, 9, 2, 3, 2, 9, 10, 2, 8, 7, 4, 5, 1, 1, 4, 6, 7, 9, 2, 4, 5, 6, 9, 7, 2, 4, 5, 10, 5, 3, 6, 7, 9, 1, 3, 5, 6, 7, 10, 7, 3, 8, 8, 6, 9, 10, 1, 3, 4, 5, 1, 2, 3, 4, 6, 7, 9, 10, 5, 1, 2, 3, 4, 5, 6, 7, 9, 10, 2, 4, 7, 3, 2, 4, 5, 6, 7, 9, 10, 10, 1, 2, 3, 4, 5, 6, 7, 8, 9, 10, 3, 3, 9, 3, 7, 10, 5, 2, 6, 7, 8, 9, 10, 8, 10, 7, 5, 8, 1, 1, 4, 5, 6, 8, 10, 6, 7, 8, 9, 7, 10, 5, 8, 2, 5, 6, 7, 1, 10, 5, 7, 2, 5, 8, 2, 2, 4, 9, 10, 1, 1, 2, 3, 4, 5, 7, 8, 9, 1, 2, 3, 5, 6, 7, 8, 9, 10, 2, 3, 6, 8, 9, 2, 4, 5, 8, 9, 3, 8, 9, 10, 7, 1, 2, 3, 4, 6, 7, 8, 9, 10, 4, 2, 3, 5, 10, 2, 7, 3, 10, 4, 5, 10, 7, 9, 10, 3, 7, 1, 2, 3, 4, 5, 6, 8, 9, 10, 2, 6, 7, 8, 10, 1, 2, 3, 4, 5, 6, 7, 8, 9, 10, 7, 10, 5, 1, 10, 1, 2, 3, 6, 8, 9, 5, 6, 2, 6, 9, 3, 1, 2, 3, 5, 8, 4, 9, 10, 2, 6, 7, 9, 1, 1, 3, 4, 6, 7, 8, 1, 2, 3, 6, 7, 8, 9, 10, 1, 2, 3, 4, 6, 7, 8, 9, 10, 2, 3, 4, 5, 6, 10, 2, 4, 8, 4, 7, 10, 5, 7, 9, 3, 6, 2, 3, 4, 5, 8, 9, 1, 2, 8, 1, 2, 3, 4, 6, 7, 10, 1, 2, 7, 8, 10, 1, 2, 4, 5, 6, 8, 10, 9, 10, 2, 4, 5, 8, 9, 1, 2, 3, 4, 6, 9, 1, 2, 3, 4, 6, 7, 8, 9, 5, 8, 10, 3, 6, 2, 6, 4, 6, 8, 4, 6, 7, 9, 10, 2, 5, 8, 2, 4, 6, 7, 8, 9, 10, 2, 4, 8, 2, 3, 4, 5, 6, 8, 9, 10, 3, 1, 2, 4, 6, 7, 9, 10, 1, 2, 3, 4, 5, 6, 7, 8, 10, 1, 2, 3, 4, 5, 7, 8, 10, 5, 6, 7, 8, 9, 2, 8, 9, 2, 1, 2, 3, 5, 6, 7, 9, 10, 4, 6, 9, 1, 2, 3, 4, 5, 6, 7, 9, 5, 1, 8, 3, 5, 7, 9, 1, 2, 9, 9, 4, 5, 8], \"Freq\": [0.2361153242487093, 0.07083459727461279, 0.023611532424870928, 0.11805766212435465, 0.4013960512228058, 0.11805766212435465, 0.11455866230888219, 0.057279331154441095, 0.6873519738532932, 0.057279331154441095, 0.905024204168222, 0.9066612314595169, 0.905244291805644, 0.8608458277310349, 0.12753271521941256, 0.8688340300295297, 0.8688340011170791, 0.8659133573498619, 0.8708107082674256, 0.7029828244821916, 0.12781505899676213, 0.06390752949838106, 0.06390752949838106, 0.6510915953702695, 0.0620087233685971, 0.0620087233685971, 0.15502180842149274, 0.03100436168429855, 0.7831931052313695, 0.7963726325344069, 0.09954657906680087, 0.26115159328607784, 0.054979282797069026, 0.041234462097801766, 0.013744820699267257, 0.17868266909047434, 0.4398342623765522, 0.18912935258759817, 0.034387155015926936, 0.2235165076035251, 0.4986137477309406, 0.034387155015926936, 0.1358626597911303, 0.8151759587467817, 0.8627149433740532, 0.9033669264525517, 0.8944280958366274, 0.07777635615970672, 0.13670151224028762, 0.06835075612014381, 0.6835075612014382, 0.06835075612014381, 0.7516891628063593, 0.16704203617919094, 0.8214569646584255, 0.05177788536932807, 0.7766682805399211, 0.10355577073865614, 0.0762672530127363, 0.4576035180764178, 0.36226945181049747, 0.09533406626592038, 0.24583465356367346, 0.1823934526440158, 0.051545975747221855, 0.12291732678183673, 0.14274270206922976, 0.13877762701175114, 0.04361582563226465, 0.015860300229914418, 0.05551105080470046, 0.8463016697777704, 0.05156761260850053, 0.8766494143445092, 0.1545508575895729, 0.695478859153078, 0.07727542879478645, 0.9071692218419382, 0.136905934563887, 0.016106580536927883, 0.08858619295310335, 0.15301251510081487, 0.11274606375849518, 0.1771723859062067, 0.1771723859062067, 0.008053290268463941, 0.136905934563887, 0.20887108255001113, 0.027849477673334816, 0.4038174262633548, 0.08354843302000445, 0.11139791069333926, 0.041774216510002224, 0.041774216510002224, 0.08354843302000445, 0.8214569924916245, 0.9412566865194958, 0.07240436050149968, 0.06761296788353159, 0.033806483941765796, 0.8789685824859106, 0.9844118502235608, 0.21796635118134078, 0.34511338937045627, 0.052221104970529564, 0.14076993513794925, 0.043139173671307034, 0.09308979581703096, 0.10671269276586476, 0.8131514851645399, 0.09035016501828222, 0.1160815913678737, 0.17412238705181055, 0.06633233792449926, 0.20728855601406018, 0.04974925344337444, 0.008291542240562408, 0.06633233792449926, 0.12437313360843612, 0.1160815913678737, 0.07462388016506166, 0.8149246609321342, 0.12743537393208926, 0.06371768696604463, 0.12743537393208926, 0.6690357131434685, 0.8127132439564638, 0.0903014715507182, 0.8062075064413501, 0.17275875138028932, 0.014455980890304015, 0.07227990445152008, 0.02891196178060803, 0.08673588534182408, 0.1011918662321281, 0.15901578979334416, 0.13010382801273612, 0.14455980890304015, 0.26020765602547224, 0.9054903857079788, 0.11030909908276665, 0.13933780936770523, 0.16836651965264382, 0.07547464674084034, 0.07547464674084034, 0.16836651965264382, 0.0928918729118035, 0.12192058319674208, 0.04644593645590175, 0.8627221094472267, 0.34027099365689895, 0.20015940803346996, 0.44035069767363394, 0.13597189239018326, 0.8158313543410995, 0.8119794077209161, 0.6595725696854031, 0.0581975796781238, 0.07759677290416507, 0.1163951593562476, 0.07759677290416507, 0.9518239212583843, 0.8214569646584255, 0.8147253208226755, 0.6784239346530738, 0.06784239346530739, 0.13568478693061478, 0.06784239346530739, 0.8581822862960468, 0.08756962105061701, 0.0350278484202468, 0.08980457991963775, 0.8082412192767398, 0.08474089819547413, 0.1836052794235273, 0.14123483032579023, 0.1836052794235273, 0.35308707581447557, 0.028246966065158047, 0.014123483032579024, 0.9134835416316062, 0.04179489650501584, 0.6060259993227297, 0.08358979301003168, 0.25076937903009505, 0.02089744825250792, 0.9275219159369675, 0.12732732700465715, 0.8276276255302715, 0.7119490324961809, 0.2738265509600696, 0.9725364869388605, 0.8147253137041673, 0.3325676547470315, 0.11085588491567715, 0.03695196163855905, 0.38799559720487004, 0.12933186573495667, 0.11027949170283219, 0.23893889868946974, 0.03675983056761073, 0.18379915283805365, 0.3675983056761073, 0.055139745851416094, 0.14487571839935007, 0.7968164511964254, 0.9326056602844787, 0.8688340248035425, 0.2168553765536885, 0.016681182811822192, 0.11676827968275534, 0.2168553765536885, 0.016681182811822192, 0.11676827968275534, 0.30026129061279944, 0.807782731695533, 0.1404839533383536, 0.0351209883345884, 0.8908420007355575, 0.8554625472158357, 0.07776932247416689, 0.07776932247416689, 0.8448908799491481, 0.032612442484665584, 0.010870814161555194, 0.3696076814928766, 0.1739330265848831, 0.010870814161555194, 0.22828709739265907, 0.1630622124233279, 0.7598811032410105, 0.10855444332014436, 0.1254430938929524, 0.22997900547041278, 0.10453591157746035, 0.1254430938929524, 0.4181436463098414, 0.8546080142351045, 0.07769163765773678, 0.4873719351969684, 0.055174181343053026, 0.03678278756203535, 0.018391393781017677, 0.13793545335763258, 0.018391393781017677, 0.055174181343053026, 0.1931096347006856, 0.055256552529778076, 0.14735080674607487, 0.055256552529778076, 0.03683770168651872, 0.5341466744545215, 0.055256552529778076, 0.055256552529778076, 0.07367540337303743, 0.942945730665292, 0.6383822200434872, 0.3450714702937768, 0.00862678675734442, 0.16138596003346725, 0.12740996844747415, 0.10192797475797932, 0.10192797475797932, 0.07644598106848449, 0.11891597055097587, 0.06795198317198621, 0.18686795372296208, 0.05096398737898966, 0.3545336142593409, 0.05213729621460895, 0.11470205167213969, 0.04170983697168716, 0.02085491848584358, 0.23983156258720117, 0.07299221470045253, 0.09384713318629612, 0.6368561980500403, 0.11238638789118359, 0.07492425859412238, 0.14984851718824477, 0.7895131545718445, 0.09868914432148056, 0.06883450842936663, 0.034417254214683314, 0.1204603897513916, 0.17208627107341656, 0.13766901685873326, 0.41300705057619974, 0.034417254214683314, 0.9311066186477894, 0.9238531627024672, 0.7945554866790197, 0.07223231697081997, 0.07223231697081997, 0.04532608827631313, 0.9367391577104714, 0.01510869609210438, 0.12845357312954472, 0.028545238473232162, 0.08563571541969649, 0.17127143083939297, 0.014272619236616081, 0.028545238473232162, 0.12845357312954472, 0.28545238473232165, 0.12845357312954472, 0.8147253208226306, 0.9066612195964898, 0.08727965506704913, 0.30547879273467193, 0.06545974130028684, 0.4800381028687702, 0.06545974130028684, 0.9018556057713847, 0.27898444826495056, 0.06974611206623764, 0.6277150085961387, 0.68656353717989, 0.06780874441282865, 0.05933265136122507, 0.11018920967084656, 0.07628483746443224, 0.9326057466471706, 0.48906059306661326, 0.15283143533331664, 0.09169886119998999, 0.24453029653330663, 0.07502112351444674, 0.22506337054334022, 0.6751901116300206, 0.14688424106923614, 0.058753696427694464, 0.7637980535600281, 0.08357685367221002, 0.8357685367221002, 0.774420419266179, 0.1548840838532358, 0.054237209111758576, 0.16271162733527572, 0.054237209111758576, 0.10847441822351715, 0.5966093002293443, 0.869036843881584, 0.6138365838890827, 0.11957855530306805, 0.15943807373742405, 0.06377522949496962, 0.03985951843435601, 0.8673065381632347, 0.15515084342502078, 0.10343389561668052, 0.6723203215084234, 0.1386903585564036, 0.08759391066720228, 0.04379695533360114, 0.22628426922360587, 0.1459898511120038, 0.16058883622320416, 0.18978680644560492, 0.8776604394682763, 0.6260907207591395, 0.1252181441518279, 0.2504362883036558, 0.18867678128318632, 0.11610878848196081, 0.4063807596868628, 0.11610878848196081, 0.15964958416269612, 0.1468806461228301, 0.11750451689826409, 0.2790732276333772, 0.058752258449132046, 0.058752258449132046, 0.029376129224566023, 0.044064193836849036, 0.2643851630210942, 0.8703425757952651, 0.951823925980972, 0.9232485196173713, 0.7620633372610516, 0.10886619103729307, 0.932231884851576, 0.051790660269531996, 0.9794582398847774, 0.8659133625946013, 0.8673065599383822, 0.8455100761473996, 0.12078715373534281, 0.1975125390662368, 0.5925376171987103, 0.0987562695331184, 0.0987562695331184, 0.32495853144252485, 0.2041406159062015, 0.13331632059180507, 0.024996810110963448, 0.1499808606657807, 0.12498405055481725, 0.016664540073975633, 0.016664540073975633, 0.07234179816854445, 0.04340507890112667, 0.08681015780225335, 0.20255703487192447, 0.07234179816854445, 0.11574687706967113, 0.2893671926741778, 0.11574687706967113, 0.8460834201732711, 0.05324622571497302, 0.11714169657294064, 0.06389547085796762, 0.12779094171593525, 0.2236341480028867, 0.2875296188608543, 0.08519396114395683, 0.03194773542898381, 0.01845681824639721, 0.22148181895676652, 0.1476545459711777, 0.44296363791353305, 0.1476545459711777, 0.03691363649279442, 0.0694551776428863, 0.09260690352384841, 0.04630345176192421, 0.5324896952621284, 0.04630345176192421, 0.11575862940481052, 0.04630345176192421, 0.04630345176192421, 0.7249182914766428, 0.12081971524610711, 0.12081971524610711, 0.9064420571240619, 0.8165911258499884, 0.13609852097499806, 0.15493213013655469, 0.11619909760241601, 0.11619909760241601, 0.11619909760241601, 0.09683258133534668, 0.019366516267069336, 0.34859729280724805, 0.5959576629152056, 0.10516899933797745, 0.1402253324506366, 0.0701126662253183, 0.0701126662253183, 0.2351216901113299, 0.17634126758349744, 0.1469510563195812, 0.44085316895874355, 0.13777111867877895, 0.13777111867877895, 0.04592370622625965, 0.04592370622625965, 0.22961853113129824, 0.39800545396091697, 0.8214569941278964, 0.07760770914360218, 0.15521541828720437, 0.6984693822924197, 0.06768670846038653, 0.09024894461384872, 0.06768670846038653, 0.02256223615346218, 0.22562236153462178, 0.06768670846038653, 0.4286824869157814, 0.04211453102122165, 0.7720997353890636, 0.0842290620424433, 0.04211453102122165, 0.056152708028295535, 0.8703426244274601, 0.9050242057976599, 0.9502606815188357, 0.8890423849789776, 0.10578517308667021, 0.10578517308667021, 0.026446293271667552, 0.052892586543335104, 0.10578517308667021, 0.4495869856183484, 0.13223146635833777, 0.8701406449710628, 0.07294089245084254, 0.07294089245084254, 0.6564680320575828, 0.07294089245084254, 0.07294089245084254, 0.9511460867604586, 0.9033669472694066, 0.7588951949142201, 0.10841359927346002, 0.7330976150522422, 0.06374761870019498, 0.047810714025146236, 0.06374761870019498, 0.09562142805029247, 0.8701406668699875, 0.950503304596458, 0.23549404363241686, 0.7535809396237338, 0.869036811362347, 0.12335556139213308, 0.04111852046404436, 0.2981092733643216, 0.14391482162415525, 0.06167778069606654, 0.13363519150814415, 0.04111852046404436, 0.04111852046404436, 0.12335556139213308, 0.04110605128946292, 0.08221210257892583, 0.2774658462038747, 0.030829538467097187, 0.0719355897565601, 0.1438711795131202, 0.22608328209204603, 0.12331815386838875, 0.13686509068691594, 0.8211905441214956, 0.6721690690664425, 0.10341062601022193, 0.10341062601022193, 0.05170531300511096, 0.2908457047287949, 0.03877942729717265, 0.019389713648586326, 0.11633828189151796, 0.3684045593231402, 0.05816914094575898, 0.0775588545943453, 0.869036842044636, 0.8659133789366764, 0.8145470518459781, 0.1368651025731163, 0.8211906154386978, 0.39399371057146937, 0.13789779870001428, 0.039399371057146935, 0.4333930816286163, 0.17982205923509995, 0.7192882369403998, 0.10354966189126545, 0.051774830945632726, 0.051774830945632726, 0.25887415472816366, 0.4918608939835109, 0.08369133497400456, 0.8369133497400456, 0.07240069618312737, 0.0779699805049064, 0.1559399610098128, 0.11138568643558057, 0.3118799220196256, 0.08353926482668543, 0.18378638261870794, 0.8703426328759076, 0.47536047597542963, 0.05093147956879603, 0.016977159856265345, 0.06790863942506138, 0.06790863942506138, 0.20372591827518413, 0.11884011899385741, 0.9656956297387107, 0.07959121789222186, 0.049744511182638666, 0.06964231565569413, 0.16913133802097147, 0.10943792460180506, 0.09948902236527733, 0.06964231565569413, 0.0298467067095832, 0.31836487156888743, 0.7653938745232514, 0.19134846863081284, 0.1931325646448013, 0.07242471174180048, 0.048283141161200326, 0.16899099406420115, 0.43454827045080296, 0.07242471174180048, 0.5061399664477475, 0.07381207844029651, 0.021089165268656146, 0.1159904089776088, 0.284703731126858, 0.1975898407264989, 0.11855390443589935, 0.250280464920232, 0.02634531209686652, 0.07903593629059956, 0.04829973884425529, 0.14050833118328812, 0.11855390443589935, 0.02634531209686652, 0.9311066186477894, 0.014940613893105793, 0.05976245557242317, 0.4033965751138564, 0.04482184167931738, 0.08964368335863476, 0.11952491114484634, 0.11952491114484634, 0.11952491114484634, 0.029881227786211585, 0.3763864791260127, 0.17564702359213924, 0.03136553992716772, 0.08155040381063608, 0.08155040381063608, 0.06273107985433544, 0.07527729582520254, 0.06900418783976899, 0.04391175589803481, 0.933143230088413, 0.15126755949858736, 0.056725334811970264, 0.01890844493732342, 0.1701760044359108, 0.25526400665386617, 0.2836266740598513, 0.01890844493732342, 0.01890844493732342, 0.028362667405985132, 0.8659133470455932, 0.2178081803530777, 0.043561636070615535, 0.7405478132004641, 0.8673065465887558, 0.2705531451622266, 0.7034381774217893, 0.07550080048131777, 0.12196283154674407, 0.12777058542992237, 0.01161550776635658, 0.18584812426170527, 0.06969304659813948, 0.040654277182248025, 0.09873181601403093, 0.09292406213085264, 0.1684248626121704, 0.7231393629095904, 0.07231393629095903, 0.07231393629095903, 0.07231393629095903, 0.1543732195781498, 0.14529244195590568, 0.2996656615340555, 0.03632311048897642, 0.1543732195781498, 0.02724233286673232, 0.18161555244488212, 0.01816155524448821, 0.19111028508019948, 0.0637034283600665, 0.7007377119607314, 0.7820336075166344, 0.07820336075166344, 0.07820336075166344, 0.03874347706491826, 0.20663187767956406, 0.025828984709945508, 0.29703332416437334, 0.42617824771410084, 0.8627149314397364, 0.9313669822671883, 0.06381090416678355, 0.1595272604169589, 0.06381090416678355, 0.03190545208339177, 0.06381090416678355, 0.6062035895844438, 0.8703426228458253, 0.28411891767099273, 0.10482057156793907, 0.07999464672290087, 0.13792180469465667, 0.14068024078854982, 0.04413497750229014, 0.024825924845038202, 0.12412962422519101, 0.03861810531450387, 0.019309052657251934, 0.09063722163478387, 0.5740357370202979, 0.3021240721159462, 0.17709991563787025, 0.04194471686160085, 0.37284192765867424, 0.11185257829760227, 0.1165131023933357, 0.04660524095733428, 0.06058681324453456, 0.06990786143600142, 0.1727439640799666, 0.1016140965176274, 0.1016140965176274, 0.09145268686586466, 0.1016140965176274, 0.08129127721410191, 0.08129127721410191, 0.22355101233878028, 0.040645638607050956, 0.20400188488796653, 0.30192278963419045, 0.09792090474622393, 0.07344067855966796, 0.12240113093277992, 0.12240113093277992, 0.08160075395518661, 0.3208262997684199, 0.4455920830116944, 0.03564736664093555, 0.16041314988420996, 0.017823683320467774, 0.6621291555840794, 0.30096779799276335, 0.8767000461544998, 0.8434934658733562, 0.12049906655333659, 0.9064420567979659, 0.523307059420072, 0.0387634858829683, 0.0775269717659366, 0.2907261441222623, 0.0387634858829683, 0.01938174294148415, 0.9098606391157287, 0.05870068639456314, 0.8708107262712698, 0.020144164697455592, 0.8863432466880461, 0.08057665878982237, 0.5166945537052948, 0.18453376918046244, 0.16977106764602543, 0.08857620920662197, 0.044288104603310986, 0.8673065461035688, 0.8670837720535552, 0.8766989024599627, 0.14499788137157904, 0.7249894068578951, 0.07249894068578952, 0.8703426294165214, 0.2511389369540756, 0.1255694684770378, 0.627847342385189, 0.8091663704385209, 0.8690368270742378, 0.8361368041424142, 0.08361368041424141, 0.8977006551209462, 0.7966309764418011, 0.1810524946458639, 0.8692636630947272, 0.11699646532654333, 0.4679858613061733, 0.06685512304373904, 0.20056536913121714, 0.11699646532654333, 0.03342756152186952, 0.9804385822999391, 0.9809367133809958, 0.08361652189613424, 0.18813717426630205, 0.5016991313768054, 0.04180826094806712, 0.16723304379226847, 0.8692636471857605, 0.6428108554075384, 0.14834096663250884, 0.04944698887750295, 0.0988939777550059, 0.1413851679222752, 0.07613047503507127, 0.16313673221800987, 0.369776593027489, 0.10875782147867324, 0.021751564295734646, 0.06525469288720394, 0.021751564295734646, 0.04350312859146929, 0.620075849639231, 0.15501896240980775, 0.20669194987974368, 0.050135998237244184, 0.11280599603379941, 0.5013599823724418, 0.08773799691517732, 0.050135998237244184, 0.025067999118622092, 0.16294199427104358, 0.06220157238484583, 0.3421086481166521, 0.373209434309075, 0.031100786192422916, 0.16172408820059916, 0.024880628953938333, 0.8708106931123943, 0.75629166244764, 0.23828367446980436, 0.865913334860997, 0.8659133805427537, 0.9205117309863121, 0.12083142120219463, 0.08055428080146308, 0.04027714040073154, 0.7249885272131678, 0.8214569952217716, 0.8451358868861367, 0.16726066109179216, 0.7526729749130647, 0.06012550511525331, 0.09018825767287997, 0.09018825767287997, 0.18037651534575994, 0.09018825767287997, 0.4810040409220265, 0.9054903797125166, 0.9071692072427501, 0.24712973592808618, 0.6919632605986413, 0.049425947185617235, 0.21713927393860213, 0.7237975797953404, 0.8619261295349429, 0.028649341598302493, 0.32469253811409493, 0.03819912213106999, 0.4106405629090024, 0.07639824426213998, 0.11459736639320997, 0.9066612307826213, 0.9052442730153826, 0.7988159981197334, 0.17117485673994287, 0.7899135595529347, 0.09873919494411684, 0.16708010658351716, 0.08354005329175858, 0.08354005329175858, 0.12531007993763787, 0.4177002664587929, 0.12531007993763787, 0.905024203991662, 0.8430221698268309, 0.8708107323108638, 0.8673065553333594, 0.9126614128855529, 0.0729321346766886, 0.729321346766886, 0.1458642693533772, 0.10884302760091447, 0.7619011932064013, 0.06785889764709334, 0.81430677176512, 0.06785889764709334, 0.19210438596310195, 0.06723653508708569, 0.15368350877048156, 0.10565741227970608, 0.297761798242808, 0.17289394736679176, 0.07762842694052352, 0.8539126963457587, 0.4028013997266827, 0.026853426648445516, 0.06713356662111379, 0.4699349663477965, 0.026853426648445516, 0.814750336957679, 0.13579172282627983, 0.10826828109241622, 0.7578779676469136, 0.7771387295512048, 0.6845843763941318, 0.13691687527882634, 0.8701317404721265, 0.18089920054773415, 0.13567440041080062, 0.587922401780136, 0.045224800136933536, 0.46901794535994745, 0.17420666541940905, 0.13400512724569927, 0.09380358907198949, 0.12060461452112935, 0.6690798141526533, 0.1824763129507236, 0.060825437650241204, 0.048187757428297597, 0.024093878714148798, 0.09637551485659519, 0.5059714529971248, 0.1445632722848928, 0.16865715099904158, 0.8885511072590377, 0.09517180686750955, 0.3806872274700382, 0.03806872274700382, 0.009517180686750955, 0.19986079442177004, 0.05710308412050573, 0.15227489098801528, 0.06662026480725668, 0.7244681372261264, 0.1811170343065316, 0.7996359339094236, 0.17135055726630505, 0.7240631648563253, 0.12067719414272088, 0.8899949103150324, 0.09888832336833694, 0.9375011519505055, 0.8451358970436925, 0.8703426306189905, 0.1139406332893443, 0.36318576860978496, 0.27773029364277674, 0.12106192286992833, 0.03560644790292009, 0.09257676454759224, 0.10861967858177383, 0.07241311905451589, 0.07241311905451589, 0.5793049524361271, 0.14482623810903178, 0.12873618813699803, 0.06436809406849901, 0.7080490347534891, 0.06436809406849901, 0.9071692082038432, 0.14519715227951538, 0.7985843375373346, 0.036299288069878845, 0.1235115900680554, 0.09880927205444433, 0.617557950340277, 0.049404636027222164, 0.07410695404083324, 0.26716440448647316, 0.5152456372239125, 0.11449903049420278, 0.11449903049420278, 0.8767001566416167, 0.15487517174906518, 0.08850009814232296, 0.1106251226779037, 0.04425004907116148, 0.2212502453558074, 0.3982504416404533, 0.932501025026763, 0.8214569668884231, 0.8214569751497133, 0.1359768762328172, 0.23116068959578923, 0.17676993910266237, 0.04079306286984516, 0.07478728192804945, 0.0679884381164086, 0.0679884381164086, 0.09518381336297203, 0.0679884381164086, 0.027195375246563437, 0.06576439350866432, 0.06576439350866432, 0.06576439350866432, 0.2630575740346573, 0.5261151480693146, 0.11280569361891633, 0.19270972659898206, 0.0705035585118227, 0.12690640532128086, 0.10810545638479482, 0.0329016606388506, 0.03760189787297211, 0.11280569361891633, 0.08460427021418725, 0.12690640532128086, 0.027200550890556393, 0.027200550890556393, 0.09520192811694737, 0.16320330534333835, 0.09520192811694737, 0.5848118441469624, 0.04526096911358912, 0.6789145367038368, 0.13578290734076737, 0.13578290734076737, 0.16127706546109638, 0.27162453130289915, 0.042441333016078, 0.16127706546109638, 0.0763943994289404, 0.1443005322546652, 0.05941786622250919, 0.0763943994289404, 0.025464799809646797, 0.8659133573834255, 0.058772990533730286, 0.13223922870089314, 0.11754598106746057, 0.22774533831820484, 0.19835884305133972, 0.11754598106746057, 0.1469324763343257, 0.9050241643025925, 0.11989622993154456, 0.7193773795892673, 0.8692636079133873, 0.08584276464160226, 0.3188445543830941, 0.06744788650411607, 0.0735795125499448, 0.04292138232080113, 0.04292138232080113, 0.10423764277908847, 0.0551846344124586, 0.06131626045828733, 0.15329065114571833, 0.19241137462682906, 0.609302686318292, 0.09620568731341453, 0.09620568731341453, 0.7728548867293632, 0.06440457389411361, 0.12880914778822722, 0.19749216368111613, 0.049373040920279034, 0.06171630115034879, 0.6912225728839064, 0.1800709209729773, 0.13505319072973299, 0.09003546048648865, 0.6302482234054206, 0.8673065413398049, 0.6804109227048377, 0.0648010402576036, 0.09720156038640539, 0.09720156038640539, 0.0648010402576036, 0.10325094435909153, 0.11671845884071216, 0.06284840091422964, 0.10774011585296507, 0.03591337195098836, 0.23792608917529787, 0.01795668597549418, 0.15712100228557407, 0.07631591539585027, 0.0808050868897238, 0.20087754292068383, 0.6026326287620515, 0.16070203433654706, 0.0009485048108642845, 0.14037871200791413, 0.31774911163953534, 0.05216776459753565, 0.13184216871013557, 0.05406477421926422, 0.0739833752474142, 0.12425413022322128, 0.05501327903012851, 0.0493222501649428, 0.9429457958305845, 0.09057712073978588, 0.09057712073978588, 0.7246169659182871, 0.5037153027542002, 0.09686832745273082, 0.058120996471638486, 0.09686832745273082, 0.2518576513771001, 0.9050242004263709, 0.8214569937384653, 0.8214569851303618, 0.9502606949734449, 0.06400607096827475, 0.06400607096827475, 0.768072851619297, 0.08538366015714748, 0.490956045903598, 0.3415346406285899, 0.0640377451178606, 0.7529069343471658, 0.04182816301928699, 0.08365632603857398, 0.08365632603857398, 0.8692636460500115, 0.31484022440701864, 0.026236685367251555, 0.3410769097742702, 0.09182839878538045, 0.07871005610175466, 0.013118342683625777, 0.06559171341812889, 0.05247337073450311, 0.2540720769362862, 0.1524432461617717, 0.06775255384967632, 0.0846906923120954, 0.423453461560477, 0.8673002662016851, 0.07227502218347376, 0.8692636470316822, 0.8443056435416546, 0.12061509193452209, 0.3138035970546951, 0.24207706058505052, 0.026897451176116725, 0.04482908529352787, 0.05379490235223345, 0.1793163411741115, 0.05379490235223345, 0.08069235352835016, 0.6551146241325813, 0.04094466400828633, 0.061416996012429496, 0.04094466400828633, 0.14330632402900215, 0.061416996012429496, 0.9071692080521456, 0.2327215719095692, 0.0581803929773923, 0.5527137332852269, 0.14545098244348076, 0.867306556515867, 0.09069306880814493, 0.22673267202036235, 0.5290429013808454, 0.07557755734012078, 0.07557755734012078, 0.7769256411388153, 0.1857915685166562, 0.22560404748451113, 0.38485396335593075, 0.053083305290473205, 0.039812478967854906, 0.0928957842583281, 0.8703426208532515, 0.22709342307975355, 0.05046520512883412, 0.05046520512883412, 0.5046520512883412, 0.15139561538650237, 0.869263645061429, 0.3558876296236006, 0.030504653967737196, 0.26437366772038906, 0.08134574391396586, 0.14235505184944025, 0.0915139619032116, 0.030504653967737196, 0.9238531702436773, 0.25287121576840194, 0.07263322155049844, 0.06994310223381331, 0.09953441471734971, 0.08070357950055382, 0.2501810964517168, 0.13719608515094148, 0.026901193166851273, 0.010760477266740509, 0.8410852333392387, 0.12015503333417694, 0.8659133407031335, 0.06019931745864498, 0.06019931745864498, 0.2407972698345799, 0.6019931745864497, 0.0724669497689696, 0.06858479174563195, 0.2471640608191642, 0.010352421395567087, 0.06599668639674018, 0.01552863209335063, 0.28210348302920313, 0.046585896280051886, 0.1915197958179911, 0.15735329191740371, 0.05245109730580124, 0.10490219461160248, 0.06556387163225155, 0.06556387163225155, 0.550736521710913, 0.9054903637841508, 0.8147462320100701, 0.13579103866834502, 0.6383758852217264, 0.06383758852217264, 0.28726914834977685, 0.12100104146147218, 0.7865067694995691, 0.06050052073073609, 0.005501588419652077, 0.4511302504114703, 0.3355968935987767, 0.038511118937564544, 0.035760324727738504, 0.07427144366530304, 0.05776667840634681, 0.8703426182412362, 0.8147503358753957, 0.13579172264589928, 0.0404637700218405, 0.10404969434187557, 0.16763561866191062, 0.44510147024024543, 0.13295238721461877, 0.0693664628945837, 0.03468323144729185, 0.9243326716738967, 0.8766074751169913, 0.8688340119605089, 0.2638351366157596, 0.052767027323151916, 0.29549535300965074, 0.2005147038279773, 0.08442724371704306, 0.052767027323151916, 0.052767027323151916, 0.11795653312117214, 0.0786376887474481, 0.09174397020535612, 0.06553140728954009, 0.4849324139425966, 0.06553140728954009, 0.026212562915816032, 0.0786376887474481, 0.09075592928632034, 0.8168033635768831, 0.483664891757471, 0.13590583735333897, 0.16788368143647753, 0.003997230510392322, 0.10392799327020039, 0.027980613572746258, 0.0719501491870618, 0.6794638903349631, 0.0754959878149959, 0.03774799390749795, 0.18873996953748975, 0.01343757698717859, 0.18812607782050025, 0.28218911673075037, 0.040312730961535766, 0.08062546192307153, 0.09406303891025013, 0.295626693717929, 0.8119794077208818, 0.2416308055719111, 0.060407701392977776, 0.6644847153227555, 0.7244997110887093, 0.9066612383870851, 0.8690368394102514, 0.9467679888011497, 0.05171318038602255, 0.7239845254043157, 0.15513954115806766, 0.05171318038602255, 0.8701406570671462, 0.8091663570384139, 0.9135624804038225, 0.23696030594430936, 0.6160967954552043, 0.04739206118886187, 0.04739206118886187, 0.8688340721658833, 0.3751403812018996, 0.18357933548178063, 0.0638536819067063, 0.18357933548178063, 0.10376223309839774, 0.015963420476676576, 0.03192684095335315, 0.03990855119169144, 0.9791781881628185, 0.765001245601315, 0.08052644690540157, 0.12078967035810236, 0.10880978212346654, 0.13601222765433316, 0.4896440195555994, 0.19041711871606642, 0.0816073365925999, 0.8149246571137811, 0.9328416994304966, 0.05182453885724981, 0.7745192076031234, 0.06196153660824987, 0.15490384152062467, 0.9577911547185778, 0.7916633971556352, 0.0989579246444544, 0.12111556940455971, 0.847808985831918, 0.09879224045943195, 0.09879224045943195, 0.6915456832160237, 0.24946802946040428, 0.09701534479015722, 0.20096035706532567, 0.13166368221521338, 0.090085677305146, 0.06236700736510107, 0.06236700736510107, 0.09701534479015722, 0.8659133899604706, 0.69728436163367, 0.11621406027227833, 0.1549520803630378, 0.6375248939224356, 0.18750732174189283, 0.15000585739351427, 0.10942269785537037, 0.04973758993425926, 0.13926525181592592, 0.2287929136975926, 0.04973758993425926, 0.3680581655135185, 0.04973758993425926, 0.9191644709802549, 0.06652445211980106, 0.15522372161286913, 0.022174817373267017, 0.022174817373267017, 0.22174817373267017, 0.44349634746534033, 0.06652445211980106, 0.8983867118185559, 0.8659133671527918, 0.8908420007355303, 0.16393408475972276, 0.07451549307260126, 0.059612394458081, 0.119224788916162, 0.43218985982108726, 0.119224788916162, 0.0298061972290405, 0.6274719066254907, 0.2091573022084969, 0.16732584176679752, 0.8627149314958679, 0.8688340364843535, 0.6966851039983646, 0.09952644342833779, 0.09952644342833779, 0.9033669733129505, 0.09711998254151075, 0.0776959860332086, 0.0776959860332086, 0.17481596857471934, 0.13596797555811505, 0.388479930166043, 0.05827198952490645, 0.8690368156593543, 0.48565841179006697, 0.0971316823580134, 0.21045197844236235, 0.06475445490534226, 0.0485658411790067, 0.03237722745267113, 0.08094306863167783, 0.6895159523408795, 0.1622390476096187, 0.12167928570721402, 0.8887798702288215, 0.7916985345929115, 0.09896231682411394, 0.19182643240317152, 0.127884288268781, 0.5754792972095145, 0.0639421441343905, 0.03197107206719525, 0.9052643944151186, 0.06035095962767458, 0.19804794601946044, 0.43853473761451955, 0.2404867915950591, 0.11317025486826311, 0.09861984672659092, 0.09861984672659092, 0.4930992336329546, 0.29585954017977273, 0.04728604928384707, 0.04728604928384707, 0.7565767885415531, 0.04728604928384707, 0.04728604928384707, 0.8692636328616351, 0.20500640971677808, 0.20500640971677808, 0.5564459692312548, 0.09863788609691887, 0.07397841457268915, 0.5671678450572835, 0.19727577219383774, 0.049318943048459435, 0.7227920434146669, 0.12046534056911114, 0.04494427922955189, 0.08988855845910378, 0.08988855845910378, 0.7640527469023821, 0.2577717833663625, 0.6702066367525424, 0.051554356673272496, 0.8659133799162286, 0.8119794077201956, 0.869263642676836, 0.8627149107129582, 0.8673065436325529, 0.10536906619970104, 0.7375834633979074, 0.14049208826626808, 0.040282225275475876, 0.07049389423208278, 0.17119945742077247, 0.03021166895660691, 0.41289280907362774, 0.07049389423208278, 0.05035278159434485, 0.15105834478303454, 0.19772417269868728, 0.6920346044454055, 0.660422820144883, 0.3302114100724415, 0.5814776892632896, 0.026430804057422253, 0.10572321622968901, 0.2643080405742225, 0.9324742511416926, 0.8467442626645563, 0.1209634660949366, 0.9018556288146169, 0.8708107055067537, 0.09033822024525612, 0.15056370040876021, 0.18067644049051224, 0.5721420615532887, 0.09448982474472754, 0.5905614046545471, 0.11811228093090943, 0.09448982474472754, 0.04724491237236377, 0.04724491237236377, 0.059535774042093675, 0.10418760457366394, 0.10418760457366394, 0.13395549159471076, 0.04465183053157026, 0.059535774042093675, 0.014883943510523419, 0.3125628137209918, 0.059535774042093675, 0.11907154808418735, 0.1006474813301328, 0.16103597012821247, 0.37239568092149133, 0.12077697759615935, 0.1509712219951992, 0.09058273319711951, 0.8673065393098917, 0.2301018086966548, 0.20709162782698934, 0.06903054260899644, 0.02301018086966548, 0.4371934365236441, 0.870140707182904, 0.9066612322217013, 0.8690368631082619, 0.957791145390447, 0.0905877919367979, 0.0905877919367979, 0.7247023354943832, 0.9066612240654571, 0.09855292330663946, 0.09855292330663946, 0.6898704631464763, 0.1293885058720632, 0.0776331035232379, 0.10351080469765055, 0.10351080469765055, 0.5951871270114907, 0.06957194741340816, 0.28988311422253404, 0.08116727198230954, 0.49859895646275854, 0.05797662284450681, 0.8147253356111597, 0.25599013647396474, 0.3743049054325199, 0.10325652563655721, 0.019360598556854475, 0.10110534801912893, 0.004302355234856551, 0.05377944043570688, 0.051628262818278606, 0.03657001949628068, 0.12081422462647755, 0.8456995723853429, 0.8767001370261235, 0.17030404190913082, 0.7947521955759439, 0.12096798670080233, 0.10080665558400194, 0.48387194680320933, 0.060483993350401166, 0.1411293178176027, 0.060483993350401166, 0.020161331116800386, 0.9054903589327574, 0.07651146405828306, 0.1224183424932529, 0.045906878434969836, 0.030604585623313224, 0.41316190591472857, 0.09181375686993967, 0.09181375686993967, 0.09181375686993967, 0.045906878434969836, 0.9323738468348493, 0.903366949696484, 0.10396060333183327, 0.2835289181777271, 0.08505867545331813, 0.02835289181777271, 0.11341156727109084, 0.1890192787851514, 0.0945096393925757, 0.02835289181777271, 0.06615674757480298, 0.870810716380525, 0.8708107243330473, 0.6246016733993645, 0.1643688614208854, 0.0821844307104427, 0.0821844307104427, 0.03287377228417708, 0.9502606731250871, 0.02859189909867098, 0.6004298810720906, 0.1715513945920259, 0.1715513945920259, 0.8708107181198687, 0.9507728561423784, 0.7236401873759422, 0.18091004684398554, 0.14486639166379844, 0.5613572676972189, 0.054324896873924416, 0.07243319583189922, 0.03621659791594961, 0.12675809270582364, 0.18211783836082718, 0.1942590275848823, 0.0667765407323033, 0.08498832456838602, 0.04856475689622058, 0.09712951379244116, 0.10320010840446874, 0.13962367607663417, 0.060705946120275724, 0.01821178383608272, 0.08360785316604918, 0.16721570633209837, 0.6688628253283935, 0.2672880840573077, 0.07759976633921836, 0.24142149527756823, 0.21555490649782877, 0.15519953267843672, 0.043110981299565754, 0.8708107274585482, 0.8983866851945969, 0.7765225454078203, 0.15530450908156407, 0.8708107179880623, 0.09019848115943002, 0.8117863304348703, 0.05574001870808009, 0.7246202432050411, 0.1950900654782803, 0.1187800086547964, 0.009136923742676646, 0.2741077122802994, 0.3380661784790359, 0.10964308491211976, 0.06395846619873652, 0.03654769497070658, 0.03654769497070658, 0.009136923742676646, 0.24537049274923833, 0.10515878260681642, 0.035052927535605474, 0.5257939130340822, 0.035052927535605474, 0.17405631454884526, 0.08702815727442263, 0.6962252581953811, 0.4635345408526932, 0.05794181760658665, 0.0724272720082333, 0.26073817922963993, 0.1158836352131733, 0.028970908803293324, 0.17217594241831652, 0.7460957504793716, 0.057391980806105504, 0.8701406635183612, 0.7304866996941168, 0.1826216749235292, 0.7168136276155244, 0.09887084518834818, 0.09887084518834818, 0.07415313389126113, 0.8690368418688814, 0.28991795876178633, 0.09059936211305823, 0.09059936211305823, 0.39863719329745617, 0.07247948969044658, 0.07247948969044658, 0.9050242041067014, 0.7300459356201108, 0.12167432260335179, 0.17370694637271514, 0.3947885144834435, 0.0789577028966887, 0.03158308115867548, 0.12633232463470193, 0.06316616231735096, 0.11054078405536417, 0.10074785975130217, 0.1208974317015626, 0.5843375865575526, 0.08059828780104174, 0.10074785975130217, 0.8708107185107996, 0.8659133593575097, 0.28063695178945913, 0.07242243917147333, 0.4073762203395374, 0.07242243917147333, 0.09052804896434165, 0.07242243917147333, 0.906661226562318, 0.08992933140270047, 0.8093639826243043, 0.9066612238315691, 0.07004903817082148, 0.665465862622804, 0.03502451908541074, 0.14009807634164295, 0.07004903817082148, 0.7907204618835979, 0.09884005773544974, 0.1269154723261194, 0.1269154723261194, 0.6980350977936568, 0.9308737917803023, 0.9054903780694532, 0.814725321604603, 0.7917686589630332, 0.09897108237037915, 0.8430221849754502, 0.8673065671525139, 0.9331432011053572, 0.8701406549569165, 0.24990113642427272, 0.6664030304647273, 0.4403481103740651, 0.07339135172901086, 0.16146097380382388, 0.16146097380382388, 0.14678270345802172, 0.8690368805398028, 0.8144748435038525, 0.03878451635732631, 0.07756903271465262, 0.03878451635732631, 0.906661238590752, 0.09576958268639346, 0.25538555383038253, 0.12769277691519126, 0.5107711076607651, 0.17111365369150106, 0.5528287273110034, 0.026325177491000162, 0.1447884762005009, 0.052650354982000325, 0.026325177491000162, 0.9311066043767201, 0.12087610072463902, 0.8461327050724731, 0.950774606639179, 0.051484599110263166, 0.746526687098816, 0.1544537973307895, 0.018172848155560938, 0.16355563340004842, 0.6905682299113156, 0.10903708893336563, 0.14665045287653922, 0.09427529113491807, 0.29330090575307843, 0.1676005175731877, 0.08380025878659385, 0.12570038817989077, 0.07332522643826961, 0.020950064696648462, 0.8703426234358637, 0.1552196023297738, 0.13452365535247063, 0.12417568186381905, 0.031043920465954764, 0.015521960232977382, 0.03621790721028056, 0.37252704559145716, 0.07243581442056111, 0.05691385418758373, 0.07774569544156798, 0.7774569544156799, 0.07774569544156798, 0.8767001412809542, 0.10097750307703973, 0.025244375769259933, 0.1514662546155596, 0.050488751538519866, 0.5301318911544586, 0.050488751538519866, 0.10097750307703973, 0.9238531462966834, 0.21566044091175576, 0.11535325909233447, 0.20061436363884255, 0.03510751363679745, 0.1253839772742766, 0.015046077272913192, 0.1253839772742766, 0.1404300545471898, 0.015046077272913192, 0.010030718181942127, 0.8767001337155134, 0.8214570076114711, 0.9018556607464457, 0.13513968055714906, 0.13513968055714906, 0.7207449629714616, 0.9794435624365557, 0.09623523884250779, 0.14435285826376168, 0.024058809710626947, 0.3127645262381503, 0.024058809710626947, 0.38494095537003115, 0.8139842514945723, 0.13566404191576206, 0.9414464701910767, 0.7912162650239235, 0.09890203312799044, 0.867306545160404, 0.22537572523727664, 0.0866829712451064, 0.1907025367392341, 0.36984734397912067, 0.07512524174575888, 0.05200978274706384, 0.04522391837450811, 0.6331348572431135, 0.09044783674901621, 0.22611959187254055, 0.9047691834331935, 0.0603179455622129, 0.7615685373570756, 0.10879550533672509, 0.08362221640364652, 0.08362221640364652, 0.384662195456774, 0.4348355252989619, 0.8673065620429143, 0.9429457093336204, 0.791240644189856, 0.098905080523732, 0.3204048657998894, 0.6116820165270616, 0.05825543014543444, 0.8688339839978203, 0.10791963888977642, 0.05395981944488821, 0.10791963888977642, 0.7014776527835467, 0.8673065746892318, 0.4442460572281812, 0.11517490372582476, 0.07404100953803021, 0.1316284614009426, 0.016453557675117823, 0.1316284614009426, 0.008226778837558912, 0.07404100953803021, 0.0770109591008135, 0.14632082229154564, 0.14632082229154564, 0.10011424683105755, 0.05390767137056945, 0.05390767137056945, 0.10011424683105755, 0.1848263018419524, 0.1386197263814643, 0.12437408579747529, 0.12437408579747529, 0.5596833860886388, 0.062187042898737645, 0.09328056434810647, 0.1941922054419817, 0.09709610272099085, 0.563157395781747, 0.09709610272099085, 0.03883844108839634, 0.634380638187446, 0.1409734751527658, 0.03524336878819145, 0.1409734751527658, 0.9052442998540836, 0.1712751338968064, 0.15496321638282484, 0.23652280395273265, 0.0856375669484032, 0.16311917513981564, 0.06932564943442164, 0.05301373192044008, 0.05301373192044008, 0.008155958756990782, 0.8708107500765335, 0.15125633337612282, 0.0648241428754812, 0.0648241428754812, 0.6914575240051329, 0.28584154089671804, 0.6860196981521234, 0.7284761296051109, 0.18211903240127772, 0.06746953195618806, 0.13493906391237612, 0.7421648515180687, 0.14385150245040956, 0.07192575122520478, 0.7192575122520478, 0.8214486695791237, 0.1369081115965206, 0.03660214173215283, 0.1372580314955731, 0.2562149921250698, 0.10065588976342028, 0.018301070866076415, 0.14640856692861132, 0.17386017322772596, 0.07320428346430566, 0.054903212598229244, 0.13577547177347035, 0.48879169838449327, 0.10862037741877628, 0.16293056612816442, 0.10862037741877628, 0.08758790243718859, 0.2950329345252668, 0.19822525288416362, 0.09219779203914588, 0.018439558407829175, 0.1382966880587188, 0.0737582336313167, 0.004609889601957294, 0.004609889601957294, 0.08758790243718859, 0.10783849589184093, 0.8627079671347274, 0.8462731524028202, 0.867306560063022, 0.809166362474095, 0.06593679481259297, 0.5769469546101885, 0.1813261857346307, 0.06593679481259297, 0.032968397406296486, 0.06593679481259297, 0.7253751712118649, 0.12089586186864414, 0.8303222507675276, 0.0638709423667329, 0.0638709423667329, 0.8767001476402624, 0.6387540929288906, 0.15968852323222266, 0.0958131139393336, 0.06387540929288907, 0.031937704646444534, 0.8468075219777245, 0.9275219355744593, 0.8627149357152318, 0.027785581657396353, 0.11114232662958541, 0.2778558165739635, 0.5834972148053235, 0.8673065741208229, 0.24156383612436438, 0.07246915083730932, 0.14493830167461863, 0.04831276722487288, 0.04831276722487288, 0.45897128863629233, 0.1795489884654644, 0.11617875724235933, 0.22707666188279324, 0.17426813586353898, 0.042246820815403395, 0.12145960984428475, 0.07393193642695593, 0.06337023122310509, 0.0861543250382938, 0.20820628550921003, 0.07179527086524483, 0.05743621669219587, 0.07179527086524483, 0.14359054173048966, 0.028718108346097934, 0.05743621669219587, 0.27282202928793037, 0.09402361653173885, 0.023505904132934713, 0.023505904132934713, 0.164541328930543, 0.09402361653173885, 0.5876476033233679, 0.7807208542337086, 0.06788876993336597, 0.13577753986673194, 0.8708107294397508, 0.8690368345060366, 0.8091663627190586, 0.040954039182087704, 0.7371727052775786, 0.22524721550148236, 0.876700098770786, 0.9323735082543345, 0.2716331222010673, 0.015090729011170404, 0.030181458022340808, 0.015090729011170404, 0.6489013474803274, 0.030181458022340808, 0.07239109528705437, 0.7963020481575981, 0.07239109528705437, 0.014323432842913668, 0.20052805980079136, 0.15755776127205035, 0.4010561196015827, 0.05729373137165467, 0.11458746274330935, 0.05729373137165467, 0.11577152576934058, 0.03859050858978019, 0.15436203435912077, 0.07718101717956038, 0.5402671202569227, 0.23794720283977203, 0.11380083614076053, 0.3103659167475287, 0.05172765279125479, 0.08276424446600766, 0.15518295837376436, 0.05172765279125479, 0.6878719776524193, 0.19653485075783408, 0.7239679916927455, 0.06033066597439546, 0.06033066597439546, 0.06033066597439546, 0.09049599896159319, 0.13790771870395216, 0.08486628843320132, 0.5728474469241089, 0.053041430270750825, 0.07425800237905116, 0.06364971632490099, 0.05994378642047139, 0.025690194180202026, 0.05994378642047139, 0.1883947573214815, 0.2654653398620876, 0.23121174762181823, 0.09419737866074075, 0.05994378642047139, 0.24010878148534384, 0.06002719537133596, 0.6602991490846956, 0.9684306912610663, 0.870146939241073, 0.06798108791398216, 0.8837541428817682, 0.3469574383817517, 0.5283215538994855, 0.11828094490286989, 0.15243970003441162, 0.0846887222413398, 0.22019067782748347, 0.47425684455150285, 0.05081323334480388, 0.7469018605449012, 0.13580033828089114, 0.06790016914044557, 0.12643063939609914, 0.05418455974118534, 0.09030759956864225, 0.10836911948237068, 0.1444921593098276, 0.34316887836084053, 0.12643063939609914, 0.24567493209732716, 0.6317355396788413, 0.07019283774209348, 0.0985735028284675, 0.09517441652403758, 0.4010921839227298, 0.07138081239302818, 0.09517441652403758, 0.07817898500188801, 0.0985735028284675, 0.06458263978416835, 0.8767001305966826, 0.2568844831314476, 0.11009334991347756, 0.1284422415657238, 0.03669778330449252, 0.07339556660898504, 0.07339556660898504, 0.31193115808818644, 0.20253807052544182, 0.03797588822352034, 0.24051395874896217, 0.031646573519600284, 0.2468432734528822, 0.050634517631360454, 0.03797588822352034, 0.07595177644704068, 0.06962246174312063, 0.07929785440302499, 0.0555084980821175, 0.09515742528362998, 0.111016996164235, 0.111016996164235, 0.301331846731495, 0.1030872107239325, 0.14273613792544498, 0.1183678199879694, 0.0394559399959898, 0.17755172998195412, 0.29591954996992353, 0.3353754899659133, 0.09050975335578997, 0.7240780268463197, 0.09050975335578997, 0.8688340283620783, 0.09443641107876202, 0.06295760738584134, 0.015739401846460336, 0.20461222400398438, 0.3698759433918179, 0.08656671015553186, 0.08656671015553186, 0.07869700923230169, 0.08334273318241861, 0.16668546636483722, 0.6667418654593489, 0.18717721422123737, 0.12141224706242425, 0.09105918529681818, 0.060706123531212124, 0.3338836794216667, 0.08600034166921718, 0.08094149804161617, 0.03541190539320707, 0.8703426306351708, 0.12069418775909344, 0.7241651265545606, 0.07765034864647076, 0.15530069729294152, 0.6212027891717661, 0.11647552296970613, 0.18868492000834644, 0.6603972200292125, 0.14151369000625982, 0.9467679989371335, 0.17167764522315668, 0.17167764522315668, 0.6294846991515745], \"Term\": [\"10\", \"10\", \"10\", \"10\", \"10\", \"10\", \"100\", \"100\", \"100\", \"100\", \"14\", \"2009\", \"27\", \"30\", \"30\", \"30000\", \"68\", \"95\", \"abc\", \"absolut\", \"absolut\", \"absolut\", \"absolut\", \"accept\", \"accept\", \"accept\", \"accept\", \"accept\", \"accommod\", \"achiev\", \"achiev\", \"actual\", \"actual\", \"actual\", \"actual\", \"actual\", \"actual\", \"ad\", \"ad\", \"ad\", \"ad\", \"ad\", \"adopt\", \"adopt\", \"affleck\", \"agenc\", \"agent\", \"agent\", \"ahead\", \"ahead\", \"ahead\", \"ahead\", \"alarm\", \"alarm\", \"alassad\", \"almost\", \"almost\", \"almost\", \"alway\", \"alway\", \"alway\", \"alway\", \"american\", \"american\", \"american\", \"american\", \"american\", \"american\", \"american\", \"american\", \"american\", \"anchor\", \"angel\", \"angel\", \"anger\", \"anger\", \"anger\", \"aniston\", \"announc\", \"announc\", \"announc\", \"announc\", \"announc\", \"announc\", \"announc\", \"announc\", \"announc\", \"anoth\", \"anoth\", \"anoth\", \"anoth\", \"anoth\", \"anoth\", \"anoth\", \"anoth\", \"anywher\", \"app\", \"app\", \"approv\", \"approv\", \"approv\", \"archiv\", \"area\", \"area\", \"area\", \"area\", \"area\", \"area\", \"area\", \"asian\", \"asian\", \"ask\", \"ask\", \"ask\", \"ask\", \"ask\", \"ask\", \"ask\", \"ask\", \"ask\", \"ask\", \"assert\", \"asshol\", \"asshol\", \"asshol\", \"asshol\", \"attent\", \"attent\", \"avail\", \"avail\", \"away\", \"away\", \"away\", \"away\", \"away\", \"away\", \"away\", \"away\", \"away\", \"bachmann\", \"back\", \"back\", \"back\", \"back\", \"back\", \"back\", \"back\", \"back\", \"back\", \"backstreet\", \"bad\", \"bad\", \"bad\", \"balconi\", \"balconi\", \"bangladesh\", \"bar\", \"bar\", \"bar\", \"bar\", \"bar\", \"barack\", \"bashar\", \"basilica\", \"bath\", \"bath\", \"bath\", \"bath\", \"believ\", \"believ\", \"believ\", \"ben\", \"ben\", \"best\", \"best\", \"best\", \"best\", \"best\", \"best\", \"best\", \"bezo\", \"biden\", \"biden\", \"biden\", \"biden\", \"biden\", \"billi\", \"bin\", \"bin\", \"birth\", \"birth\", \"birthday\", \"bitcoin\", \"black\", \"black\", \"black\", \"black\", \"black\", \"book\", \"book\", \"book\", \"book\", \"book\", \"book\", \"born\", \"born\", \"bounc\", \"bouncer\", \"boy\", \"boy\", \"boy\", \"boy\", \"boy\", \"boy\", \"boy\", \"boyfriend\", \"boyfriend\", \"boyfriend\", \"brad\", \"brand\", \"brand\", \"brand\", \"bread\", \"break\", \"break\", \"break\", \"break\", \"break\", \"break\", \"break\", \"bride\", \"bride\", \"bring\", \"bring\", \"bring\", \"bring\", \"bring\", \"brutal\", \"brutal\", \"bush\", \"bush\", \"bush\", \"bush\", \"bush\", \"bush\", \"bush\", \"bush\", \"busi\", \"busi\", \"busi\", \"busi\", \"busi\", \"busi\", \"busi\", \"busi\", \"butter\", \"ca\", \"ca\", \"ca\", \"call\", \"call\", \"call\", \"call\", \"call\", \"call\", \"call\", \"call\", \"call\", \"campaign\", \"campaign\", \"campaign\", \"campaign\", \"campaign\", \"campaign\", \"campaign\", \"campaign\", \"cancel\", \"cancel\", \"cancel\", \"cancel\", \"captur\", \"captur\", \"car\", \"car\", \"car\", \"car\", \"car\", \"car\", \"car\", \"carli\", \"carson\", \"cathol\", \"cathol\", \"cathol\", \"celebr\", \"celebr\", \"celebr\", \"chang\", \"chang\", \"chang\", \"chang\", \"chang\", \"chang\", \"chang\", \"chang\", \"chang\", \"charlton\", \"chart\", \"check\", \"check\", \"check\", \"check\", \"check\", \"chess\", \"chicken\", \"chicken\", \"chicken\", \"child\", \"child\", \"child\", \"child\", \"child\", \"childhood\", \"children\", \"children\", \"children\", \"children\", \"chines\", \"chines\", \"chines\", \"christma\", \"christma\", \"christma\", \"chuck\", \"chuck\", \"cigarett\", \"cigarett\", \"citizen\", \"citizen\", \"citizen\", \"citizen\", \"citizen\", \"classifi\", \"clinton\", \"clinton\", \"clinton\", \"clinton\", \"clinton\", \"coke\", \"color\", \"color\", \"color\", \"come\", \"come\", \"come\", \"come\", \"come\", \"come\", \"come\", \"comey\", \"comfort\", \"comfort\", \"comfort\", \"compani\", \"compani\", \"compani\", \"compani\", \"compani\", \"complet\", \"complet\", \"complet\", \"complet\", \"complet\", \"complet\", \"complet\", \"complet\", \"conclus\", \"concret\", \"connect\", \"corps\", \"corps\", \"cost\", \"cost\", \"court\", \"crystal\", \"currenc\", \"custodi\", \"custodi\", \"daughter\", \"daughter\", \"daughter\", \"daughter\", \"day\", \"day\", \"day\", \"day\", \"day\", \"day\", \"day\", \"day\", \"dead\", \"dead\", \"dead\", \"dead\", \"dead\", \"dead\", \"dead\", \"dead\", \"deadli\", \"death\", \"death\", \"death\", \"death\", \"death\", \"death\", \"death\", \"death\", \"depart\", \"depart\", \"depart\", \"depart\", \"depart\", \"depart\", \"depress\", \"depress\", \"depress\", \"depress\", \"depress\", \"depress\", \"depress\", \"depress\", \"detect\", \"detect\", \"detect\", \"dh\", \"dick\", \"dick\", \"differ\", \"differ\", \"differ\", \"differ\", \"differ\", \"differ\", \"differ\", \"dinner\", \"dinner\", \"dinner\", \"dinner\", \"dinner\", \"disappoint\", \"disappoint\", \"disappoint\", \"disappoint\", \"discov\", \"discov\", \"discov\", \"discov\", \"discov\", \"discov\", \"dishonor\", \"divers\", \"divers\", \"divers\", \"doctor\", \"doctor\", \"doctor\", \"doctor\", \"doctor\", \"doctor\", \"doctor\", \"dog\", \"dog\", \"dog\", \"dog\", \"dog\", \"doggi\", \"domino\", \"donut\", \"dorm\", \"drug\", \"drug\", \"drug\", \"drug\", \"drug\", \"drug\", \"drug\", \"dummi\", \"duti\", \"duti\", \"duti\", \"duti\", \"duti\", \"dvd\", \"dylan\", \"elabor\", \"elabor\", \"elect\", \"elect\", \"elect\", \"elect\", \"elect\", \"element\", \"elimin\", \"embarrass\", \"embarrass\", \"emmi\", \"employe\", \"employe\", \"employe\", \"employe\", \"employe\", \"employe\", \"employe\", \"employe\", \"employe\", \"entir\", \"entir\", \"entir\", \"entir\", \"entir\", \"entir\", \"entir\", \"entir\", \"envelop\", \"envelop\", \"epa\", \"epa\", \"epa\", \"epa\", \"ever\", \"ever\", \"ever\", \"ever\", \"ever\", \"ever\", \"ever\", \"evolutionari\", \"explan\", \"eyebrow\", \"faa\", \"faa\", \"facebook\", \"facebook\", \"facebook\", \"facebook\", \"fair\", \"fair\", \"fall\", \"fall\", \"fall\", \"fall\", \"fall\", \"fame\", \"fame\", \"famili\", \"famili\", \"famili\", \"famili\", \"famili\", \"famili\", \"famili\", \"familiar\", \"father\", \"father\", \"father\", \"father\", \"father\", \"father\", \"father\", \"fda\", \"feel\", \"feel\", \"feel\", \"feel\", \"feel\", \"feel\", \"feel\", \"feel\", \"feel\", \"feet\", \"feet\", \"figur\", \"figur\", \"figur\", \"figur\", \"figur\", \"figur\", \"final\", \"final\", \"final\", \"final\", \"final\", \"find\", \"find\", \"find\", \"find\", \"find\", \"find\", \"find\", \"find\", \"find\", \"fiorina\", \"fire\", \"fire\", \"fire\", \"fire\", \"fire\", \"fire\", \"fire\", \"fire\", \"fire\", \"first\", \"first\", \"first\", \"first\", \"first\", \"first\", \"first\", \"first\", \"first\", \"flee\", \"forc\", \"forc\", \"forc\", \"forc\", \"forc\", \"forc\", \"forc\", \"forc\", \"forc\", \"format\", \"former\", \"former\", \"former\", \"foster\", \"frantic\", \"frantic\", \"friend\", \"friend\", \"friend\", \"friend\", \"friend\", \"friend\", \"friend\", \"friend\", \"friend\", \"friend\", \"fruit\", \"fruit\", \"fruit\", \"fruit\", \"fuck\", \"fuck\", \"fuck\", \"fuck\", \"fuck\", \"fuck\", \"fuck\", \"fuck\", \"funer\", \"funer\", \"funer\", \"ga\", \"ga\", \"ga\", \"game\", \"game\", \"game\", \"game\", \"game\", \"gaze\", \"genuin\", \"georg\", \"georg\", \"georg\", \"georg\", \"georg\", \"georg\", \"gerbil\", \"get\", \"get\", \"get\", \"get\", \"get\", \"get\", \"get\", \"get\", \"get\", \"get\", \"gift\", \"gift\", \"gift\", \"go\", \"go\", \"go\", \"go\", \"go\", \"go\", \"go\", \"go\", \"god\", \"god\", \"god\", \"god\", \"god\", \"god\", \"god\", \"god\", \"god\", \"good\", \"good\", \"good\", \"good\", \"good\", \"good\", \"good\", \"got\", \"got\", \"got\", \"got\", \"got\", \"grandma\", \"grandma\", \"grandpar\", \"grate\", \"grate\", \"greet\", \"group\", \"group\", \"group\", \"group\", \"group\", \"group\", \"guest\", \"guest\", \"guin\", \"gun\", \"gun\", \"gun\", \"guy\", \"guy\", \"guy\", \"guy\", \"guy\", \"halliburton\", \"hampshir\", \"hane\", \"harri\", \"harri\", \"harri\", \"hatch\", \"hate\", \"hate\", \"hate\", \"hathaway\", \"heal\", \"healthcar\", \"healthcar\", \"heard\", \"heart\", \"heart\", \"helicopt\", \"help\", \"help\", \"help\", \"help\", \"help\", \"help\", \"hillari\", \"histor\", \"hit\", \"hit\", \"hit\", \"hit\", \"hit\", \"hmo\", \"hollywood\", \"hollywood\", \"hollywood\", \"hollywood\", \"hope\", \"hope\", \"hope\", \"hope\", \"hope\", \"hope\", \"hope\", \"hope\", \"hope\", \"hotel\", \"hotel\", \"hotel\", \"hour\", \"hour\", \"hour\", \"hour\", \"hour\", \"hour\", \"hour\", \"hous\", \"hous\", \"hous\", \"hous\", \"hous\", \"hous\", \"huddl\", \"human\", \"human\", \"hummu\", \"huntsman\", \"illeg\", \"immigr\", \"immigr\", \"immigr\", \"immigr\", \"indefinit\", \"india\", \"individu\", \"individu\", \"inform\", \"inform\", \"inform\", \"inform\", \"inform\", \"inform\", \"ingredi\", \"insuffer\", \"insur\", \"insur\", \"insur\", \"interior\", \"interior\", \"interrupt\", \"introduc\", \"introduc\", \"introduc\", \"introduc\", \"introduc\", \"introduc\", \"ipod\", \"ir\", \"iraq\", \"iraq\", \"iraqi\", \"iraqi\", \"issu\", \"issu\", \"issu\", \"issu\", \"issu\", \"issu\", \"italian\", \"jackson\", \"jay\", \"jcpenney\", \"jeb\", \"jeff\", \"jeff\", \"jeff\", \"jennif\", \"jennif\", \"jesu\", \"jesu\", \"jesu\", \"job\", \"job\", \"job\", \"job\", \"job\", \"job\", \"joe\", \"joe\", \"john\", \"john\", \"john\", \"john\", \"john\", \"journal\", \"journal\", \"joy\", \"joy\", \"juic\", \"justifi\", \"justifi\", \"kany\", \"kick\", \"kick\", \"kick\", \"kick\", \"kid\", \"kid\", \"kid\", \"kid\", \"kid\", \"killer\", \"killer\", \"killer\", \"kind\", \"kind\", \"kind\", \"kind\", \"kind\", \"kind\", \"knew\", \"know\", \"know\", \"know\", \"know\", \"know\", \"know\", \"know\", \"know\", \"known\", \"known\", \"korea\", \"korea\", \"korean\", \"korean\", \"kushner\", \"kushner\", \"laden\", \"lane\", \"lapierr\", \"last\", \"last\", \"last\", \"last\", \"last\", \"last\", \"late\", \"late\", \"late\", \"late\", \"late\", \"laugh\", \"laugh\", \"laugh\", \"laugh\", \"laughter\", \"launch\", \"launch\", \"launch\", \"law\", \"law\", \"law\", \"law\", \"law\", \"lead\", \"lead\", \"lead\", \"lead\", \"leaf\", \"learn\", \"learn\", \"learn\", \"learn\", \"learn\", \"learn\", \"legisl\", \"lego\", \"liar\", \"life\", \"life\", \"life\", \"life\", \"life\", \"life\", \"life\", \"life\", \"life\", \"life\", \"light\", \"light\", \"light\", \"light\", \"light\", \"like\", \"like\", \"like\", \"like\", \"like\", \"like\", \"like\", \"like\", \"like\", \"like\", \"line\", \"line\", \"line\", \"line\", \"line\", \"line\", \"link\", \"link\", \"link\", \"link\", \"littl\", \"littl\", \"littl\", \"littl\", \"littl\", \"littl\", \"littl\", \"littl\", \"littl\", \"lo\", \"local\", \"local\", \"local\", \"local\", \"local\", \"local\", \"local\", \"log\", \"logo\", \"logo\", \"longingli\", \"look\", \"look\", \"look\", \"look\", \"look\", \"look\", \"look\", \"look\", \"look\", \"look\", \"lost\", \"lost\", \"lost\", \"lost\", \"loud\", \"loud\", \"loud\", \"love\", \"love\", \"love\", \"love\", \"machin\", \"machin\", \"machin\", \"machin\", \"maid\", \"major\", \"major\", \"major\", \"major\", \"major\", \"make\", \"make\", \"make\", \"make\", \"make\", \"make\", \"make\", \"make\", \"make\", \"make\", \"male\", \"male\", \"male\", \"man\", \"man\", \"man\", \"man\", \"man\", \"man\", \"man\", \"man\", \"man\", \"man\", \"marco\", \"matt\", \"matt\", \"matt\", \"may\", \"may\", \"may\", \"may\", \"may\", \"membership\", \"menstruat\", \"meryl\", \"mess\", \"messag\", \"messag\", \"messag\", \"middl\", \"middl\", \"middl\", \"middl\", \"mike\", \"mike\", \"mike\", \"mike\", \"minnesota\", \"minut\", \"minut\", \"minut\", \"minut\", \"minut\", \"minut\", \"minut\", \"minut\", \"miss\", \"miss\", \"miss\", \"miss\", \"miss\", \"mitt\", \"mitt\", \"mixup\", \"molest\", \"molest\", \"mom\", \"mom\", \"mom\", \"mom\", \"mom\", \"mom\", \"mom\", \"mom\", \"money\", \"money\", \"money\", \"money\", \"money\", \"money\", \"monopoli\", \"month\", \"month\", \"month\", \"month\", \"mosquito\", \"mother\", \"mother\", \"mother\", \"mother\", \"mother\", \"motorcycl\", \"movi\", \"movi\", \"movi\", \"movi\", \"movi\", \"movi\", \"moviego\", \"must\", \"must\", \"must\", \"must\", \"must\", \"naacp\", \"name\", \"name\", \"name\", \"name\", \"name\", \"name\", \"name\", \"nate\", \"nation\", \"nation\", \"nation\", \"nation\", \"nation\", \"nation\", \"nation\", \"nation\", \"nation\", \"navi\", \"navi\", \"nerd\", \"network\", \"network\", \"network\", \"network\", \"new\", \"new\", \"new\", \"new\", \"new\", \"new\", \"new\", \"new\", \"new\", \"next\", \"next\", \"next\", \"next\", \"next\", \"next\", \"nfl\", \"no\", \"no\", \"north\", \"north\", \"north\", \"nra\", \"nra\", \"nra\", \"nt\", \"nt\", \"nt\", \"nt\", \"nt\", \"nt\", \"nt\", \"nune\", \"nyc\", \"nyc\", \"obama\", \"obama\", \"obama\", \"obama\", \"obama\", \"obama\", \"obama\", \"object\", \"obnoxi\", \"occupi\", \"offic\", \"offic\", \"offic\", \"offic\", \"offic\", \"offic\", \"offic\", \"old\", \"old\", \"old\", \"old\", \"old\", \"old\", \"old\", \"old\", \"older\", \"older\", \"one\", \"one\", \"one\", \"one\", \"one\", \"one\", \"one\", \"onion\", \"onion\", \"onion\", \"onion\", \"open\", \"open\", \"open\", \"open\", \"open\", \"open\", \"open\", \"opera\", \"opinion\", \"opinion\", \"opinion\", \"oppos\", \"opt\", \"optimist\", \"orca\", \"origin\", \"origin\", \"origin\", \"origin\", \"pabst\", \"paleontologist\", \"pan\", \"pant\", \"pant\", \"pant\", \"pant\", \"panti\", \"parent\", \"parent\", \"parent\", \"parent\", \"parent\", \"parent\", \"parent\", \"parent\", \"pass\", \"passeng\", \"passeng\", \"passeng\", \"past\", \"past\", \"past\", \"past\", \"past\", \"paterno\", \"patron\", \"patron\", \"pay\", \"pay\", \"pay\", \"peanut\", \"pen\", \"pen\", \"penc\", \"penc\", \"peni\", \"peni\", \"peni\", \"peopl\", \"peopl\", \"peopl\", \"peopl\", \"peopl\", \"peopl\", \"peopl\", \"peopl\", \"pepsi\", \"per\", \"per\", \"per\", \"perfect\", \"perfect\", \"perfect\", \"person\", \"person\", \"person\", \"person\", \"person\", \"person\", \"person\", \"peter\", \"phone\", \"phone\", \"phone\", \"phone\", \"phone\", \"phone\", \"phone\", \"pileup\", \"pink\", \"pitt\", \"plan\", \"plan\", \"plan\", \"plan\", \"plan\", \"plan\", \"plan\", \"planet\", \"planet\", \"planet\", \"pleasantli\", \"plug\", \"pm\", \"pm\", \"pm\", \"podcast\", \"point\", \"point\", \"point\", \"point\", \"point\", \"point\", \"point\", \"pole\", \"poll\", \"poll\", \"poll\", \"poll\", \"poll\", \"poll\", \"poll\", \"poor\", \"poor\", \"poor\", \"populac\", \"predat\", \"predat\", \"presidenti\", \"presidenti\", \"presidenti\", \"presidenti\", \"presidenti\", \"pretend\", \"pretend\", \"pretti\", \"pretti\", \"pretti\", \"pretti\", \"prevent\", \"prevent\", \"prevent\", \"prevent\", \"princ\", \"princ\", \"princ\", \"princ\", \"princ\", \"printer\", \"problem\", \"problem\", \"problem\", \"program\", \"program\", \"program\", \"program\", \"program\", \"progress\", \"progress\", \"project\", \"project\", \"project\", \"project\", \"promot\", \"promot\", \"promot\", \"prop\", \"prose\", \"psychic\", \"pud\", \"punish\", \"push\", \"push\", \"push\", \"put\", \"put\", \"put\", \"put\", \"put\", \"put\", \"put\", \"put\", \"putin\", \"putin\", \"queen\", \"queen\", \"question\", \"question\", \"question\", \"question\", \"quit\", \"racial\", \"racial\", \"rage\", \"rapist\", \"rate\", \"rate\", \"rate\", \"rate\", \"re\", \"re\", \"re\", \"re\", \"re\", \"re\", \"realiz\", \"realiz\", \"realiz\", \"realiz\", \"realiz\", \"realiz\", \"realiz\", \"realiz\", \"realiz\", \"realiz\", \"realli\", \"realli\", \"realli\", \"realli\", \"realli\", \"realli\", \"rebuild\", \"receiv\", \"receiv\", \"receiv\", \"receiv\", \"receiv\", \"recit\", \"recount\", \"recycl\", \"regist\", \"regularli\", \"regularli\", \"regularli\", \"reinc\", \"relat\", \"relat\", \"relat\", \"relationship\", \"relationship\", \"relationship\", \"relationship\", \"relationship\", \"releas\", \"releas\", \"releas\", \"releas\", \"releas\", \"rental\", \"report\", \"report\", \"report\", \"report\", \"report\", \"report\", \"report\", \"report\", \"report\", \"rescu\", \"rescu\", \"resembl\", \"respect\", \"respect\", \"restaur\", \"restaur\", \"restaur\", \"restaur\", \"restaur\", \"restaur\", \"restaur\", \"resum\", \"return\", \"return\", \"return\", \"return\", \"return\", \"return\", \"return\", \"return\", \"return\", \"revis\", \"rico\", \"right\", \"right\", \"right\", \"right\", \"right\", \"right\", \"right\", \"right\", \"right\", \"rite\", \"robe\", \"romney\", \"romney\", \"romney\", \"romney\", \"romney\", \"rough\", \"ryan\", \"ryan\", \"ryan\", \"ryan\", \"saint\", \"satellit\", \"satisfi\", \"satisfi\", \"save\", \"save\", \"save\", \"save\", \"save\", \"save\", \"say\", \"say\", \"say\", \"say\", \"say\", \"say\", \"say\", \"say\", \"say\", \"say\", \"scalia\", \"scalia\", \"scalia\", \"school\", \"school\", \"school\", \"school\", \"school\", \"school\", \"screw\", \"scroll\", \"sea\", \"sea\", \"seattl\", \"seaworld\", \"seaworld\", \"secret\", \"secret\", \"secret\", \"see\", \"see\", \"see\", \"see\", \"see\", \"see\", \"see\", \"see\", \"see\", \"seen\", \"seen\", \"seen\", \"seen\", \"seen\", \"sell\", \"sell\", \"sell\", \"senat\", \"senat\", \"senat\", \"senat\", \"senat\", \"senat\", \"sentenc\", \"sentenc\", \"sentenc\", \"sept\", \"serial\", \"serial\", \"servic\", \"servic\", \"servic\", \"servic\", \"seventhgrad\", \"sex\", \"sex\", \"sex\", \"sex\", \"sex\", \"sex\", \"shave\", \"shelv\", \"shelv\", \"shit\", \"shit\", \"shit\", \"shit\", \"shit\", \"shit\", \"shit\", \"shoot\", \"shoot\", \"shoot\", \"shoot\", \"shoot\", \"shortag\", \"shotgun\", \"show\", \"show\", \"show\", \"show\", \"show\", \"show\", \"shuttl\", \"silver\", \"silver\", \"simpson\", \"sinc\", \"sinc\", \"sinc\", \"sinc\", \"sinc\", \"sister\", \"sister\", \"six\", \"six\", \"six\", \"slam\", \"slap\", \"sleepov\", \"sniper\", \"sniper\", \"sober\", \"soil\", \"sold\", \"someday\", \"somewher\", \"somewher\", \"son\", \"son\", \"son\", \"son\", \"son\", \"sooth\", \"sourc\", \"sourc\", \"sourc\", \"sourc\", \"southern\", \"special\", \"special\", \"special\", \"special\", \"spend\", \"spend\", \"spend\", \"spend\", \"spend\", \"spend\", \"spice\", \"spirit\", \"spirit\", \"stack\", \"stand\", \"stand\", \"stand\", \"star\", \"star\", \"star\", \"star\", \"state\", \"state\", \"state\", \"state\", \"state\", \"state\", \"state\", \"state\", \"sticker\", \"still\", \"still\", \"still\", \"still\", \"still\", \"still\", \"still\", \"still\", \"still\", \"stone\", \"stone\", \"stone\", \"streep\", \"street\", \"street\", \"street\", \"street\", \"street\", \"street\", \"street\", \"stripper\", \"studi\", \"studi\", \"studi\", \"studi\", \"studi\", \"studi\", \"studi\", \"studi\", \"studi\", \"studi\", \"sub\", \"suburban\", \"sunglass\", \"super\", \"super\", \"super\", \"suprem\", \"surpris\", \"surpris\", \"surpris\", \"surpris\", \"surpris\", \"surpris\", \"surround\", \"surround\", \"swift\", \"taco\", \"taco\", \"tailor\", \"take\", \"take\", \"take\", \"take\", \"take\", \"take\", \"target\", \"target\", \"target\", \"target\", \"taylor\", \"taylor\", \"tea\", \"tea\", \"teacher\", \"teacher\", \"teacher\", \"teacher\", \"tearyey\", \"technician\", \"teenag\", \"teenag\", \"tell\", \"tell\", \"tell\", \"temporarili\", \"terror\", \"terror\", \"terror\", \"terror\", \"theoret\", \"thing\", \"thing\", \"thing\", \"thing\", \"thing\", \"thing\", \"thing\", \"thing\", \"think\", \"think\", \"think\", \"think\", \"think\", \"think\", \"think\", \"think\", \"think\", \"third\", \"third\", \"third\", \"third\", \"third\", \"thought\", \"thought\", \"thought\", \"thought\", \"thought\", \"threaten\", \"threaten\", \"threaten\", \"threaten\", \"tick\", \"time\", \"time\", \"time\", \"time\", \"time\", \"time\", \"time\", \"time\", \"time\", \"tissu\", \"today\", \"today\", \"today\", \"today\", \"toddler\", \"toddler\", \"toilet\", \"toilet\", \"tonight\", \"tonight\", \"tonight\", \"tortur\", \"tortur\", \"tortur\", \"traffic\", \"traffic\", \"tri\", \"tri\", \"tri\", \"tri\", \"tri\", \"tri\", \"tri\", \"tri\", \"tri\", \"trip\", \"trip\", \"trip\", \"trip\", \"trip\", \"trump\", \"trump\", \"trump\", \"trump\", \"trump\", \"trump\", \"trump\", \"trump\", \"trump\", \"trump\", \"trust\", \"trust\", \"tsarnaev\", \"tune\", \"turkish\", \"turn\", \"turn\", \"turn\", \"turn\", \"turn\", \"turn\", \"turtl\", \"turtl\", \"type\", \"type\", \"type\", \"uhaul\", \"unabl\", \"unabl\", \"unabl\", \"unabl\", \"unabl\", \"understand\", \"unfortun\", \"unimpress\", \"unveil\", \"unveil\", \"unveil\", \"unveil\", \"upgrad\", \"urg\", \"urg\", \"urg\", \"urg\", \"urg\", \"urg\", \"us\", \"us\", \"us\", \"us\", \"us\", \"us\", \"us\", \"us\", \"use\", \"use\", \"use\", \"use\", \"use\", \"use\", \"use\", \"use\", \"use\", \"user\", \"user\", \"user\", \"user\", \"user\", \"user\", \"vacat\", \"vacat\", \"vacat\", \"vacuum\", \"veget\", \"vend\", \"video\", \"video\", \"video\", \"vilsack\", \"virginia\", \"visit\", \"visit\", \"visit\", \"visit\", \"visit\", \"visit\", \"vomit\", \"vomit\", \"vomit\", \"wait\", \"wait\", \"wait\", \"wait\", \"wait\", \"wait\", \"wait\", \"wake\", \"wake\", \"wake\", \"wake\", \"wake\", \"want\", \"want\", \"want\", \"want\", \"want\", \"want\", \"want\", \"warm\", \"warm\", \"wast\", \"wast\", \"wast\", \"wast\", \"wast\", \"watch\", \"watch\", \"watch\", \"watch\", \"watch\", \"watch\", \"way\", \"way\", \"way\", \"way\", \"way\", \"way\", \"way\", \"way\", \"weapon\", \"weapon\", \"weapon\", \"weather\", \"welfar\", \"west\", \"west\", \"white\", \"white\", \"white\", \"wife\", \"wife\", \"wife\", \"wife\", \"wife\", \"william\", \"william\", \"william\", \"without\", \"without\", \"without\", \"without\", \"without\", \"without\", \"without\", \"wo\", \"wo\", \"wo\", \"woman\", \"woman\", \"woman\", \"woman\", \"woman\", \"woman\", \"woman\", \"woman\", \"woodi\", \"word\", \"word\", \"word\", \"word\", \"word\", \"word\", \"word\", \"work\", \"work\", \"work\", \"work\", \"work\", \"work\", \"work\", \"work\", \"work\", \"world\", \"world\", \"world\", \"world\", \"world\", \"world\", \"world\", \"world\", \"worri\", \"worri\", \"worri\", \"worri\", \"worri\", \"worst\", \"worst\", \"worst\", \"worthless\", \"would\", \"would\", \"would\", \"would\", \"would\", \"would\", \"would\", \"would\", \"written\", \"written\", \"written\", \"year\", \"year\", \"year\", \"year\", \"year\", \"year\", \"year\", \"year\", \"yearbook\", \"yell\", \"yell\", \"york\", \"york\", \"york\", \"york\", \"you\", \"you\", \"you\", \"zimmerman\", \"zoo\", \"zoo\", \"zoo\"]}, \"R\": 30, \"lambda.step\": 0.01, \"plot.opts\": {\"xlab\": \"PC1\", \"ylab\": \"PC2\"}, \"topic.order\": [10, 6, 9, 8, 5, 1, 4, 3, 7, 2]};\n",
       "\n",
       "function LDAvis_load_lib(url, callback){\n",
       "  var s = document.createElement('script');\n",
       "  s.src = url;\n",
       "  s.async = true;\n",
       "  s.onreadystatechange = s.onload = callback;\n",
       "  s.onerror = function(){console.warn(\"failed to load library \" + url);};\n",
       "  document.getElementsByTagName(\"head\")[0].appendChild(s);\n",
       "}\n",
       "\n",
       "if(typeof(LDAvis) !== \"undefined\"){\n",
       "   // already loaded: just create the visualization\n",
       "   !function(LDAvis){\n",
       "       new LDAvis(\"#\" + \"ldavis_el1261397002826979125301025379\", ldavis_el1261397002826979125301025379_data);\n",
       "   }(LDAvis);\n",
       "}else if(typeof define === \"function\" && define.amd){\n",
       "   // require.js is available: use it to load d3/LDAvis\n",
       "   require.config({paths: {d3: \"https://cdnjs.cloudflare.com/ajax/libs/d3/3.5.5/d3.min\"}});\n",
       "   require([\"d3\"], function(d3){\n",
       "      window.d3 = d3;\n",
       "      LDAvis_load_lib(\"https://cdn.rawgit.com/bmabey/pyLDAvis/files/ldavis.v1.0.0.js\", function(){\n",
       "        new LDAvis(\"#\" + \"ldavis_el1261397002826979125301025379\", ldavis_el1261397002826979125301025379_data);\n",
       "      });\n",
       "    });\n",
       "}else{\n",
       "    // require.js not available: dynamically load d3 & LDAvis\n",
       "    LDAvis_load_lib(\"https://cdnjs.cloudflare.com/ajax/libs/d3/3.5.5/d3.min.js\", function(){\n",
       "         LDAvis_load_lib(\"https://cdn.rawgit.com/bmabey/pyLDAvis/files/ldavis.v1.0.0.js\", function(){\n",
       "                 new LDAvis(\"#\" + \"ldavis_el1261397002826979125301025379\", ldavis_el1261397002826979125301025379_data);\n",
       "            })\n",
       "         });\n",
       "}\n",
       "</script>"
      ],
      "text/plain": [
       "PreparedData(topic_coordinates=              x         y  topics  cluster       Freq\n",
       "topic                                                \n",
       "9      0.038873  0.134429       1        1  11.820724\n",
       "5      0.050261 -0.020997       2        1  11.064233\n",
       "8     -0.036396  0.026840       3        1  10.991545\n",
       "7      0.073851  0.010256       4        1  10.541963\n",
       "4      0.047776  0.079875       5        1  10.221058\n",
       "0      0.040819  0.027830       6        1  10.107788\n",
       "3     -0.141036  0.035808       7        1   9.662546\n",
       "2      0.017761 -0.049928       8        1   9.569637\n",
       "6     -0.171667 -0.065642       9        1   8.242122\n",
       "1      0.079758 -0.178471      10        1   7.778384, topic_info=     Category         Freq      Term        Total  loglift  logprob\n",
       "4241  Default   772.000000       new   772.000000  30.0000  30.0000\n",
       "4306  Default   363.000000        nt   363.000000  29.0000  29.0000\n",
       "3847  Default  1054.000000       man  1054.000000  28.0000  28.0000\n",
       "484   Default   440.000000      area   440.000000  27.0000  27.0000\n",
       "5165  Default   464.000000    report   464.000000  26.0000  26.0000\n",
       "1012  Default   115.000000        ca   115.000000  25.0000  25.0000\n",
       "4380  Default   250.000000       one   250.000000  24.0000  24.0000\n",
       "3120  Default    96.000000     human    96.000000  23.0000  23.0000\n",
       "6830  Default   126.000000     white   126.000000  22.0000  22.0000\n",
       "6186  Default   102.000000      tell   102.000000  21.0000  21.0000\n",
       "3098  Default   160.000000      hous   160.000000  20.0000  20.0000\n",
       "1132  Default    66.000000    celebr    66.000000  19.0000  19.0000\n",
       "6889  Default   294.000000     woman   294.000000  18.0000  18.0000\n",
       "4194  Default   371.000000    nation   371.000000  17.0000  17.0000\n",
       "1205  Default   117.000000     child   117.000000  16.0000  16.0000\n",
       "4542  Default    55.000000      pass    55.000000  15.0000  15.0000\n",
       "1541  Default    55.000000     court    55.000000  14.0000  14.0000\n",
       "1292  Default   125.000000   clinton   125.000000  13.0000  13.0000\n",
       "4331  Default   172.000000     obama   172.000000  12.0000  12.0000\n",
       "3786  Default    81.000000      love    81.000000  11.0000  11.0000\n",
       "6136  Default   173.000000      take   173.000000  10.0000  10.0000\n",
       "2853  Default   135.000000       guy   135.000000   9.0000   9.0000\n",
       "2419  Default    94.000000     final    94.000000   8.0000   8.0000\n",
       "1690  Default   240.000000       day   240.000000   7.0000   7.0000\n",
       "6572  Default    71.000000    unveil    71.000000   6.0000   6.0000\n",
       "3025  Default    41.000000    histor    41.000000   5.0000   5.0000\n",
       "2338  Default   179.000000    famili   179.000000   4.0000   4.0000\n",
       "1949  Default    71.000000       dog    71.000000   3.0000   3.0000\n",
       "2850  Default    49.000000       gun    49.000000   2.0000   2.0000\n",
       "3328  Default   104.000000  introduc   104.000000   1.0000   1.0000\n",
       "...       ...          ...       ...          ...      ...      ...\n",
       "6778  Topic10    10.716163    weapon    16.659116   2.1126  -6.3693\n",
       "6732  Topic10    14.470463      wake    25.913108   1.9712  -6.0689\n",
       "4059  Topic10    25.007097      miss    59.038365   1.6948  -5.5219\n",
       "612   Topic10    21.963151       bad    49.960180   1.7320  -5.6517\n",
       "2315  Topic10    21.855430  facebook    50.762232   1.7111  -5.6566\n",
       "2379  Topic10    32.413651      feel   100.513602   1.4221  -5.2625\n",
       "6600  Topic10    38.398574       use   139.284940   1.2653  -5.0930\n",
       "1945  Topic10    18.975853    doctor    44.321848   1.7055  -5.7979\n",
       "5063  Topic10    18.709292    receiv    43.459024   1.7110  -5.8120\n",
       "3260  Topic10    15.865731    inform    33.263754   1.8135  -5.9769\n",
       "3643  Topic10    17.806387     learn    45.197690   1.6223  -5.8615\n",
       "1856  Topic10    18.471292    differ    51.635513   1.5258  -5.8248\n",
       "2338  Topic10    33.248815    famili   179.556284   0.8674  -5.2370\n",
       "484   Topic10    47.360724      area   440.434955   0.3239  -4.8832\n",
       "6069  Topic10    16.382080   surpris    41.564816   1.6228  -5.9448\n",
       "2581  Topic10    29.171746    friend   172.183605   0.7785  -5.3678\n",
       "3847  Topic10    52.482626       man  1054.290910  -0.4463  -4.7806\n",
       "887   Topic10    18.197476       boy    59.947787   1.3616  -5.8398\n",
       "3765  Topic10    25.261611      look   163.088876   0.6888  -5.5117\n",
       "3709  Topic10    26.798752      like   212.755219   0.4820  -5.4527\n",
       "6898  Topic10    16.929089      word    54.499205   1.3847  -5.9120\n",
       "590   Topic10    17.738564      away    69.175520   1.1929  -5.8653\n",
       "1395  Topic10    17.643573   complet    68.082489   1.2035  -5.8707\n",
       "3743  Topic10    19.949310     local   136.116946   0.6335  -5.7478\n",
       "4306  Topic10    21.296011        nt   363.531374  -0.2835  -5.6825\n",
       "6428  Topic10    19.159737     trump   216.924935   0.1271  -5.7882\n",
       "6245  Topic10    17.927445     think   129.851649   0.5738  -5.8547\n",
       "6889  Topic10    18.707776     woman   294.196708  -0.2015  -5.8121\n",
       "3839  Topic10    18.254085      make   222.758253   0.0521  -5.8366\n",
       "6906  Topic10    17.711671     world   126.106817   0.5909  -5.8668\n",
       "\n",
       "[789 rows x 6 columns], token_table=      Topic      Freq       Term\n",
       "term                            \n",
       "1         1  0.236115         10\n",
       "1         2  0.070835         10\n",
       "1         3  0.023612         10\n",
       "1         5  0.118058         10\n",
       "1         7  0.401396         10\n",
       "1         8  0.118058         10\n",
       "2         1  0.114559        100\n",
       "2         3  0.057279        100\n",
       "2         5  0.687352        100\n",
       "2         6  0.057279        100\n",
       "20        2  0.905024         14\n",
       "60        5  0.906661       2009\n",
       "91        7  0.905244         27\n",
       "99        1  0.860846         30\n",
       "99        8  0.127533         30\n",
       "102       2  0.868834      30000\n",
       "162       2  0.868834         68\n",
       "201       9  0.865913         95\n",
       "211       4  0.870811        abc\n",
       "224       2  0.702983    absolut\n",
       "224       4  0.127815    absolut\n",
       "224       7  0.063908    absolut\n",
       "224       8  0.063908    absolut\n",
       "229       1  0.651092     accept\n",
       "229       3  0.062009     accept\n",
       "229       6  0.062009     accept\n",
       "229       7  0.155022     accept\n",
       "229      10  0.031004     accept\n",
       "233       3  0.783193   accommod\n",
       "241       3  0.796373     achiev\n",
       "...     ...       ...        ...\n",
       "6917      5  0.204612      would\n",
       "6917      6  0.369876      would\n",
       "6917      7  0.086567      would\n",
       "6917      9  0.086567      would\n",
       "6917     10  0.078697      would\n",
       "6930      4  0.083343    written\n",
       "6930      6  0.166685    written\n",
       "6930      9  0.666742    written\n",
       "6944      1  0.187177       year\n",
       "6944      2  0.121412       year\n",
       "6944      3  0.091059       year\n",
       "6944      4  0.060706       year\n",
       "6944      5  0.333884       year\n",
       "6944      6  0.086000       year\n",
       "6944      7  0.080941       year\n",
       "6944      9  0.035412       year\n",
       "6945      5  0.870343   yearbook\n",
       "6946      1  0.120694       yell\n",
       "6946      8  0.724165       yell\n",
       "6957      3  0.077650       york\n",
       "6957      5  0.155301       york\n",
       "6957      7  0.621203       york\n",
       "6957      9  0.116476       york\n",
       "6960      1  0.188685        you\n",
       "6960      2  0.660397        you\n",
       "6960      9  0.141514        you\n",
       "6971      9  0.946768  zimmerman\n",
       "6974      4  0.171678        zoo\n",
       "6974      5  0.171678        zoo\n",
       "6974      8  0.629485        zoo\n",
       "\n",
       "[2105 rows x 3 columns], R=30, lambda_step=0.01, plot_opts={'xlab': 'PC1', 'ylab': 'PC2'}, topic_order=[10, 6, 9, 8, 5, 1, 4, 3, 7, 2])"
      ]
     },
     "execution_count": 33,
     "metadata": {
      "tags": []
     },
     "output_type": "execute_result"
    }
   ],
   "source": [
    "LDA_vis"
   ]
  },
  {
   "cell_type": "markdown",
   "metadata": {
    "colab_type": "text",
    "id": "-uPt2z0_4GAh"
   },
   "source": [
    "The topics are a bit disappointing as many terms are repeated across topics so the topics don't seem to be exclusive. However, some of them could be interpreted as follows:\n",
    "\n",
    "\n",
    "1st topic: Republican politicians (Clinton, Bush, Romney)\n",
    "\n",
    "4th topic: Women\n",
    "\n",
    "5th topic: Law (court, final, report, supreme) \n",
    "\n",
    "7th topic: Education (school, teacher, stydy, program)\n",
    "\n",
    "8th topic: Family (love, family, christmas, visit, house\n",
    "\n",
    "10th topic: History-related (history, archive)\n",
    "\n",
    "\n"
   ]
  },
  {
   "cell_type": "markdown",
   "metadata": {
    "colab_type": "text",
    "id": "ZNJ5huWPArQc"
   },
   "source": [
    "#Assigning variables"
   ]
  },
  {
   "cell_type": "code",
   "execution_count": 0,
   "metadata": {
    "colab": {},
    "colab_type": "code",
    "collapsed": true,
    "id": "GRQ9xaIBAnSi"
   },
   "outputs": [],
   "source": [
    "X = data[\"headline\"]\n",
    "y = data[\"is_sarcastic\"]\n",
    "\n",
    "X_train, X_test, y_train, y_test = train_test_split(X, y, test_size=0.15, \n",
    "                                                          random_state=42)\n",
    "X_train, X_val, y_train, y_val = train_test_split(X_train, y_train, test_size=0.15, \n",
    "                                                          random_state=52)"
   ]
  },
  {
   "cell_type": "markdown",
   "metadata": {
    "colab_type": "text",
    "id": "amk8ijVect0U"
   },
   "source": [
    "# 1st approach: Naive Bayes"
   ]
  },
  {
   "cell_type": "markdown",
   "metadata": {
    "colab_type": "text",
    "id": "LTVoI8NeO028"
   },
   "source": [
    "Naive Bayes is a simple classifier which is often used in NLP tasks like spam detection. Even though one of its assumptions (independency between words) is actually almost never fulfilled it still scores well. I will try how it copes with sarcasm detection."
   ]
  },
  {
   "cell_type": "code",
   "execution_count": 0,
   "metadata": {
    "colab": {},
    "colab_type": "code",
    "collapsed": true,
    "id": "yX8s1Etq7tpE"
   },
   "outputs": [],
   "source": [
    "# preprocessing headlines with preprocess_texts module\n",
    "X_train_preprocessed = preprocess_texts(X_train)\n",
    "X_val_preprocessed = preprocess_texts(X_val)\n",
    "X_test_preprocessed = preprocess_texts(X_test)"
   ]
  },
  {
   "cell_type": "markdown",
   "metadata": {
    "colab_type": "text",
    "id": "cHEixHXXSW3M"
   },
   "source": [
    "For vectorization I will use Tf-idf Vectorizer which attaches high weight to words rare in a document collection but frequent in a particular document, such words are discriminative for documents."
   ]
  },
  {
   "cell_type": "code",
   "execution_count": 0,
   "metadata": {
    "colab": {},
    "colab_type": "code",
    "collapsed": true,
    "id": "ntwF_8_1P4ku"
   },
   "outputs": [],
   "source": [
    "# vectorizing headlines into a Tf-idf matrix \n",
    "vectorizer = TfidfVectorizer()\n",
    "vectorizer.fit(X_train_preprocessed)\n",
    "X_train_vect = vectorizer.transform(X_train_preprocessed)\n",
    "X_val_vect = vectorizer.transform(X_val_preprocessed)\n",
    "X_test_vect = vectorizer.transform(X_test_preprocessed)"
   ]
  },
  {
   "cell_type": "code",
   "execution_count": 38,
   "metadata": {
    "colab": {
     "base_uri": "https://localhost:8080/",
     "height": 51
    },
    "colab_type": "code",
    "collapsed": false,
    "id": "8BxVyuwtS-5x",
    "outputId": "970bdb4e-9b68-4b79-d613-2a5ed36acb73"
   },
   "outputs": [
    {
     "name": "stdout",
     "output_type": "stream",
     "text": [
      "Accuracy on train set: 0.8864013266998342\n",
      "Accuracy on validation set: 0.7821491485613623\n"
     ]
    }
   ],
   "source": [
    "clf = MultinomialNB()\n",
    "clf.fit(X_train_vect, y_train)\n",
    "print(f'Accuracy on train set: {accuracy_score(y_train, clf.predict(X_train_vect))}')\n",
    "print(f'Accuracy on validation set: {accuracy_score(y_val, clf.predict(X_val_vect))}')"
   ]
  },
  {
   "cell_type": "markdown",
   "metadata": {
    "colab_type": "text",
    "id": "Gi8tEUiA7aZ3"
   },
   "source": [
    "The score above 78% on validation set is a decent one. Let's check if more complicated approach gives better results."
   ]
  },
  {
   "cell_type": "markdown",
   "metadata": {
    "colab_type": "text",
    "id": "MZN2cl-n_442"
   },
   "source": [
    "# 2nd approach: pretrained Embeddings + LSTM"
   ]
  },
  {
   "cell_type": "markdown",
   "metadata": {
    "colab_type": "text",
    "id": "1H2cnhc0lxVz"
   },
   "source": [
    "Second approach should be more powerful as it includes word embeddings (vectorized reprezentation of words based on their context and relation between words compared to tf_idf matrix whixh is based on frequencies only) and LSTM neural network, which can \"remember\" context (words that were before)."
   ]
  },
  {
   "cell_type": "markdown",
   "metadata": {
    "colab_type": "text",
    "id": "-87_DLwY5nIJ"
   },
   "source": [
    "## Text preprocessing for LSTM"
   ]
  },
  {
   "cell_type": "code",
   "execution_count": 39,
   "metadata": {
    "colab": {
     "base_uri": "https://localhost:8080/",
     "height": 51
    },
    "colab_type": "code",
    "collapsed": false,
    "id": "lPmVWJ5i5rBV",
    "outputId": "4216cbea-fcc0-4d8e-9eaa-c6f05f10957d"
   },
   "outputs": [
    {
     "name": "stdout",
     "output_type": "stream",
     "text": [
      "Found 25218 unique tokens.\n",
      "The longest headline has 40 words.\n"
     ]
    }
   ],
   "source": [
    "# tokenizing and filtering out basic punctuation\n",
    "# I won't turn words to lowercase as I will use cased GloVe embeddings\n",
    "# so that \"Bush\" can have a different embedding from \"bush\"\n",
    "tokenizer = Tokenizer(lower=False)\n",
    "tokenizer.fit_on_texts(X_train)\n",
    "\n",
    "# dictionary mapping words (str) to their index (int)\n",
    "word_index = tokenizer.word_index\n",
    "print(f\"Found {len(word_index)} unique tokens.\")\n",
    "\n",
    "# turning texts into sequences (list of word indexes)\n",
    "sequences_train = tokenizer.texts_to_sequences(X_train)\n",
    "sequences_test = tokenizer.texts_to_sequences(X_test)\n",
    "sequences_val = tokenizer.texts_to_sequences(X_val)\n",
    "\n",
    "# checking the length of the longest headline\n",
    "max_len = max([len(x) for x in sequences_train+sequences_val+sequences_test])\n",
    "print(f\"The longest headline has {max_len} words.\")\n",
    "\n",
    "# padding sequences so that they are of equal length\n",
    "X_train_nn = sequence.pad_sequences(sequences_train, max_len)\n",
    "X_test_nn = sequence.pad_sequences(sequences_test, max_len)\n",
    "X_val_nn = sequence.pad_sequences(sequences_val, max_len)"
   ]
  },
  {
   "cell_type": "markdown",
   "metadata": {
    "colab_type": "text",
    "id": "CPD8wMx9IDpw"
   },
   "source": [
    "## Loading and filtering embeddings"
   ]
  },
  {
   "cell_type": "markdown",
   "metadata": {
    "colab_type": "text",
    "id": "iD4EHAKDASmJ"
   },
   "source": [
    "Almost 27 000 headlines don't seem enough data to train powerful word-embeddings on them. I will use pre-trained GloVe embedings trained on Common Crawl corpus with 840B tokens and 2.2M vocab, cased. I will load it from a pickled file."
   ]
  },
  {
   "cell_type": "code",
   "execution_count": 0,
   "metadata": {
    "colab": {},
    "colab_type": "code",
    "collapsed": true,
    "id": "37HDytnp_y6H"
   },
   "outputs": [],
   "source": [
    "def load_embeddings(path):\n",
    "    '''Function to load pre-trained embeddings from pickled file.'''\n",
    "    with open(path,'rb') as f:\n",
    "        emb_arr = joblib.load(f)\n",
    "    return emb_arr\n",
    "  \n",
    "def build_matrix(word_index, path):\n",
    "    '''Function to bild matrix with embeddings for words in our vocabulary'''\n",
    "    emb_index = load_embeddings(path)\n",
    "    emb_matrix = np.zeros((len(word_index), 300))\n",
    "    unknown_words = []\n",
    "    \n",
    "    for w, i in word_index.items():\n",
    "      try:\n",
    "        vect = emb_index[w]\n",
    "        if vect is not None:\n",
    "          emb_matrix[i] = vect\n",
    "      except:\n",
    "        unknown_words.append(w)\n",
    "    return emb_matrix, unknown_words"
   ]
  },
  {
   "cell_type": "code",
   "execution_count": 0,
   "metadata": {
    "colab": {},
    "colab_type": "code",
    "collapsed": true,
    "id": "TCXgw0jP_Olt"
   },
   "outputs": [],
   "source": [
    "path_to_ebeddings = '/data/raw/glove.840B.300d.pkl'\n",
    "emb_matrix, unknown_words = build_matrix(word_index, path_to_ebeddings)"
   ]
  },
  {
   "cell_type": "code",
   "execution_count": 0,
   "metadata": {
    "colab": {
     "base_uri": "https://localhost:8080/",
     "height": 34
    },
    "colab_type": "code",
    "collapsed": false,
    "id": "y_sh88wuF7Y6",
    "outputId": "ec177e41-a777-439c-f123-1a9dbd6049c1"
   },
   "outputs": [
    {
     "name": "stdout",
     "output_type": "stream",
     "text": [
      "% of unknown words:  0.1823300816876834\n"
     ]
    }
   ],
   "source": [
    "print('% of unknown words: ', len(unknown_words)/len(word_index))"
   ]
  },
  {
   "cell_type": "markdown",
   "metadata": {
    "colab_type": "text",
    "id": "fwcM_0vIGXAF"
   },
   "source": [
    "Only less than 20% of words don't have embedding, that's a promising output."
   ]
  },
  {
   "cell_type": "code",
   "execution_count": 0,
   "metadata": {
    "colab": {},
    "colab_type": "code",
    "collapsed": true,
    "id": "U9Ac3K64-3u3"
   },
   "outputs": [],
   "source": [
    "# saving matrix with filtered embeddings \n",
    "joblib.dump(emb_matrix, \"emb_matrix.joblib\")"
   ]
  },
  {
   "cell_type": "code",
   "execution_count": 0,
   "metadata": {
    "colab": {},
    "colab_type": "code",
    "collapsed": true,
    "id": "a2ipNdoqCwsu"
   },
   "outputs": [],
   "source": [
    "# opening matrix with filtered embeddings\n",
    "emb_matrix = joblib.load(\"/content/gdrive/My Drive/zadanie_Roche/emb_matrix.joblib\") #to remove!!!\n",
    "emb_matrix = joblib.load('/models/emb_matrix.joblib')"
   ]
  },
  {
   "cell_type": "markdown",
   "metadata": {
    "colab_type": "text",
    "id": "8y9ezUOjIHpY"
   },
   "source": [
    "## Training NN"
   ]
  },
  {
   "cell_type": "markdown",
   "metadata": {
    "colab_type": "text",
    "id": "MsbLNbv7INaZ"
   },
   "source": [
    "Preprocessed texts and embeddings can be fed into Neural Network. I test several different architectures basing on LSTM."
   ]
  },
  {
   "cell_type": "code",
   "execution_count": 0,
   "metadata": {
    "colab": {},
    "colab_type": "code",
    "collapsed": true,
    "id": "9bWIUxdQGkUZ"
   },
   "outputs": [],
   "source": [
    "def build_lstm_model(list_of_layers):\n",
    "  \n",
    "  model = Sequential()\n",
    "  model.add(Embedding(emb_matrix.shape[0],\n",
    "                      emb_matrix.shape[1], \n",
    "                      input_length=max_len,\n",
    "                      weights = [emb_matrix], \n",
    "                      trainable = False))\n",
    "  for layer in list_of_layers:\n",
    "    model.add(layer)\n",
    "  model.summary() \n",
    "  \n",
    "  model.compile(loss=\"binary_crossentropy\",\n",
    "               optimizer=\"adam\", \n",
    "               metrics=[\"binary_accuracy\"])\n",
    "  return model"
   ]
  },
  {
   "cell_type": "code",
   "execution_count": 0,
   "metadata": {
    "colab": {},
    "colab_type": "code",
    "collapsed": true,
    "id": "uetMWHsxLgl9"
   },
   "outputs": [],
   "source": [
    "def evaluate_lstm_model(model, X_train, X_val, y_train, y_val, filename, batch_size=32, early_stopping=False):\n",
    "\n",
    "  take_best_model = ModelCheckpoint(str(filename)+\".h5py\", save_best_only=True)\n",
    "  \n",
    "  if early_stopping == True:\n",
    "    early_stopping = EarlyStopping(patience=10, monitor=\"val_loss\")\n",
    "    history = model.fit(X_train, y_train, epochs=50, validation_split=0.2,\n",
    "              batch_size=batch_size, \n",
    "              callbacks=[early_stopping, take_best_model])\n",
    "   \n",
    "  else:\n",
    "    history = model.fit(X_train, y_train, epochs=50, validation_split=0.2,\n",
    "              batch_size=batch_size, \n",
    "              callbacks=[take_best_model])\n",
    "  \n",
    "  joblib.dump(history, filename)\n",
    "\n",
    "  model.load_weights(str(filename)+\".h5py\")\n",
    "  return model.evaluate(X_val, y_val)[1]"
   ]
  },
  {
   "cell_type": "markdown",
   "metadata": {
    "colab_type": "text",
    "id": "XIXeMaOvaedp"
   },
   "source": [
    "Following architectures might be too extensive for the given problem but first I want to check if they overfit and if they do, I will prune them."
   ]
  },
  {
   "cell_type": "code",
   "execution_count": 0,
   "metadata": {
    "colab": {},
    "colab_type": "code",
    "collapsed": true,
    "id": "LEpGOqYUULtN"
   },
   "outputs": [],
   "source": [
    "models = {        \n",
    "          \"LSTM_200_100_50\":      [LSTM(200, return_sequences=True),\n",
    "                             LSTM(100, return_sequences=True),\n",
    "                             LSTM(50),\n",
    "                                  Dense(1, activation=\"sigmoid\")],\n",
    "          \n",
    "          \"BiLSTM_100_50\":          [Bidirectional(LSTM(100, return_sequences=True)),\n",
    "                                     Bidirectional(LSTM(50)),\n",
    "                                  Dense(1, activation=\"sigmoid\")],\n",
    "          \n",
    "          \"LSTM_200_100\":    [LSTM(200, return_sequences=True),\n",
    "                                  LSTM(100),\n",
    "                                  Dense(1, activation=\"sigmoid\")]\n",
    "}"
   ]
  },
  {
   "cell_type": "code",
   "execution_count": 0,
   "metadata": {
    "colab": {},
    "colab_type": "code",
    "collapsed": true,
    "id": "1H4D2mClNCuY"
   },
   "outputs": [],
   "source": [
    "# building and evaluating models using functions from build_evaluate_nn module\n",
    "lst = []\n",
    "for model, params in models.items():\n",
    "  acc = (evaluate_lstm_model(build_lstm_model(params), X_train_nn, X_val_nn, y_train, y_val, model, early_stopping=False))\n",
    "  lst.append(acc)"
   ]
  },
  {
   "cell_type": "code",
   "execution_count": 0,
   "metadata": {
    "colab": {},
    "colab_type": "code",
    "collapsed": true,
    "id": "UC5lEMgC2ZAG"
   },
   "outputs": [],
   "source": [
    "# printing accuracy of models\n",
    "model_results = pd.DataFrame(list(zip(models.keys(), lst)), columns=[\"model\", \"accuracy_val\"]).sort_values(by=\"accuracy_val\", ascending=False).reset_index(drop=True)"
   ]
  },
  {
   "cell_type": "code",
   "execution_count": 46,
   "metadata": {
    "colab": {
     "base_uri": "https://localhost:8080/",
     "height": 142
    },
    "colab_type": "code",
    "collapsed": false,
    "id": "cVe_n11j2kYw",
    "outputId": "b77f4344-7a95-4589-dc72-cafe984af7df"
   },
   "outputs": [
    {
     "data": {
      "text/html": [
       "<div>\n",
       "<style scoped>\n",
       "    .dataframe tbody tr th:only-of-type {\n",
       "        vertical-align: middle;\n",
       "    }\n",
       "\n",
       "    .dataframe tbody tr th {\n",
       "        vertical-align: top;\n",
       "    }\n",
       "\n",
       "    .dataframe thead th {\n",
       "        text-align: right;\n",
       "    }\n",
       "</style>\n",
       "<table border=\"1\" class=\"dataframe\">\n",
       "  <thead>\n",
       "    <tr style=\"text-align: right;\">\n",
       "      <th></th>\n",
       "      <th>model</th>\n",
       "      <th>accuracy_val</th>\n",
       "    </tr>\n",
       "  </thead>\n",
       "  <tbody>\n",
       "    <tr>\n",
       "      <th>0</th>\n",
       "      <td>LSTM_200_100</td>\n",
       "      <td>0.868761</td>\n",
       "    </tr>\n",
       "    <tr>\n",
       "      <th>1</th>\n",
       "      <td>BiLSTM_100_50</td>\n",
       "      <td>0.863770</td>\n",
       "    </tr>\n",
       "    <tr>\n",
       "      <th>2</th>\n",
       "      <td>LSTM_200_100_50</td>\n",
       "      <td>0.858485</td>\n",
       "    </tr>\n",
       "  </tbody>\n",
       "</table>\n",
       "</div>"
      ],
      "text/plain": [
       "             model  accuracy_val\n",
       "0     LSTM_200_100      0.868761\n",
       "1    BiLSTM_100_50      0.863770\n",
       "2  LSTM_200_100_50      0.858485"
      ]
     },
     "execution_count": 46,
     "metadata": {
      "tags": []
     },
     "output_type": "execute_result"
    }
   ],
   "source": [
    "model_results"
   ]
  },
  {
   "cell_type": "markdown",
   "metadata": {
    "colab_type": "text",
    "id": "KjkUajwNsjNI"
   },
   "source": [
    "The differences between models' accuracy on validation set are rather small with the simplest model having the highest score. This may be indicative of overfitting. Let's check by plotting accuracy and loss during training."
   ]
  },
  {
   "cell_type": "code",
   "execution_count": 0,
   "metadata": {
    "colab": {},
    "colab_type": "code",
    "collapsed": true,
    "id": "OkSypmGZNQvt"
   },
   "outputs": [],
   "source": [
    "def plot_accuracy(path, models):\n",
    "  '''Function to plot accuracy on train and validation sets.'''\n",
    "  for model in models:\n",
    "    history = joblib.load(os.path.join(path_to_results, model))\n",
    "    plt.plot(history.history['binary_accuracy'])\n",
    "    plt.plot(history.history['val_binary_accuracy'])\n",
    "    plt.title(f\"model {model} accuracy\")\n",
    "    plt.ylabel('accuracy')\n",
    "    plt.ylim(0.6, 1)\n",
    "    plt.xlabel('epoch')\n",
    "    plt.legend(['train', 'valid'], loc='upper left')\n",
    "    plt.show()"
   ]
  },
  {
   "cell_type": "code",
   "execution_count": 0,
   "metadata": {
    "colab": {},
    "colab_type": "code",
    "collapsed": true,
    "id": "LOdFQyPCqzuB"
   },
   "outputs": [],
   "source": [
    "def plot_loss(path, models):\n",
    "  '''Function to plot loss on train and validation sets.'''\n",
    "  for model in models:\n",
    "    history = joblib.load(os.path.join(path_to_results, model))\n",
    "    plt.plot(history.history['loss'])\n",
    "    plt.plot(history.history['val_loss'])\n",
    "    plt.title(f\"model {model} loss\")\n",
    "    plt.ylabel('loss')\n",
    "    #plt.ylim(0.6, 1)\n",
    "    plt.xlabel('epoch')\n",
    "    plt.legend(['train', 'valid'], loc='upper left')\n",
    "    plt.show()"
   ]
  },
  {
   "cell_type": "code",
   "execution_count": 53,
   "metadata": {
    "colab": {
     "base_uri": "https://localhost:8080/",
     "height": 851
    },
    "colab_type": "code",
    "collapsed": false,
    "id": "Wfg9E5hQ2sOQ",
    "outputId": "56a54d71-c896-4058-e77d-f069c2a1a6b8"
   },
   "outputs": [
    {
     "data": {
      "image/png": "[encoded data removed]",
      "text/plain": [
       "<Figure size 432x288 with 1 Axes>"
      ]
     },
     "metadata": {
      "tags": []
     },
     "output_type": "display_data"
    },
    {
     "data": {
      "image/png": "[encoded data removed]",
      "text/plain": [
       "<Figure size 432x288 with 1 Axes>"
      ]
     },
     "metadata": {
      "tags": []
     },
     "output_type": "display_data"
    },
    {
     "data": {
      "image/png": "[encoded data removed]",
      "text/plain": [
       "<Figure size 432x288 with 1 Axes>"
      ]
     },
     "metadata": {
      "tags": []
     },
     "output_type": "display_data"
    }
   ],
   "source": [
    "# plotting accuracy of models for train and validation sets using plot_accuracy_loss module\n",
    "path_to_results = \"/content/gdrive/My Drive/zadanie_Roche/models\" # to remove!!!\n",
    "#path_to_results = \"/models\"\n",
    "plot_accuracy(path_to_results, models)"
   ]
  },
  {
   "cell_type": "code",
   "execution_count": 54,
   "metadata": {
    "colab": {
     "base_uri": "https://localhost:8080/",
     "height": 851
    },
    "colab_type": "code",
    "collapsed": false,
    "id": "JhAXOsz1BhrD",
    "outputId": "d37c7952-c791-4c92-d90f-1a839c6f481e"
   },
   "outputs": [
    {
     "data": {
      "image/png": "[encoded data removed]",
      "text/plain": [
       "<Figure size 432x288 with 1 Axes>"
      ]
     },
     "metadata": {
      "tags": []
     },
     "output_type": "display_data"
    },
    {
     "data": {
      "image/png": "[encoded data removed]",
      "text/plain": [
       "<Figure size 432x288 with 1 Axes>"
      ]
     },
     "metadata": {
      "tags": []
     },
     "output_type": "display_data"
    },
    {
     "data": {
      "image/png": "[encoded data removed]",
      "text/plain": [
       "<Figure size 432x288 with 1 Axes>"
      ]
     },
     "metadata": {
      "tags": []
     },
     "output_type": "display_data"
    }
   ],
   "source": [
    "plot_loss(path_to_results, models)"
   ]
  },
  {
   "cell_type": "markdown",
   "metadata": {
    "colab_type": "text",
    "id": "ezG5t0AityWx"
   },
   "source": [
    "Plots of accuracy and loss suggest that models are heavily overfitted. Accuracy on the train set was raising until it reached 100%, wheras the accuracy on the validation set was almost constant. There was also a huge discrepancy between loss on train set and validation set with the latter one even sharply rising for the las two models after ca. 25 epoch. The architectures are probably too big for the problem at hand and 50 epochs seems to be too long a training. So I will prune the networks and add Early Stopping callback, so that the network stops learning when the loss on validation set isn't falling anymore."
   ]
  },
  {
   "cell_type": "code",
   "execution_count": 0,
   "metadata": {
    "colab": {},
    "colab_type": "code",
    "collapsed": true,
    "id": "nNGMAYp3Lxce"
   },
   "outputs": [],
   "source": [
    "models = {        \n",
    "          \"LSTM_100n\":      [LSTM(100),\n",
    "                                  Dense(1, activation=\"sigmoid\")],\n",
    "          \n",
    "          \"BiLSTM_50n\":          [Bidirectional(LSTM(50)),\n",
    "                                  Dense(1, activation=\"sigmoid\")],\n",
    "          \n",
    "          \"LSTM_50n_30n\":    [LSTM(50, return_sequences=True),\n",
    "                                  LSTM(30),\n",
    "                                  Dense(1, activation=\"sigmoid\")],\n",
    "                                        \n",
    "          \"LSTM_MultipleDense\":     [LSTM(100),\n",
    "                                  Dense(30, activation=\"relu\"),\n",
    "                                  Dense(1, activation=\"sigmoid\")]\n",
    "}"
   ]
  },
  {
   "cell_type": "code",
   "execution_count": 0,
   "metadata": {
    "colab": {
     "base_uri": "https://localhost:8080/",
     "height": 1122
    },
    "colab_type": "code",
    "collapsed": false,
    "id": "S7OZHp6UDWjT",
    "outputId": "c21d21db-2d89-42c8-fa2c-180b09ec2f24"
   },
   "outputs": [
    {
     "name": "stdout",
     "output_type": "stream",
     "text": [
      "_________________________________________________________________\n",
      "Layer (type)                 Output Shape              Param #   \n",
      "=================================================================\n",
      "embedding_6 (Embedding)      (None, 40, 300)           7565400   \n",
      "_________________________________________________________________\n",
      "lstm_18 (LSTM)               (None, 100)               160400    \n",
      "_________________________________________________________________\n",
      "dense_10 (Dense)             (None, 1)                 101       \n",
      "=================================================================\n",
      "Total params: 7,725,901\n",
      "Trainable params: 160,501\n",
      "Non-trainable params: 7,565,400\n",
      "_________________________________________________________________\n",
      "Train on 15436 samples, validate on 3860 samples\n",
      "Epoch 1/50\n",
      "15436/15436 [==============================] - 55s 4ms/step - loss: 0.4265 - binary_accuracy: 0.8002 - val_loss: 0.3575 - val_binary_accuracy: 0.8430\n",
      "Epoch 2/50\n",
      "15436/15436 [==============================] - 48s 3ms/step - loss: 0.3020 - binary_accuracy: 0.8739 - val_loss: 0.3245 - val_binary_accuracy: 0.8692\n",
      "Epoch 3/50\n",
      "15436/15436 [==============================] - 47s 3ms/step - loss: 0.2369 - binary_accuracy: 0.9031 - val_loss: 0.3106 - val_binary_accuracy: 0.8712\n",
      "Epoch 4/50\n",
      "15436/15436 [==============================] - 47s 3ms/step - loss: 0.1813 - binary_accuracy: 0.9285 - val_loss: 0.3165 - val_binary_accuracy: 0.8764\n",
      "Epoch 5/50\n",
      "15436/15436 [==============================] - 49s 3ms/step - loss: 0.1285 - binary_accuracy: 0.9526 - val_loss: 0.3464 - val_binary_accuracy: 0.8731\n",
      "Epoch 6/50\n",
      "15436/15436 [==============================] - 49s 3ms/step - loss: 0.0826 - binary_accuracy: 0.9706 - val_loss: 0.4008 - val_binary_accuracy: 0.8723\n",
      "Epoch 7/50\n",
      "15436/15436 [==============================] - 49s 3ms/step - loss: 0.0551 - binary_accuracy: 0.9825 - val_loss: 0.4208 - val_binary_accuracy: 0.8736\n",
      "Epoch 8/50\n",
      "15436/15436 [==============================] - 49s 3ms/step - loss: 0.0308 - binary_accuracy: 0.9909 - val_loss: 0.5231 - val_binary_accuracy: 0.8689\n",
      "Epoch 9/50\n",
      "15436/15436 [==============================] - 49s 3ms/step - loss: 0.0284 - binary_accuracy: 0.9927 - val_loss: 0.5707 - val_binary_accuracy: 0.8687\n",
      "Epoch 10/50\n",
      "15436/15436 [==============================] - 49s 3ms/step - loss: 0.0183 - binary_accuracy: 0.9953 - val_loss: 0.5723 - val_binary_accuracy: 0.8715\n",
      "Epoch 11/50\n",
      "15436/15436 [==============================] - 49s 3ms/step - loss: 0.0134 - binary_accuracy: 0.9970 - val_loss: 0.6387 - val_binary_accuracy: 0.8679\n",
      "Epoch 12/50\n",
      "15436/15436 [==============================] - 48s 3ms/step - loss: 0.0154 - binary_accuracy: 0.9959 - val_loss: 0.6327 - val_binary_accuracy: 0.8681\n",
      "Epoch 13/50\n",
      "15436/15436 [==============================] - 49s 3ms/step - loss: 0.0178 - binary_accuracy: 0.9948 - val_loss: 0.6096 - val_binary_accuracy: 0.8746\n",
      "3406/3406 [==============================] - 4s 1ms/step\n",
      "_________________________________________________________________\n",
      "Layer (type)                 Output Shape              Param #   \n",
      "=================================================================\n",
      "embedding_7 (Embedding)      (None, 40, 300)           7565400   \n",
      "_________________________________________________________________\n",
      "bidirectional_5 (Bidirection (None, 100)               140400    \n",
      "_________________________________________________________________\n",
      "dense_11 (Dense)             (None, 1)                 101       \n",
      "=================================================================\n",
      "Total params: 7,705,901\n",
      "Trainable params: 140,501\n",
      "Non-trainable params: 7,565,400\n",
      "_________________________________________________________________\n",
      "Train on 15436 samples, validate on 3860 samples\n",
      "Epoch 1/50\n",
      "15436/15436 [==============================] - 105s 7ms/step - loss: 0.4392 - binary_accuracy: 0.7885 - val_loss: 0.3565 - val_binary_accuracy: 0.8425\n",
      "Epoch 2/50\n",
      "15436/15436 [==============================] - 96s 6ms/step - loss: 0.3092 - binary_accuracy: 0.8658 - val_loss: 0.3174 - val_binary_accuracy: 0.8617\n",
      "Epoch 3/50\n",
      "15436/15436 [==============================] - 96s 6ms/step - loss: 0.2467 - binary_accuracy: 0.8989 - val_loss: 0.3121 - val_binary_accuracy: 0.8642\n",
      "Epoch 4/50\n",
      "15436/15436 [==============================] - 96s 6ms/step - loss: 0.1997 - binary_accuracy: 0.9212 - val_loss: 0.3225 - val_binary_accuracy: 0.8687\n",
      "Epoch 5/50\n",
      " 7104/15436 [============>.................] - ETA: 47s - loss: 0.1597 - binary_accuracy: 0.9386"
     ]
    }
   ],
   "source": [
    "# building and evaluating models using functions from build_evaluate_nn module\n",
    "lst = []\n",
    "for model, params in models.items():\n",
    "  acc = (evaluate_lstm_model(build_lstm_model(params), X_train_nn, X_val_nn, y_train, y_val, model, early_stopping=True))\n",
    "  lst.append(acc)"
   ]
  },
  {
   "cell_type": "code",
   "execution_count": 0,
   "metadata": {
    "colab": {},
    "colab_type": "code",
    "collapsed": true,
    "id": "6ThwFwDiDadh"
   },
   "outputs": [],
   "source": [
    "plot_accuracy(path_to_results, models)"
   ]
  },
  {
   "cell_type": "code",
   "execution_count": 0,
   "metadata": {
    "colab": {},
    "colab_type": "code",
    "collapsed": true,
    "id": "bMtVKPtdD2zx"
   },
   "outputs": [],
   "source": [
    "plot_loss(path_to_results, models)"
   ]
  }
 ],
 "metadata": {
  "accelerator": "GPU",
  "colab": {
   "collapsed_sections": [],
   "name": "sarcasm_detection.ipynb",
   "provenance": [],
   "toc_visible": true,
   "version": "0.3.2"
  },
  "kernelspec": {
   "display_name": "Python 3",
   "language": "python",
   "name": "python3"
  },
  "language_info": {
   "codemirror_mode": {
    "name": "ipython",
    "version": 3
   },
   "file_extension": ".py",
   "mimetype": "text/x-python",
   "name": "python",
   "nbconvert_exporter": "python",
   "pygments_lexer": "ipython3",
   "version": "3.6.8"
  }
 },
 "nbformat": 4,
 "nbformat_minor": 0
}
